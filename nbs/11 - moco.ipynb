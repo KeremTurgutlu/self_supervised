{
 "cells": [
  {
   "cell_type": "code",
   "execution_count": null,
   "metadata": {},
   "outputs": [],
   "source": [
    "#default_exp vision.moco"
   ]
  },
  {
   "cell_type": "markdown",
   "metadata": {},
   "source": [
    "# MoCo\n",
    "\n",
    "> **MoCo**: [Momentum Contrast for Unsupervised Visual Representation Learning](https://arxiv.org/pdf/1911.05722.pdf) \n",
    "\n",
    "> **MoCo V2**: [Improved Baselines with Momentum Contrastive Learning](https://arxiv.org/pdf/2003.04297.pdf)"
   ]
  },
  {
   "cell_type": "code",
   "execution_count": null,
   "metadata": {},
   "outputs": [],
   "source": [
    "#export\n",
    "from fastai.vision.all import *\n",
    "from self_supervised.augmentations import *\n",
    "from self_supervised.layers import *"
   ]
  },
  {
   "cell_type": "markdown",
   "metadata": {},
   "source": [
    "## Algorithm"
   ]
  },
  {
   "cell_type": "markdown",
   "metadata": {},
   "source": [
    "#### MoCo "
   ]
  },
  {
   "cell_type": "markdown",
   "metadata": {},
   "source": [
    "![](images/moco.png)"
   ]
  },
  {
   "cell_type": "markdown",
   "metadata": {},
   "source": [
    "**Absract (MoCo V2)**: Contrastive unsupervised learning has recently shown\n",
    "encouraging progress, e.g., in Momentum Contrast (MoCo)\n",
    "and SimCLR. In this note, we verify the effectiveness of two\n",
    "of SimCLR’s design improvements by implementing them in\n",
    "the MoCo framework. With simple modifications to MoCo—\n",
    "namely, using an MLP projection head and more data\n",
    "augmentation—we establish stronger baselines that outperform\n",
    "SimCLR and do not require large training batches. We\n",
    "hope this will make state-of-the-art unsupervised learning\n",
    "research more accessible. Code will be made public."
   ]
  },
  {
   "cell_type": "code",
   "execution_count": null,
   "metadata": {},
   "outputs": [],
   "source": [
    "#export\n",
    "class MoCoModel(Module):\n",
    "    # TODO: Add queue as buffer to torch module, is it needed for distrib??\n",
    "    \"MoCo model\"\n",
    "    def __init__(self,encoder,projector): \n",
    "        self.encoder,self.projector = encoder,projector\n",
    "    \n",
    "    def forward(self,x): \n",
    "        return F.normalize(self.projector(self.encoder(x)), dim=1)"
   ]
  },
  {
   "cell_type": "markdown",
   "metadata": {},
   "source": [
    "You can either use `MoCoModel` module to create a model by passing predefined `encoder` and `projector` models or you can use `create_moco_model` with just passing predefined encoder and expected input channels. In new MoCo paper, model consists of an encoder and a mlp projector following the SimCLR-v2 improvements.\n",
    "\n",
    "You may refer to: [official implementation](https://github.com/facebookresearch/moco/blob/78b69cafae80bc74cd1a89ac3fb365dc20d157d3/moco/builder.py#L126)"
   ]
  },
  {
   "cell_type": "code",
   "execution_count": null,
   "metadata": {},
   "outputs": [],
   "source": [
    "#export\n",
    "def create_moco_model(encoder, hidden_size=256, projection_size=128):\n",
    "    \"Create MoCo model\"\n",
    "    n_in  = in_channels(encoder)\n",
    "    with torch.no_grad(): representation = encoder(torch.randn((2,n_in,128,128)))\n",
    "    projector = create_mlp_module(representation.size(1), hidden_size, projection_size) \n",
    "    apply_init(projector)\n",
    "    return MoCoModel(encoder, projector)"
   ]
  },
  {
   "cell_type": "code",
   "execution_count": null,
   "metadata": {},
   "outputs": [
    {
     "data": {
      "text/plain": [
       "torch.Size([2, 128])"
      ]
     },
     "execution_count": null,
     "metadata": {},
     "output_type": "execute_result"
    }
   ],
   "source": [
    "encoder = create_encoder(\"tf_efficientnet_b0_ns\", n_in=3, pretrained=False, pool_type=PoolingType.CatAvgMax)\n",
    "model = create_moco_model(encoder, hidden_size=2048, projection_size=128)\n",
    "out = model(torch.randn((2,3,224,224))); out.shape"
   ]
  },
  {
   "cell_type": "markdown",
   "metadata": {},
   "source": [
    "## MoCo Callback"
   ]
  },
  {
   "cell_type": "markdown",
   "metadata": {},
   "source": [
    "The following parameters can be passed;\n",
    "\n",
    "- **K** is queue size. For simplicity K needs to be a multiple of batch size and it needs to be less than total training data. You can try out different values e.g. `bs*2^k` by varying k where bs i batch size.\n",
    "- **m** is momentum for key encoder update. `0.999` is a good default according to the paper.\n",
    "- **aug_pipelines** list of augmentation pipelines List[Pipeline] created using functions from `self_supervised.augmentations` module. Each `Pipeline` should be set to `split_idx=0`. You can simply use `get_moco_aug_pipelines` utility to get aug_pipelines.\n",
    "- **temp** temperature scaling for cross entropy loss similar to `SimCLR`\n",
    "\n",
    "\n",
    "You may refer to [official implementation](https://github.com/facebookresearch/moco/)\n",
    "\n",
    "Our implementation doesn't uses [shuffle BN](https://github.com/facebookresearch/moco/blob/78b69cafae80bc74cd1a89ac3fb365dc20d157d3/moco/builder.py#L69) and instead it uses current batch for both positives and negatives during loss calculation. This should handle the \"signature\" issue coming from batchnorm which is argued to be allowing model to cheat for same batch positives. This modification not only creates simplicity but also allows training with a single GPU. Official Shuffle BN implementation depends on DDP (DistributedDataParallel) and only supports multiple GPU environments. Unfortunately, not everyone has access to multiple GPUs and we hope with this modification MoCo will be more accessible now.\n",
    "\n",
    "For more details about our proposed custom implementation you may refer to this [Github issue](https://github.com/facebookresearch/moco/issues/24#issuecomment-787201146)."
   ]
  },
  {
   "cell_type": "markdown",
   "metadata": {},
   "source": [
    "MoCo algorithm uses 2 views of a given image, and `MOCO` callback expects a list of 2 augmentation pipelines in `aug_pipelines`.\n",
    "\n",
    "You can simply use helper function `get_moco_aug_pipelines()` which will only except augmentation related arguments such as size, rotate, jitter...and will return a list of 2 pipelines, which we can be passed to the callback. This function uses `get_multi_aug_pipelines` which then `get_batch_augs`. For more information you may refer to `self_supervised.augmentations` module.\n",
    "\n",
    "Also, you may choose to pass your own list of aug_pipelines which needs to be List[Pipeline, Pipeline] where Pipeline(..., split_idx=0). Here, `split_idx=0` forces augmentations to be applied in training mode."
   ]
  },
  {
   "cell_type": "code",
   "execution_count": null,
   "metadata": {},
   "outputs": [],
   "source": [
    "#export\n",
    "@delegates(get_multi_aug_pipelines)\n",
    "def get_moco_aug_pipelines(size, **kwargs): return get_multi_aug_pipelines(n=2, size=size, **kwargs)"
   ]
  },
  {
   "cell_type": "code",
   "execution_count": null,
   "metadata": {},
   "outputs": [],
   "source": [
    "#export\n",
    "from copy import deepcopy\n",
    "\n",
    "class MOCO(Callback):\n",
    "    order,run_valid = 9,True\n",
    "    def __init__(self, K,  m=0.999, aug_pipelines=[], temp=0.07, print_augs=False):        \n",
    "        assert_aug_pipelines(aug_pipelines)\n",
    "        self.aug1, self.aug2 = aug_pipelines\n",
    "        if print_augs: print(self.aug1), print(self.aug2)\n",
    "        store_attr('K,m,temp')\n",
    "\n",
    "            \n",
    "    def before_fit(self):\n",
    "        \"Create key encoder and init queue\"\n",
    "        if (not hasattr(self, \"encoder_k\")) and (not hasattr(self, \"queue\")):\n",
    "            # init key encoder\n",
    "            self.encoder_k = deepcopy(self.learn.model).to(self.dls.device)  \n",
    "            for param_k in self.encoder_k.parameters(): param_k.requires_grad = False \n",
    "            # init queue\n",
    "            nf = self.learn.model.projector[-1].out_features\n",
    "            self.queue = torch.randn(self.K, nf).to(self.dls.device)\n",
    "            self.queue = nn.functional.normalize(self.queue, dim=1)\n",
    "            self.queue_ptr = 0\n",
    "        else: raise Exception(\"Key encoder and queue is already defined\")\n",
    "\n",
    "        self.learn.loss_func = self.lf\n",
    "        \n",
    "        \n",
    "    def before_batch(self):\n",
    "        \"Generate query and key for the current batch\"\n",
    "        q_img,k_img = self.aug1(self.x), self.aug2(self.x.clone())\n",
    "        self.learn.xb = (q_img,)\n",
    "        with torch.no_grad(): self.learn.yb = (self.encoder_k(k_img),)\n",
    "\n",
    "    \n",
    "    def lf(self, pred, *yb):\n",
    "        q,k = pred,yb[0]\n",
    "        logits = q @ torch.cat([k, self.queue]).T / self.temp # Nx(N+K) instead of original Nx(1+K)\n",
    "        labels = torch.arange(len(q)).to(self.dls.device)\n",
    "        return F.cross_entropy(logits, labels)\n",
    "            \n",
    "\n",
    "    @torch.no_grad()\n",
    "    def _momentum_update_key_encoder(self):\n",
    "        for param_q, param_k in zip(self.learn.model.parameters(), self.encoder_k.parameters()):\n",
    "            param_k.data = param_k.data * self.m + param_q.data * (1. - self.m)\n",
    "\n",
    "            \n",
    "    @torch.no_grad()\n",
    "    def _dequeue_and_enqueue(self):\n",
    "        bs = self.x.size(0)\n",
    "        k = self.y\n",
    "        assert self.K % bs == 0  # for simplicity\n",
    "        self.queue[self.queue_ptr:self.queue_ptr+bs, :] = k\n",
    "        self.queue_ptr = (self.queue_ptr + bs) % self.K  # move pointer\n",
    "\n",
    "    \n",
    "    def after_step(self):\n",
    "        \"Update momentum (key) encoder and queue\"\n",
    "        self._momentum_update_key_encoder()\n",
    "        self._dequeue_and_enqueue()\n",
    "          \n",
    "            \n",
    "    @torch.no_grad()\n",
    "    def show(self, n=1):\n",
    "        x1,x2  = self.aug1(self.x), self.aug2(self.x.clone())\n",
    "        bs = x1.size(0)\n",
    "        idxs = np.random.choice(range(bs),n,False)\n",
    "        x1 = self.aug1.decode(x1[idxs].to('cpu').clone()).clamp(0,1)\n",
    "        x2 = self.aug2.decode(x2[idxs].to('cpu').clone()).clamp(0,1)\n",
    "        images = []\n",
    "        for i in range(n): images += [x1[i],x2[i]] \n",
    "        return show_batch(x1[0], None, images, max_n=n * n, ncols=None, nrows=n)"
   ]
  },
  {
   "cell_type": "markdown",
   "metadata": {},
   "source": [
    "### Example Usage"
   ]
  },
  {
   "cell_type": "code",
   "execution_count": null,
   "metadata": {},
   "outputs": [],
   "source": [
    "path = untar_data(URLs.MNIST_TINY)\n",
    "items = get_image_files(path)\n",
    "tds = Datasets(items, [PILImageBW.create, [parent_label, Categorize()]], splits=GrandparentSplitter()(items))\n",
    "dls = tds.dataloaders(bs=8, after_item=[ToTensor(), IntToFloatTensor()], device='cpu')"
   ]
  },
  {
   "cell_type": "code",
   "execution_count": null,
   "metadata": {},
   "outputs": [
    {
     "name": "stdout",
     "output_type": "stream",
     "text": [
      "Pipeline: RandomResizedCrop -> RandomHorizontalFlip\n",
      "Pipeline: RandomResizedCrop -> RandomHorizontalFlip\n"
     ]
    }
   ],
   "source": [
    "fastai_encoder = create_encoder('xresnet18', n_in=1, pretrained=False)\n",
    "model = create_moco_model(fastai_encoder, hidden_size=1024, projection_size=128)\n",
    "aug_pipelines = get_moco_aug_pipelines(size=28, rotate=False, jitter=False, bw=False, blur=False, stats=None, cuda=False)\n",
    "learn = Learner(dls, model, cbs=[MOCO(K=128, aug_pipelines=aug_pipelines, print_augs=True), ShortEpochCallback(0.001)])"
   ]
  },
  {
   "cell_type": "code",
   "execution_count": null,
   "metadata": {},
   "outputs": [
    {
     "data": {
      "image/png": "[encoded data removed]",
      "text/plain": [
       "<Figure size 432x1080 with 10 Axes>"
      ]
     },
     "metadata": {
      "needs_background": "light"
     },
     "output_type": "display_data"
    }
   ],
   "source": [
    "b = dls.one_batch()\n",
    "learn._split(b)\n",
    "learn.pred = learn.model(*learn.xb)\n",
    "axes = learn.moco.show(n=5)"
   ]
  },
  {
   "cell_type": "code",
   "execution_count": null,
   "metadata": {},
   "outputs": [
    {
     "data": {
      "text/html": [
       "<table border=\"1\" class=\"dataframe\">\n",
       "  <thead>\n",
       "    <tr style=\"text-align: left;\">\n",
       "      <th>epoch</th>\n",
       "      <th>train_loss</th>\n",
       "      <th>valid_loss</th>\n",
       "      <th>time</th>\n",
       "    </tr>\n",
       "  </thead>\n",
       "  <tbody>\n",
       "    <tr>\n",
       "      <td>0</td>\n",
       "      <td>00:01</td>\n",
       "    </tr>\n",
       "  </tbody>\n",
       "</table>"
      ],
      "text/plain": [
       "<IPython.core.display.HTML object>"
      ]
     },
     "metadata": {},
     "output_type": "display_data"
    }
   ],
   "source": [
    "learn.fit(1)"
   ]
  },
  {
   "cell_type": "code",
   "execution_count": null,
   "metadata": {},
   "outputs": [
    {
     "data": {
      "text/plain": [
       "[tensor(1.6029)]"
      ]
     },
     "execution_count": null,
     "metadata": {},
     "output_type": "execute_result"
    }
   ],
   "source": [
    "learn.recorder.losses"
   ]
  },
  {
   "cell_type": "markdown",
   "metadata": {},
   "source": [
    "## Export -"
   ]
  },
  {
   "cell_type": "code",
   "execution_count": null,
   "metadata": {},
   "outputs": [
    {
     "name": "stdout",
     "output_type": "stream",
     "text": [
      "Converted 01 - augmentations.ipynb.\n",
      "Converted 02 - layers.ipynb.\n",
      "Converted 03 - distributed.ipynb.\n",
      "Converted 10 - simclr.ipynb.\n",
      "Converted 11 - moco.ipynb.\n",
      "Converted 12 - byol.ipynb.\n",
      "Converted 13 - swav.ipynb.\n",
      "Converted 20 - clip.ipynb.\n",
      "Converted 21 - clip-moco.ipynb.\n",
      "Converted index.ipynb.\n"
     ]
    }
   ],
   "source": [
    "#hide\n",
    "from nbdev.export import notebook2script\n",
    "notebook2script()"
   ]
  },
  {
   "cell_type": "code",
   "execution_count": null,
   "metadata": {},
   "outputs": [],
   "source": []
  },
  {
   "cell_type": "code",
   "execution_count": null,
   "metadata": {},
   "outputs": [],
   "source": []
  }
 ],
 "metadata": {
  "kernelspec": {
   "display_name": "Python 3",
   "language": "python",
   "name": "python3"
  }
 },
 "nbformat": 4,
 "nbformat_minor": 4
}
