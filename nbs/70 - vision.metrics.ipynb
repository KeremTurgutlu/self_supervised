{
 "cells": [
  {
   "cell_type": "code",
   "execution_count": null,
   "metadata": {},
   "outputs": [],
   "source": [
    "# default_exp vision.metrics"
   ]
  },
  {
   "cell_type": "markdown",
   "metadata": {},
   "source": [
    "# Vision.Metrics\n",
    "\n",
    "> Metrics for tracking performance of self-supervised training during pretraining. Aims to give an idea about the quality of the learned representations during training in the presence of a labeled validation set."
   ]
  },
  {
   "cell_type": "code",
   "execution_count": null,
   "metadata": {},
   "outputs": [],
   "source": [
    "#export\n",
    "from fastai.vision.all import *"
   ]
  },
  {
   "cell_type": "code",
   "execution_count": null,
   "metadata": {},
   "outputs": [],
   "source": [
    "#export\n",
    "class KNNProxyMetric(Callback):\n",
    "    \"knn@1 accuracy for validation\"\n",
    "    order,run_train,run_valid=8,False,True\n",
    "            \n",
    "    def before_batch(self):\n",
    "        self.orig_x, self.orig_y = self.x, self.y\n",
    "    \n",
    "    def before_validate(self):\n",
    "        self.embs = tensor([]).to(self.dls.device)\n",
    "        self.targs = tensor([]).to(self.dls.device)\n",
    "        \n",
    "    def after_pred(self):\n",
    "        self.embs = torch.cat([self.embs, self.model.encoder(self.orig_x)])\n",
    "        self.targs = torch.cat([self.targs, self.orig_y])\n",
    "  \n",
    "    def accuracy(self): \n",
    "        self.embs = F.normalize(self.embs)\n",
    "        sim = self.embs @ self.embs.T\n",
    "        nearest_neighbor = sim.argsort(dim=1, descending=True)[:,2]\n",
    "        return (self.targs == self.targs[nearest_neighbor]).float().mean()\n",
    "        \n",
    "    def after_fit(self):\n",
    "        del self.embs, self.targs\n",
    "        torch.cuda.empty_cache()"
   ]
  },
  {
   "cell_type": "markdown",
   "metadata": {},
   "source": [
    "## Export -"
   ]
  },
  {
   "cell_type": "code",
   "execution_count": null,
   "metadata": {},
   "outputs": [
    {
     "name": "stdout",
     "output_type": "stream",
     "text": [
      "Converted 01 - augmentations.ipynb.\n",
      "Converted 02 - layers.ipynb.\n",
      "Converted 03 - distributed.ipynb.\n",
      "Converted 10 - simclr.ipynb.\n",
      "Converted 11 - moco.ipynb.\n",
      "Converted 12 - byol.ipynb.\n",
      "Converted 13 - swav.ipynb.\n",
      "Converted 14 - barlow_twins.ipynb.\n",
      "Converted 20 - clip.ipynb.\n",
      "Converted 21 - clip-moco.ipynb.\n",
      "Converted 70 - vision.metrics.ipynb.\n",
      "Converted index.ipynb.\n"
     ]
    }
   ],
   "source": [
    "#hide\n",
    "from nbdev.export import notebook2script\n",
    "notebook2script()"
   ]
  },
  {
   "cell_type": "code",
   "execution_count": null,
   "metadata": {},
   "outputs": [],
   "source": []
  },
  {
   "cell_type": "code",
   "execution_count": null,
   "metadata": {},
   "outputs": [],
   "source": []
  }
 ],
 "metadata": {
  "kernelspec": {
   "display_name": "Python 3",
   "language": "python",
   "name": "python3"
  }
 },
 "nbformat": 4,
 "nbformat_minor": 4
}
