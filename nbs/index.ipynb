{
 "cells": [
  {
   "cell_type": "markdown",
   "metadata": {},
   "source": [
    "# Self Supervised Learning Fastai Extension\n",
    "\n",
    "> Implementation of popular SOTA self-supervised learning algorithms as Fastai Callbacks."
   ]
  },
  {
   "cell_type": "markdown",
   "metadata": {},
   "source": [
    "## Install"
   ]
  },
  {
   "cell_type": "markdown",
   "metadata": {},
   "source": [
    "`pip install self-supervised`"
   ]
  },
  {
   "cell_type": "markdown",
   "metadata": {},
   "source": [
    "## Documentation"
   ]
  },
  {
   "cell_type": "markdown",
   "metadata": {},
   "source": [
    "Please read the documentation [here](https://keremturgutlu.github.io/self_supervised).\n",
    "\n",
    "To go back to github repo please click [here](https://github.com/keremturgutlu/self_supervised/tree/master/)."
   ]
  },
  {
   "cell_type": "markdown",
   "metadata": {},
   "source": [
    "## Algorithms"
   ]
  },
  {
   "cell_type": "markdown",
   "metadata": {},
   "source": [
    "Please read the papers or blog posts before getting started with an algorithm, you may also check out documentation page of each algorithm to get a better understanding.\n",
    "\n",
    "Here are the list of implemented **self_supervised.vision** algorithms:\n",
    "\n",
    "- [SimCLR v1](https://arxiv.org/pdf/2002.05709.pdf) & [SimCLR v2](https://arxiv.org/pdf/2006.10029.pdf) \n",
    "- [MoCo v1](https://arxiv.org/pdf/1911.05722.pdf) & [MoCo v2](https://arxiv.org/pdf/2003.04297.pdf)\n",
    "- [BYOL](https://arxiv.org/pdf/2006.07733.pdf)\n",
    "- [SwAV](https://arxiv.org/pdf/2006.09882.pdf)\n",
    "\n",
    "Here are the list of implemented **self_supervised.multimodal** algorithms:\n",
    "\n",
    "- [CLIP](https://arxiv.org/pdf/2103.00020.pdf)\n",
    "- CLIP-MoCo (No paper, own idea)\n",
    "\n",
    "For vision algorithms all models from [timm](https://github.com/rwightman/pytorch-image-models) and [fastai](https://github.com/fastai/fastai) can be used as encoders.\n",
    "\n",
    "For multimodal training currently CLIP supports ViT-B/32 and ViT-L/14, following best architectures from the paper."
   ]
  },
  {
   "cell_type": "markdown",
   "metadata": {},
   "source": [
    "## Simple Usage"
   ]
  },
  {
   "cell_type": "markdown",
   "metadata": {},
   "source": [
    "### Vision"
   ]
  },
  {
   "cell_type": "markdown",
   "metadata": {},
   "source": [
    "#### SimCLR"
   ]
  },
  {
   "cell_type": "markdown",
   "metadata": {},
   "source": [
    "```python\n",
    "from self_supervised.vision.simclr import *\n",
    "dls = get_dls(resize, bs)\n",
    "# encoder = create_encoder(\"xresnet34\", n_in=3, pretrained=False) # a fastai encoder\n",
    "encoder = create_encoder(\"tf_efficientnet_b4_ns\", n_in=3, pretrained=False) # a timm encoder\n",
    "model = create_simclr_model(encoder, hidden_size=2048, projection_size=128)\n",
    "aug_pipelines = get_simclr_aug_pipelines(size=size)\n",
    "learn = Learner(dls,model,cbs=[SimCLR(aug_pipelines, temp=0.07)])\n",
    "learn.fit_flat_cos(100, 1e-2)\n",
    "```"
   ]
  },
  {
   "cell_type": "markdown",
   "metadata": {},
   "source": [
    "#### MoCo"
   ]
  },
  {
   "cell_type": "markdown",
   "metadata": {},
   "source": [
    "```python\n",
    "from self_supervised.vision.moco import *\n",
    "dls = get_dls(resize, bs)\n",
    "# encoder = create_encoder(\"xresnet34\", n_in=3, pretrained=False) # a fastai encoder\n",
    "encoder = create_encoder(\"tf_efficientnet_b4_ns\", n_in=3, pretrained=False) # a timm encoder\n",
    "model = create_moco_model(encoder, hidden_size=2048, projection_size=128)\n",
    "aug_pipelines = get_moco_aug_pipelines(size=size)\n",
    "learn = Learner(dls, model,cbs=[MOCO(aug_pipelines=aug_pipelines, K=128)])\n",
    "learn.fit_flat_cos(100, 1e-2)\n",
    "```"
   ]
  },
  {
   "cell_type": "markdown",
   "metadata": {},
   "source": [
    "#### BYOL"
   ]
  },
  {
   "cell_type": "markdown",
   "metadata": {},
   "source": [
    "```python\n",
    "from self_supervised.vision.byol import *\n",
    "dls = get_dls(resize, bs)\n",
    "# encoder = create_encoder(\"xresnet34\", n_in=3, pretrained=False) # a fastai encoder\n",
    "encoder = create_encoder(\"tf_efficientnet_b4_ns\", n_in=3, pretrained=False) # a timm encoder\n",
    "model = create_byol_model(encoder, hidden_size=2048, projection_size=128)\n",
    "aug_pipelines = get_byol_aug_pipelines(size=size)\n",
    "learn = Learner(dls, model,cbs=[BYOL(aug_pipelines=aug_pipelines)])\n",
    "learn.fit_flat_cos(100, 1e-2)\n",
    "```"
   ]
  },
  {
   "cell_type": "markdown",
   "metadata": {},
   "source": [
    "#### SWAV "
   ]
  },
  {
   "cell_type": "markdown",
   "metadata": {},
   "source": [
    "```python\n",
    "from self_supervised.vision.swav import *\n",
    "dls = get_dls(resize, bs)\n",
    "encoder = create_encoder(\"xresnet34\", n_in=3, pretrained=False) # a fastai encoder\n",
    "encoder = create_encoder(\"tf_efficientnet_b4_ns\", n_in=3, pretrained=False) # a timm encoder\n",
    "model = create_swav_model(encoder, hidden_size=2048, projection_size=128)\n",
    "aug_pipelines = get_swav_aug_pipelines(num_crops=[2,6],\n",
    "                                       crop_sizes=[128,96], \n",
    "                                       min_scales=[0.25,0.05],\n",
    "                                       max_scales=[1.0,0.3])\n",
    "learn = Learner(dls, model, cbs=[SWAV(aug_pipelines=aug_pipelines, crop_assgn_ids=[0,1], K=bs*2**6, queue_start_pct=0.5)])\n",
    "learn.fit_flat_cos(100, 1e-2)\n",
    "```"
   ]
  },
  {
   "cell_type": "markdown",
   "metadata": {},
   "source": [
    "### Multimodal"
   ]
  },
  {
   "cell_type": "markdown",
   "metadata": {},
   "source": [
    "#### CLIP"
   ]
  },
  {
   "cell_type": "markdown",
   "metadata": {},
   "source": [
    "```python\n",
    "from self_supervised.multimodal.clip import *\n",
    "dls = get_dls(...)\n",
    "clip_tokenizer = ClipTokenizer()\n",
    "vitb32_config_dict = vitb32_config(224, clip_tokenizer.context_length, clip_tokenizer.vocab_size)\n",
    "clip_model = CLIP(**vitb32_config_dict, checkpoint=False, checkpoint_nchunks=0)\n",
    "learner = Learner(dls, clip_model, loss_func=noop, cbs=[CLIPTrainer()])\n",
    "learn.fit_flat_cos(100, 1e-2)\n",
    "```"
   ]
  },
  {
   "cell_type": "markdown",
   "metadata": {},
   "source": [
    "#### CLIP-MoCo"
   ]
  },
  {
   "cell_type": "markdown",
   "metadata": {},
   "source": [
    "```python\n",
    "from self_supervised.multimodal.clip_moco import *\n",
    "dls = get_dls(...)\n",
    "clip_tokenizer = ClipTokenizer()\n",
    "vitb32_config_dict = vitb32_config(224, clip_tokenizer.context_length, clip_tokenizer.vocab_size)\n",
    "clip_model = CLIPMOCO(K=4096,m=0.999, **vitb32_config_dict, checkpoint=False, checkpoint_nchunks=0)\n",
    "learner = Learner(dls, clip_model, loss_func=noop, cbs=[CLIPMOCOTrainer()])\n",
    "learn.fit_flat_cos(100, 1e-2)\n",
    "```"
   ]
  },
  {
   "cell_type": "markdown",
   "metadata": {},
   "source": [
    "## ImageWang Benchmarks"
   ]
  },
  {
   "cell_type": "markdown",
   "metadata": {},
   "source": [
    "All of the algorithms implemented in this library have been evaluated in [ImageWang Leaderboard](https://github.com/fastai/imagenette#image%E7%BD%91-leaderboard). \n",
    "\n",
    "In overall superiority of the algorithms are as follows `SwAV > MoCo > BYOL > SimCLR` in most of the benchmarks. For details you may inspect the history of [ImageWang Leaderboard](https://github.com/fastai/imagenette#image%E7%BD%91-leaderboard) through github. \n",
    "\n",
    "It should be noted that during these experiments no hyperparameter selection/tuning was made beyond using `learn.lr_find()` or making sanity checks over data augmentations by visualizing batches. So, there is still space for improvement and overall rankings of the alogrithms may change based on your setup. Yet, the overall rankings are on par with the papers."
   ]
  },
  {
   "cell_type": "markdown",
   "metadata": {},
   "source": [
    "## Contributing"
   ]
  },
  {
   "cell_type": "markdown",
   "metadata": {},
   "source": [
    "Contributions and or requests for new self-supervised algorithms are welcome. This repo will try to keep itself up-to-date with recent SOTA self-supervised algorithms.\n",
    "\n",
    "Before raising a PR please create a new branch with name `<self-supervised-algorithm>`. You may refer to previous notebooks before implementing your Callback.\n",
    "\n",
    "Please refer to sections `Developers Guide, Abbreviations Guide, and Style Guide` from https://docs.fast.ai/dev-setup and note that same rules apply for this library."
   ]
  },
  {
   "cell_type": "code",
   "execution_count": null,
   "metadata": {},
   "outputs": [],
   "source": []
  }
 ],
 "metadata": {
  "kernelspec": {
   "display_name": "Python 3",
   "language": "python",
   "name": "python3"
  }
 },
 "nbformat": 4,
 "nbformat_minor": 2
}
