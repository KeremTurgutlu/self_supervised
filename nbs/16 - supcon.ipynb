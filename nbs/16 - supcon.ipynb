{
 "cells": [
  {
   "cell_type": "code",
   "execution_count": null,
   "metadata": {},
   "outputs": [],
   "source": [
    "#hide\n",
    "#skip\n",
    "! [ -e /content ] && pip install -Uqq self-supervised"
   ]
  },
  {
   "cell_type": "code",
   "execution_count": null,
   "metadata": {},
   "outputs": [],
   "source": [
    "#default_exp vision.supcon"
   ]
  },
  {
   "cell_type": "markdown",
   "metadata": {},
   "source": [
    "# SupCon\n",
    "\n",
    "> **SupCon**: [Supervised Contrastive Learning](https://arxiv.org/pdf/2004.11362.pdf)"
   ]
  },
  {
   "cell_type": "code",
   "execution_count": null,
   "metadata": {},
   "outputs": [
    {
     "name": "stderr",
     "output_type": "stream",
     "text": [
      "/opt/conda/lib/python3.8/site-packages/requests/__init__.py:89: RequestsDependencyWarning: urllib3 (1.26.8) or chardet (3.0.4) doesn't match a supported version!\n",
      "  warnings.warn(\"urllib3 ({}) or chardet ({}) doesn't match a supported \"\n"
     ]
    }
   ],
   "source": [
    "#export\n",
    "from fastai.vision.all import *\n",
    "from self_supervised.augmentations import *\n",
    "from self_supervised.layers import *"
   ]
  },
  {
   "cell_type": "markdown",
   "metadata": {},
   "source": [
    "## Algorithm"
   ]
  },
  {
   "cell_type": "markdown",
   "metadata": {},
   "source": [
    "#### SupCon"
   ]
  },
  {
   "cell_type": "markdown",
   "metadata": {},
   "source": [
    "![SupCon Framework](images/supcon.png)"
   ]
  },
  {
   "cell_type": "markdown",
   "metadata": {},
   "source": [
    "SupCon introduces a generalized form for contrastive losses, and shows that self-supervised loss from SimCLR, N-Pair loss and triplet margin loss are special cases. In this repo, we leverage this general form and formalize a loss that can transition from self-supervised contrastive loss to supervised contrastive loss:\n",
    "\n",
    "$$\n",
    "\\begin{equation} \n",
    "\\begin{split}\n",
    "\\mathcal{L} & = \\hspace{30mm} \\mathcal{L}^{unsup} \\hspace{16mm}+ \\hspace{30mm} \\lambda\\mathcal{L}^{sup} \\\\\n",
    "            \\\\\n",
    "            & = - \\sum_{i \\in I} \\log \\frac{\\exp \\left(\\boldsymbol{z}_{i} \\cdot \\boldsymbol{z}_{j(i)} / \\tau\\right)}{\\sum_{a \\in A(i)} \\exp \\left(\\boldsymbol{z}_{i} \\cdot \\boldsymbol{z}_{a} / \\tau\\right)} + \\lambda \\sum_{i \\in I} \\frac{-1}{|P(i)|} \\sum_{p \\in P(i)} \\log \\frac{\\exp \\left(\\boldsymbol{z}_{i} \\cdot \\boldsymbol{z}_{p} / \\tau\\right)}{\\sum_{a \\in A(i)} \\exp \\left(\\boldsymbol{z}_{i} \\cdot \\boldsymbol{z}_{a} / \\tau\\right)}\n",
    "\\end{split}\n",
    "\\end{equation}\n",
    "$$\n",
    "\n",
    "\n",
    "We use supervised signal as regularization which has an associated weight $\\lambda$, this allows to pretrain with a dataset mixed with labelled and unlabelled data. This regularization can help to learn more generic features which in turn can help with the downstream task. In `SupCon` callback you can choose to use all samples (`UnsupMethod.All`) for unsupervised loss or only use the ones doesn't have a label (`UnsupMethod.All`). Supervised loss will use the samples with labels.\n",
    "\n",
    "Therefore, positive samples come form two disjoint categories:\n",
    "    \n",
    "    (1) Other view of the anchor sample after augmentation (self-supervised case)\n",
    "    (2) All views of the samples that have the same class id with anchor, including the other view of the same sample (supervised case)\n",
    "    \n",
    "    \n",
    "    \n",
    "*Note that self-supervised and unsupervised are used interchangably in this context*"
   ]
  },
  {
   "cell_type": "markdown",
   "metadata": {},
   "source": [
    "SimCLR model consists of an `encoder` and a `projector (MLP)` layer. The definition of this module is fairly simple as below."
   ]
  },
  {
   "cell_type": "code",
   "execution_count": null,
   "metadata": {},
   "outputs": [],
   "source": [
    "#export\n",
    "class SupConModel(Module):\n",
    "    \"Compute predictions of concatenated xi and xj\" \n",
    "    def __init__(self,encoder,projector): self.encoder,self.projector = encoder,projector\n",
    "    def forward(self,x): return self.projector(self.encoder(x))"
   ]
  },
  {
   "cell_type": "markdown",
   "metadata": {},
   "source": [
    "Instead of directly using `SupConModel` by passing both an `encoder` and a `projector`, `create_simclr_model` function can be used by minimally passing a predefined `encoder` and the expected input channels."
   ]
  },
  {
   "cell_type": "code",
   "execution_count": null,
   "metadata": {},
   "outputs": [],
   "source": [
    "#export\n",
    "def create_supcon_model(encoder, hidden_size=256, projection_size=128, bn=False, nlayers=2):\n",
    "    \"Create SupCon model\"\n",
    "    n_in  = in_channels(encoder)\n",
    "    with torch.no_grad(): representation = encoder(torch.randn((2,n_in,128,128)))\n",
    "    projector = create_mlp_module(representation.size(1), hidden_size, projection_size, bn=bn, nlayers=nlayers) \n",
    "    apply_init(projector)\n",
    "    return SupConModel(encoder, projector)"
   ]
  },
  {
   "cell_type": "markdown",
   "metadata": {},
   "source": [
    "You can use `self_supervised.layers` module to create an encoder. It supports all **timm** and **fastai** models available out of the box.\n",
    "\n",
    "We define number of input channels with `n_in`, projector/mlp's hidden size with `hidden_size`,  projector/mlp's final projection size with `projection_size` and projector/mlp's number of layers with `nlayers`."
   ]
  },
  {
   "cell_type": "code",
   "execution_count": null,
   "metadata": {},
   "outputs": [
    {
     "data": {
      "text/plain": [
       "torch.Size([2, 128])"
      ]
     },
     "execution_count": null,
     "metadata": {},
     "output_type": "execute_result"
    }
   ],
   "source": [
    "encoder = create_encoder(\"tf_efficientnet_b0_ns\", n_in=3, pretrained=False, pool_type=PoolingType.CatAvgMax)\n",
    "model = create_supcon_model(encoder, hidden_size=2048, projection_size=128, nlayers=2)\n",
    "out = model(torch.randn((2,3,224,224))); out.shape"
   ]
  },
  {
   "cell_type": "markdown",
   "metadata": {},
   "source": [
    "## SupCon Callback"
   ]
  },
  {
   "cell_type": "markdown",
   "metadata": {},
   "source": [
    "The following parameters can be passed;\n",
    "\n",
    "- **aug_pipelines** list of augmentation pipelines List[Pipeline] created using functions from `self_supervised.augmentations` module. Each `Pipeline` should be set to `split_idx=0`. You can simply use `get_supcon_aug_pipelines` utility to get aug_pipelines.\n",
    "- **temp** temperature scaling for cross entropy loss (defaults to paper's best value)"
   ]
  },
  {
   "cell_type": "markdown",
   "metadata": {},
   "source": [
    "SupCon algorithm uses 2 views of a given image, and `SupCon` callback expects a list of 2 augmentation pipelines in `aug_pipelines`.\n",
    "\n",
    "You can simply use helper function `get_supcon_aug_pipelines()` which will allow augmentation related arguments such as size, rotate, jitter...and will return a list of 2 pipelines, which then can be passed to the callback. This function uses `get_multi_aug_pipelines` which then `get_batch_augs`. For more information you may refer to `self_supervised.augmentations` module.\n",
    "\n",
    "Also, you may choose to pass your own list of aug_pipelines which needs to be List[Pipeline, Pipeline] where Pipeline(..., split_idx=0). Here, `split_idx=0` forces augmentations to be applied in training mode."
   ]
  },
  {
   "cell_type": "code",
   "execution_count": null,
   "metadata": {},
   "outputs": [],
   "source": [
    "#export\n",
    "@delegates(get_multi_aug_pipelines)\n",
    "def get_supcon_aug_pipelines(size, **kwargs): return get_multi_aug_pipelines(n=2, size=size, **kwargs)"
   ]
  },
  {
   "cell_type": "code",
   "execution_count": null,
   "metadata": {},
   "outputs": [
    {
     "data": {
      "text/plain": [
       "[Pipeline: RandomResizedCrop -> RandomHorizontalFlip,\n",
       " Pipeline: RandomResizedCrop -> RandomHorizontalFlip]"
      ]
     },
     "execution_count": null,
     "metadata": {},
     "output_type": "execute_result"
    }
   ],
   "source": [
    "aug_pipelines = get_supcon_aug_pipelines(size=28, rotate=False, jitter=False, bw=False, blur=False, stats=None, cuda=False)\n",
    "aug_pipelines"
   ]
  },
  {
   "cell_type": "code",
   "execution_count": null,
   "metadata": {},
   "outputs": [],
   "source": [
    "mk_class('UnsupMethod', **{o:o.lower() for o in ['All', 'Only']},\n",
    "         doc=\"Whether to use all (sup+unsup) or only unsup data in a batch for unsup loss\") "
   ]
  },
  {
   "cell_type": "code",
   "execution_count": null,
   "metadata": {},
   "outputs": [],
   "source": [
    "#export\n",
    "class SupCon(Callback):\n",
    "    order,run_valid = 9,True\n",
    "    def __init__(self, aug_pipelines, unsup_class_id, unsup_method=UnsupMethod.All, \n",
    "                 reg_lambda=1.,\n",
    "                 temp=0.07, \n",
    "                 print_augs=False):\n",
    "        assert_aug_pipelines(aug_pipelines)\n",
    "        self.aug1, self.aug2 = aug_pipelines\n",
    "        if print_augs: print(self.aug1), print(self.aug2)\n",
    "        store_attr('unsup_class_id,unsup_method,reg_lambda,temp')\n",
    "        \n",
    "        \n",
    "    def before_fit(self): \n",
    "        self.learn.loss_func = self.lf\n",
    "                    \n",
    "            \n",
    "    def before_batch(self):\n",
    "        xi,xj = self.aug1(self.x), self.aug2(self.x)\n",
    "        self.learn.xb = (torch.cat([xi, xj]),)\n",
    "    \n",
    "    \n",
    "    def _remove_diag(self, x):\n",
    "        bs = x.shape[0]\n",
    "        return x[~torch.eye(bs).bool()].reshape(bs,bs-1)    \n",
    "    \n",
    "    \n",
    "    def unsup_lf(self, pred, yb):\n",
    "        \"Self-Supervised contrasitve loss with all or only unlabelled batch samples\"\n",
    "        targ = torch.cat([yb,yb])\n",
    "        unsup_mask = (targ == self.unsup_class_id)\n",
    "        if self.unsup_method == UnsupMethod.All:\n",
    "            pass\n",
    "        elif self.unsup_method == UnsupMethod.Only:\n",
    "            pred = pred[unsup_mask]\n",
    "        else:\n",
    "            raise Exception(f\"{self.unsup_method} is not a valid UnsupMethod\")\n",
    "        \n",
    "        if len(pred) == 0: return 0\n",
    "        \n",
    "        pred = F.normalize(pred, dim=1)\n",
    "        bs = pred.shape[0]\n",
    "        targ = torch.arange(bs, device=pred.device).roll(bs//2)\n",
    "        sim  = self._remove_diag(pred @ pred.T) / self.temp\n",
    "        targ = self._remove_diag(torch.eye(targ.shape[0])[targ]).nonzero()[:,-1]\n",
    "        return F.cross_entropy(sim, targ)\n",
    "        \n",
    "        \n",
    "    def sup_lf(self, pred, yb):\n",
    "        \"Supervised contrasitve loss with labelled batch samples\"\n",
    "        targ = torch.cat([yb,yb])\n",
    "        unsup_mask = (targ == self.unsup_class_id)\n",
    "        pred = pred[~unsup_mask]\n",
    "        targ = targ[~unsup_mask]\n",
    "        \n",
    "        if len(pred) == 0: return 0\n",
    "        \n",
    "        targ2idx = defaultdict(list)\n",
    "        for i, c in enumerate(to_np(targ)):\n",
    "            targ2idx[c].append(i)\n",
    "\n",
    "        # create sup targs, all views from same class\n",
    "        ohe_targ = torch.zeros((targ.shape[0], targ.shape[0])).to(device=pred.device)\n",
    "        for i, c in enumerate(to_np(targ)):\n",
    "            ohe_targ[i][targ2idx[c]] = 1\n",
    "\n",
    "        # exclude anchor from loss calc\n",
    "        pred = F.normalize(pred, dim=1)\n",
    "        sim  = self._remove_diag(pred @ pred.T) / self.temp\n",
    "        targ = self._remove_diag(ohe_targ)\n",
    "\n",
    "        return (F.cross_entropy(sim, targ, reduction='none')/targ.sum(1)).mean()\n",
    "        \n",
    "    \n",
    "    def lf(self, pred, *yb):\n",
    "        unsup_loss = self.unsup_lf(pred, *yb)\n",
    "        sup_loss   = self.sup_lf(pred, *yb)\n",
    "        return unsup_loss + self.reg_lambda*sup_loss\n",
    "    \n",
    "    \n",
    "    @torch.no_grad()\n",
    "    def show(self, n=1):\n",
    "        bs = self.learn.x.size(0)//2\n",
    "        x1,x2  = self.learn.x[:bs], self.learn.x[bs:] \n",
    "        idxs = np.random.choice(range(bs),n,False)\n",
    "        x1 = self.aug1.decode(x1[idxs].to('cpu').clone()).clamp(0,1)\n",
    "        x2 = self.aug2.decode(x2[idxs].to('cpu').clone()).clamp(0,1)\n",
    "        images = []\n",
    "        for i in range(n): images += [x1[i],x2[i]] \n",
    "        return show_batch(x1[0], None, images, max_n=len(images), nrows=n)"
   ]
  },
  {
   "cell_type": "markdown",
   "metadata": {},
   "source": [
    "### Tests"
   ]
  },
  {
   "cell_type": "code",
   "execution_count": null,
   "metadata": {},
   "outputs": [],
   "source": [
    "# No unsupervised, all samples are labelled, but use all for unsup loss\n",
    "supcon = SupCon([Pipeline([],0),Pipeline([],0)], unsup_class_id=0, unsup_method=\"all\")\n",
    "yb = torch.tensor([1,1,2,2])\n",
    "pred = torch.randn((yb.shape[0]*2,128))"
   ]
  },
  {
   "cell_type": "code",
   "execution_count": null,
   "metadata": {},
   "outputs": [],
   "source": [
    "loss1 = supcon.unsup_lf(pred, yb)\n",
    "nll = -(supcon._remove_diag(F.normalize(pred) @ F.normalize(pred).T)/supcon.temp).log_softmax(1)\n",
    "loss2 = torch.mean(tensor([nll[i,idx] for i, idx in enumerate([3,4,5,6,0,1,2,3])]))\n",
    "assert loss1 == loss2"
   ]
  },
  {
   "cell_type": "code",
   "execution_count": null,
   "metadata": {},
   "outputs": [],
   "source": [
    "loss1 = supcon.sup_lf(pred, yb)\n",
    "nll = -(supcon._remove_diag(F.normalize(pred) @ F.normalize(pred).T)/supcon.temp).log_softmax(1)\n",
    "ohe = supcon._remove_diag(tensor([[1,1,0,0,1,1,0,0],\n",
    "                                 [1,1,0,0,1,1,0,0],\n",
    "                                 [0,0,1,1,0,0,1,1],\n",
    "                                 [0,0,1,1,0,0,1,1],\n",
    "                                 [1,1,0,0,1,1,0,0],\n",
    "                                 [1,1,0,0,1,1,0,0],\n",
    "                                 [0,0,1,1,0,0,1,1],\n",
    "                                 [0,0,1,1,0,0,1,1]]))\n",
    "loss2 = (tensor([(row[idxs.bool()].sum()/idxs.sum()) for row, idxs in zip(nll, ohe)])).mean()\n",
    "assert loss1 == loss2"
   ]
  },
  {
   "cell_type": "code",
   "execution_count": null,
   "metadata": {},
   "outputs": [],
   "source": [
    "# No unsupervised, all samples are labelled, use only unlabelled for unsup loss\n",
    "supcon = SupCon([Pipeline([],0),Pipeline([],0)], unsup_class_id=0, unsup_method=\"only\")\n",
    "yb = torch.tensor([1,1,2,2])\n",
    "pred = torch.randn((yb.shape[0]*2,128))"
   ]
  },
  {
   "cell_type": "code",
   "execution_count": null,
   "metadata": {},
   "outputs": [],
   "source": [
    "loss1 = supcon.unsup_lf(pred, yb)\n",
    "assert loss1 == 0"
   ]
  },
  {
   "cell_type": "code",
   "execution_count": null,
   "metadata": {},
   "outputs": [],
   "source": [
    "loss1 = supcon.sup_lf(pred, yb)\n",
    "nll = -(supcon._remove_diag(F.normalize(pred) @ F.normalize(pred).T)/supcon.temp).log_softmax(1)\n",
    "ohe = supcon._remove_diag(tensor([[1,1,0,0,1,1,0,0],\n",
    "                                 [1,1,0,0,1,1,0,0],\n",
    "                                 [0,0,1,1,0,0,1,1],\n",
    "                                 [0,0,1,1,0,0,1,1],\n",
    "                                 [1,1,0,0,1,1,0,0],\n",
    "                                 [1,1,0,0,1,1,0,0],\n",
    "                                 [0,0,1,1,0,0,1,1],\n",
    "                                 [0,0,1,1,0,0,1,1]]))\n",
    "loss2 = (tensor([(row[idxs.bool()].sum()/idxs.sum()) for row, idxs in zip(nll, ohe)])).mean()\n",
    "assert loss1 == loss2"
   ]
  },
  {
   "cell_type": "code",
   "execution_count": null,
   "metadata": {},
   "outputs": [],
   "source": [
    "# All samples are unlabelled, but use all for unsup loss\n",
    "yb = torch.tensor([0,0,0,0])\n",
    "pred = torch.randn((yb.shape[0]*2,128))"
   ]
  },
  {
   "cell_type": "code",
   "execution_count": null,
   "metadata": {},
   "outputs": [],
   "source": [
    "supcon = SupCon([Pipeline([],0),Pipeline([],0)], unsup_class_id=0, unsup_method=\"all\")\n",
    "loss1 = supcon.unsup_lf(pred, yb)\n",
    "supcon = SupCon([Pipeline([],0),Pipeline([],0)], unsup_class_id=0, unsup_method=\"only\")\n",
    "loss2 = supcon.unsup_lf(pred, yb)\n",
    "nll = -(supcon._remove_diag(F.normalize(pred) @ F.normalize(pred).T)/supcon.temp).log_softmax(1)\n",
    "loss3 = torch.mean(tensor([nll[i,idx] for i, idx in enumerate([3,4,5,6,0,1,2,3])]))\n",
    "assert loss1 == loss2 == loss3\n",
    "\n",
    "loss1 = supcon.sup_lf(pred, yb)\n",
    "assert loss1 == 0"
   ]
  },
  {
   "cell_type": "code",
   "execution_count": null,
   "metadata": {},
   "outputs": [],
   "source": [
    "# Mixed samples, but use all for unsup loss\n",
    "yb = torch.tensor([1,1,2,0])\n",
    "pred = torch.randn((yb.shape[0]*2,128))\n",
    "supcon = SupCon([Pipeline([],0),Pipeline([],0)], unsup_class_id=0, unsup_method=\"all\")"
   ]
  },
  {
   "cell_type": "code",
   "execution_count": null,
   "metadata": {},
   "outputs": [],
   "source": [
    "loss1 = supcon.unsup_lf(pred, yb)\n",
    "nll = -(supcon._remove_diag(F.normalize(pred) @ F.normalize(pred).T)/supcon.temp).log_softmax(1)\n",
    "loss2 = torch.mean(tensor([nll[i,idx] for i, idx in enumerate([3,4,5,6,0,1,2,3])]))\n",
    "assert torch.isclose(loss1, loss2)"
   ]
  },
  {
   "cell_type": "code",
   "execution_count": null,
   "metadata": {},
   "outputs": [],
   "source": [
    "supcon = SupCon([Pipeline([],0),Pipeline([],0)], unsup_class_id=0, unsup_method=\"only\")\n",
    "loss1 = supcon.unsup_lf(pred, yb)\n",
    "assert loss1 == 0 # log(1) -> 0, there is no negative sample"
   ]
  },
  {
   "cell_type": "code",
   "execution_count": null,
   "metadata": {},
   "outputs": [],
   "source": [
    "loss1 = supcon.sup_lf(pred, yb)\n",
    "targ = torch.cat([yb,yb])\n",
    "unsup_mask = (targ == supcon.unsup_class_id)\n",
    "pred = pred[~unsup_mask]\n",
    "nll = -(supcon._remove_diag(F.normalize(pred) @ F.normalize(pred).T)/supcon.temp).log_softmax(1)\n",
    "ohe = supcon._remove_diag(tensor([[1,1,0,1,1,0],\n",
    "                                  [1,1,0,1,1,0],\n",
    "                                  [0,0,1,0,0,1],\n",
    "                                  [1,1,0,1,1,0],\n",
    "                                  [1,1,0,1,1,0],\n",
    "                                  [0,0,1,0,0,1]]))\n",
    "\n",
    "loss2 = (tensor([(row[idxs.bool()].sum()/idxs.sum()) for row, idxs in zip(nll, ohe)])).mean()\n",
    "assert loss1 == loss2"
   ]
  },
  {
   "cell_type": "markdown",
   "metadata": {},
   "source": [
    "### Example Usage"
   ]
  },
  {
   "cell_type": "code",
   "execution_count": null,
   "metadata": {},
   "outputs": [],
   "source": [
    "path = untar_data(URLs.IMAGEWANG_160)\n",
    "items = get_image_files(path)"
   ]
  },
  {
   "cell_type": "code",
   "execution_count": null,
   "metadata": {},
   "outputs": [],
   "source": [
    "items = np.random.choice(items, size=1000)"
   ]
  },
  {
   "cell_type": "code",
   "execution_count": null,
   "metadata": {},
   "outputs": [],
   "source": [
    "tds = Datasets(items, [[PILImage.create, ToTensor, RandomResizedCrop(112, min_scale=1.)],\n",
    "                       [parent_label, Categorize()]], splits=RandomSplitter()(items))\n",
    "dls = tds.dataloaders(bs=5, after_item=[ToTensor(), IntToFloatTensor()], device='cpu')"
   ]
  },
  {
   "cell_type": "code",
   "execution_count": null,
   "metadata": {},
   "outputs": [],
   "source": [
    "unsup_class_id = dls.vocab.o2i['unsup']"
   ]
  },
  {
   "cell_type": "code",
   "execution_count": null,
   "metadata": {},
   "outputs": [
    {
     "name": "stdout",
     "output_type": "stream",
     "text": [
      "Pipeline: RandomResizedCrop -> RandomHorizontalFlip\n",
      "Pipeline: RandomResizedCrop -> RandomHorizontalFlip\n"
     ]
    }
   ],
   "source": [
    "fastai_encoder = create_encoder('xresnet18', n_in=3, pretrained=False)\n",
    "model = create_supcon_model(fastai_encoder, hidden_size=2048, projection_size=128)\n",
    "aug_pipelines = get_supcon_aug_pipelines(size=28, rotate=False, jitter=False, bw=False, blur=False, stats=None, cuda=False)\n",
    "learn = Learner(dls, model, cbs=[SupCon(aug_pipelines, \n",
    "                                        unsup_class_id,\n",
    "                                        unsup_method=UnsupMethod.All, reg_lambda=1.0, temp=0.07,\n",
    "                                        print_augs=True),ShortEpochCallback(0.001)])"
   ]
  },
  {
   "cell_type": "markdown",
   "metadata": {},
   "source": [
    "Also, with `show_one()` method you can inspect data augmentations as a sanity check. You can use existing augmentation functions from `augmentations` module."
   ]
  },
  {
   "cell_type": "code",
   "execution_count": null,
   "metadata": {},
   "outputs": [
    {
     "data": {
      "image/png": "[encoded data removed]",
      "text/plain": [
       "<Figure size 432x1080 with 10 Axes>"
      ]
     },
     "metadata": {
      "needs_background": "light"
     },
     "output_type": "display_data"
    }
   ],
   "source": [
    "b = dls.one_batch()\n",
    "learn._split(b)\n",
    "learn('before_batch')\n",
    "axes = learn.sup_con.show(n=5)"
   ]
  },
  {
   "cell_type": "code",
   "execution_count": null,
   "metadata": {},
   "outputs": [
    {
     "data": {
      "text/html": [
       "\n",
       "<style>\n",
       "    /* Turns off some styling */\n",
       "    progress {\n",
       "        /* gets rid of default border in Firefox and Opera. */\n",
       "        border: none;\n",
       "        /* Needs to be in here for Safari polyfill so background images work as expected. */\n",
       "        background-size: auto;\n",
       "    }\n",
       "    .progress-bar-interrupted, .progress-bar-interrupted::-webkit-progress-bar {\n",
       "        background: #F44336;\n",
       "    }\n",
       "</style>\n"
      ],
      "text/plain": [
       "<IPython.core.display.HTML object>"
      ]
     },
     "metadata": {},
     "output_type": "display_data"
    },
    {
     "data": {
      "text/html": [
       "<table border=\"1\" class=\"dataframe\">\n",
       "  <thead>\n",
       "    <tr style=\"text-align: left;\">\n",
       "      <th>epoch</th>\n",
       "      <th>train_loss</th>\n",
       "      <th>valid_loss</th>\n",
       "      <th>time</th>\n",
       "    </tr>\n",
       "  </thead>\n",
       "  <tbody>\n",
       "    <tr>\n",
       "      <td>0</td>\n",
       "      <td>00:01</td>\n",
       "    </tr>\n",
       "  </tbody>\n",
       "</table>"
      ],
      "text/plain": [
       "<IPython.core.display.HTML object>"
      ]
     },
     "metadata": {},
     "output_type": "display_data"
    }
   ],
   "source": [
    "learn.fit(1)"
   ]
  },
  {
   "cell_type": "code",
   "execution_count": null,
   "metadata": {},
   "outputs": [
    {
     "data": {
      "text/plain": [
       "[TensorCategory(1.2564)]"
      ]
     },
     "execution_count": null,
     "metadata": {},
     "output_type": "execute_result"
    }
   ],
   "source": [
    "learn.recorder.losses"
   ]
  },
  {
   "cell_type": "markdown",
   "metadata": {},
   "source": [
    "## Export -"
   ]
  },
  {
   "cell_type": "code",
   "execution_count": null,
   "metadata": {},
   "outputs": [
    {
     "name": "stdout",
     "output_type": "stream",
     "text": [
      "Converted 01 - augmentations.ipynb.\n",
      "Converted 02 - layers.ipynb.\n",
      "Converted 03 - distributed.ipynb.\n",
      "Converted 10 - simclr.ipynb.\n",
      "Converted 11 - moco.ipynb.\n",
      "Converted 12 - byol.ipynb.\n",
      "Converted 13 - swav.ipynb.\n",
      "Converted 14 - barlow_twins.ipynb.\n",
      "Converted 15 - dino.ipynb.\n",
      "Converted 16 - supcon.ipynb.\n",
      "Converted 20 - clip.ipynb.\n",
      "Converted 21 - clip-moco.ipynb.\n",
      "Converted 70 - vision.metrics.ipynb.\n",
      "Converted 90 - models.vision_transformer.ipynb.\n",
      "Converted index.ipynb.\n"
     ]
    }
   ],
   "source": [
    "#hide\n",
    "from nbdev.export import notebook2script\n",
    "notebook2script()"
   ]
  },
  {
   "cell_type": "code",
   "execution_count": null,
   "metadata": {},
   "outputs": [],
   "source": []
  },
  {
   "cell_type": "code",
   "execution_count": null,
   "metadata": {},
   "outputs": [],
   "source": []
  }
 ],
 "metadata": {
  "kernelspec": {
   "display_name": "Python 3",
   "language": "python",
   "name": "python3"
  }
 },
 "nbformat": 4,
 "nbformat_minor": 4
}
