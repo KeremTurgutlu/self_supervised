{
 "cells": [
  {
   "cell_type": "code",
   "execution_count": null,
   "metadata": {},
   "outputs": [],
   "source": [
    "#hide\n",
    "#skip\n",
    "! [ -e /content ] && pip install -Uqq self-supervised"
   ]
  },
  {
   "cell_type": "code",
   "execution_count": null,
   "metadata": {},
   "outputs": [],
   "source": [
    "#default_exp vision.supcon"
   ]
  },
  {
   "cell_type": "markdown",
   "metadata": {},
   "source": [
    "# SupCon\n",
    "\n",
    "> **SupCon**: [Supervised Contrastive Learning](https://arxiv.org/pdf/2004.11362.pdf)"
   ]
  },
  {
   "cell_type": "code",
   "execution_count": null,
   "metadata": {},
   "outputs": [],
   "source": [
    "#export\n",
    "_all_ = ['UnsupMethod']"
   ]
  },
  {
   "cell_type": "code",
   "execution_count": null,
   "metadata": {},
   "outputs": [],
   "source": [
    "#export\n",
    "from fastai.vision.all import *\n",
    "from self_supervised.augmentations import *\n",
    "from self_supervised.layers import *"
   ]
  },
  {
   "cell_type": "markdown",
   "metadata": {},
   "source": [
    "## Algorithm"
   ]
  },
  {
   "cell_type": "markdown",
   "metadata": {},
   "source": [
    "#### SupCon"
   ]
  },
  {
   "cell_type": "markdown",
   "metadata": {},
   "source": [
    "![SupCon Framework](images/supcon.png)"
   ]
  },
  {
   "cell_type": "markdown",
   "metadata": {},
   "source": [
    "SupCon introduces a generalized form for contrastive losses, and shows that self-supervised loss from SimCLR, N-Pair loss and triplet margin loss are special cases. In this repo, we leverage this general form and formalize a loss that can transition from self-supervised contrastive loss to supervised contrastive loss:\n",
    "\n",
    "$$\n",
    "\\begin{equation} \n",
    "\\begin{split}\n",
    "\\mathcal{L} & = \\hspace{30mm} \\mathcal{L}^{unsup} \\hspace{16mm}+ \\hspace{30mm} \\lambda\\mathcal{L}^{sup} \\\\\n",
    "            \\\\\n",
    "            & = - \\sum_{i \\in I} \\log \\frac{\\exp \\left(\\boldsymbol{z}_{i} \\cdot \\boldsymbol{z}_{j(i)} / \\tau\\right)}{\\sum_{a \\in A(i)} \\exp \\left(\\boldsymbol{z}_{i} \\cdot \\boldsymbol{z}_{a} / \\tau\\right)} + \\lambda \\sum_{i \\in I} \\frac{-1}{|P(i)|} \\sum_{p \\in P(i)} \\log \\frac{\\exp \\left(\\boldsymbol{z}_{i} \\cdot \\boldsymbol{z}_{p} / \\tau\\right)}{\\sum_{a \\in A(i)} \\exp \\left(\\boldsymbol{z}_{i} \\cdot \\boldsymbol{z}_{a} / \\tau\\right)}\n",
    "\\end{split}\n",
    "\\end{equation}\n",
    "$$\n",
    "\n",
    "\n",
    "We use supervised signal as regularization which has an associated weight $\\lambda$, this allows to pretrain with a dataset mixed with labelled and unlabelled data. This regularization can help to learn more generic features which in turn can help with the downstream task. In `SupCon` callback you can choose to use all samples (`UnsupMethod.All`) for unsupervised loss or only use the ones doesn't have a label (`UnsupMethod.All`). Supervised loss will use the samples with labels.\n",
    "\n",
    "Therefore, positive samples come form two disjoint categories:\n",
    "    \n",
    "    (1) Other view of the anchor sample after augmentation (self-supervised case)\n",
    "    (2) All views of the samples that have the same class id with anchor, including the other view of the same sample (supervised case)\n",
    "    \n",
    "    \n",
    "    \n",
    "*Note that self-supervised and unsupervised are used interchangably in this context*"
   ]
  },
  {
   "cell_type": "markdown",
   "metadata": {},
   "source": [
    "SimCLR model consists of an `encoder` and a `projector (MLP)` layer. The definition of this module is fairly simple as below."
   ]
  },
  {
   "cell_type": "code",
   "execution_count": null,
   "metadata": {},
   "outputs": [],
   "source": [
    "#export\n",
    "class SupConModel(Module):\n",
    "    \"Compute predictions of concatenated xi and xj\" \n",
    "    def __init__(self,encoder,projector): self.encoder,self.projector = encoder,projector\n",
    "    def forward(self,x): return self.projector(self.encoder(x))"
   ]
  },
  {
   "cell_type": "markdown",
   "metadata": {},
   "source": [
    "Instead of directly using `SupConModel` by passing both an `encoder` and a `projector`, `create_simclr_model` function can be used by minimally passing a predefined `encoder` and the expected input channels."
   ]
  },
  {
   "cell_type": "code",
   "execution_count": null,
   "metadata": {},
   "outputs": [],
   "source": [
    "#export\n",
    "def create_supcon_model(encoder, hidden_size=256, projection_size=128, bn=False, nlayers=2):\n",
    "    \"Create SupCon model\"\n",
    "    n_in  = in_channels(encoder)\n",
    "    with torch.no_grad(): representation = encoder(torch.randn((2,n_in,128,128)))\n",
    "    projector = create_mlp_module(representation.size(1), hidden_size, projection_size, bn=bn, nlayers=nlayers) \n",
    "    apply_init(projector)\n",
    "    return SupConModel(encoder, projector)"
   ]
  },
  {
   "cell_type": "markdown",
   "metadata": {},
   "source": [
    "You can use `self_supervised.layers` module to create an encoder. It supports all **timm** and **fastai** models available out of the box.\n",
    "\n",
    "We define number of input channels with `n_in`, projector/mlp's hidden size with `hidden_size`,  projector/mlp's final projection size with `projection_size` and projector/mlp's number of layers with `nlayers`."
   ]
  },
  {
   "cell_type": "code",
   "execution_count": null,
   "metadata": {},
   "outputs": [
    {
     "data": {
      "text/plain": [
       "torch.Size([2, 128])"
      ]
     },
     "execution_count": null,
     "metadata": {},
     "output_type": "execute_result"
    }
   ],
   "source": [
    "encoder = create_encoder(\"tf_efficientnet_b0_ns\", n_in=3, pretrained=False, pool_type=PoolingType.CatAvgMax)\n",
    "model = create_supcon_model(encoder, hidden_size=2048, projection_size=128, nlayers=2)\n",
    "out = model(torch.randn((2,3,224,224))); out.shape"
   ]
  },
  {
   "cell_type": "markdown",
   "metadata": {},
   "source": [
    "## SupCon Callback"
   ]
  },
  {
   "cell_type": "markdown",
   "metadata": {},
   "source": [
    "The following parameters can be passed;\n",
    "\n",
    "- **aug_pipelines** list of augmentation pipelines List[Pipeline] created using functions from `self_supervised.augmentations` module. Each `Pipeline` should be set to `split_idx=0`. You can simply use `get_supcon_aug_pipelines` utility to get aug_pipelines.\n",
    "- **temp** temperature scaling for cross entropy loss (defaults to paper's best value)"
   ]
  },
  {
   "cell_type": "markdown",
   "metadata": {},
   "source": [
    "SupCon algorithm uses 2 views of a given image, and `SupCon` callback expects a list of 2 augmentation pipelines in `aug_pipelines`.\n",
    "\n",
    "You can simply use helper function `get_supcon_aug_pipelines()` which will allow augmentation related arguments such as size, rotate, jitter...and will return a list of 2 pipelines, which then can be passed to the callback. This function uses `get_multi_aug_pipelines` which then `get_batch_augs`. For more information you may refer to `self_supervised.augmentations` module.\n",
    "\n",
    "Also, you may choose to pass your own list of aug_pipelines which needs to be List[Pipeline, Pipeline] where Pipeline(..., split_idx=0). Here, `split_idx=0` forces augmentations to be applied in training mode."
   ]
  },
  {
   "cell_type": "code",
   "execution_count": null,
   "metadata": {},
   "outputs": [],
   "source": [
    "#export\n",
    "@delegates(get_multi_aug_pipelines)\n",
    "def get_supcon_aug_pipelines(size, **kwargs): return get_multi_aug_pipelines(n=2, size=size, **kwargs)"
   ]
  },
  {
   "cell_type": "code",
   "execution_count": null,
   "metadata": {},
   "outputs": [
    {
     "data": {
      "text/plain": [
       "[Pipeline: RandomResizedCrop -> RandomHorizontalFlip,\n",
       " Pipeline: RandomResizedCrop -> RandomHorizontalFlip]"
      ]
     },
     "execution_count": null,
     "metadata": {},
     "output_type": "execute_result"
    }
   ],
   "source": [
    "aug_pipelines = get_supcon_aug_pipelines(size=28, rotate=False, jitter=False, bw=False, blur=False, stats=None, cuda=False)\n",
    "aug_pipelines"
   ]
  },
  {
   "cell_type": "code",
   "execution_count": null,
   "metadata": {},
   "outputs": [],
   "source": [
    "#export\n",
    "mk_class('UnsupMethod', **{o:o.lower() for o in ['All', 'Only']},\n",
    "         doc=\"Whether to use all (sup+unsup) or only unsup data in a batch for unsup loss\") "
   ]
  },
  {
   "cell_type": "code",
   "execution_count": null,
   "metadata": {},
   "outputs": [],
   "source": [
    "#export\n",
    "class SupCon(Callback):\n",
    "    order,run_valid = 9,True\n",
    "    def __init__(self, aug_pipelines, unsup_class_id, unsup_method=UnsupMethod.All, \n",
    "                 reg_lambda=1.,\n",
    "                 temp=0.07, \n",
    "                 print_augs=False):\n",
    "        assert_aug_pipelines(aug_pipelines)\n",
    "        self.aug1, self.aug2 = aug_pipelines\n",
    "        if print_augs: print(self.aug1), print(self.aug2)\n",
    "        store_attr('unsup_class_id,unsup_method,reg_lambda,temp')\n",
    "        \n",
    "        \n",
    "    def before_fit(self): \n",
    "        self.learn.loss_func = self.lf\n",
    "                    \n",
    "            \n",
    "    def before_batch(self):\n",
    "        xi,xj = self.aug1(self.x), self.aug2(self.x)\n",
    "        self.learn.xb = (torch.cat([xi, xj]),)\n",
    "    \n",
    "    \n",
    "    def _remove_diag(self, x):\n",
    "        bs = x.shape[0]\n",
    "        return x[~torch.eye(bs).bool()].reshape(bs,bs-1)    \n",
    "    \n",
    "    \n",
    "    def unsup_lf(self, pred, yb):\n",
    "        \"Self-Supervised contrasitve loss with all or only unlabelled batch samples\"\n",
    "        targ = torch.cat([yb,yb])\n",
    "        unsup_mask = (targ == self.unsup_class_id)\n",
    "        if self.unsup_method == UnsupMethod.All:\n",
    "            pass\n",
    "        elif self.unsup_method == UnsupMethod.Only:\n",
    "            pred = pred[unsup_mask]\n",
    "        else:\n",
    "            raise Exception(f\"{self.unsup_method} is not a valid UnsupMethod\")\n",
    "        \n",
    "        if len(pred) == 0: return 0\n",
    "        \n",
    "        pred = F.normalize(pred, dim=1)\n",
    "        bs = pred.shape[0]\n",
    "        targ = torch.arange(bs, device=pred.device).roll(bs//2)\n",
    "        sim  = self._remove_diag(pred @ pred.T) / self.temp\n",
    "        targ = self._remove_diag(torch.eye(targ.shape[0], device=pred.device)[targ]).nonzero()[:,-1]\n",
    "        return F.cross_entropy(sim, targ)\n",
    "        \n",
    "        \n",
    "    def sup_lf(self, pred, yb):\n",
    "        \"Supervised contrasitve loss with labelled batch samples\"\n",
    "        targ = torch.cat([yb,yb])\n",
    "        unsup_mask = (targ == self.unsup_class_id)\n",
    "        pred = pred[~unsup_mask]\n",
    "        targ = targ[~unsup_mask]\n",
    "        \n",
    "        if len(pred) == 0: return 0\n",
    "        \n",
    "        targ2idx = defaultdict(list)\n",
    "        for i, c in enumerate(to_np(targ)):\n",
    "            targ2idx[c].append(i)\n",
    "\n",
    "        # create sup targs, all views from same class\n",
    "        ohe_targ = torch.zeros((targ.shape[0], targ.shape[0]), device=pred.device)\n",
    "        for i, c in enumerate(to_np(targ)):\n",
    "            ohe_targ[i][targ2idx[c]] = 1\n",
    "\n",
    "        # exclude anchor from loss calc\n",
    "        pred = F.normalize(pred, dim=1)\n",
    "        sim  = self._remove_diag(pred @ pred.T) / self.temp\n",
    "        targ = self._remove_diag(ohe_targ)\n",
    "\n",
    "        return (F.cross_entropy(sim, targ, reduction='none')/targ.sum(1)).mean()\n",
    "        \n",
    "    \n",
    "    def lf(self, pred, *yb):\n",
    "        unsup_loss = self.unsup_lf(pred, *yb)\n",
    "        sup_loss   = self.sup_lf(pred, *yb)\n",
    "        return unsup_loss + self.reg_lambda*sup_loss\n",
    "    \n",
    "    \n",
    "    @torch.no_grad()\n",
    "    def show(self, n=1):\n",
    "        bs = self.learn.x.size(0)//2\n",
    "        x1,x2  = self.learn.x[:bs], self.learn.x[bs:] \n",
    "        idxs = np.random.choice(range(bs),n,False)\n",
    "        x1 = self.aug1.decode(x1[idxs].to('cpu').clone()).clamp(0,1)\n",
    "        x2 = self.aug2.decode(x2[idxs].to('cpu').clone()).clamp(0,1)\n",
    "        images = []\n",
    "        for i in range(n): images += [x1[i],x2[i]] \n",
    "        return show_batch(x1[0], None, images, max_n=len(images), nrows=n)"
   ]
  },
  {
   "cell_type": "markdown",
   "metadata": {},
   "source": [
    "### Tests"
   ]
  },
  {
   "cell_type": "code",
   "execution_count": null,
   "metadata": {},
   "outputs": [],
   "source": [
    "# No unsupervised, all samples are labelled, but use all for unsup loss\n",
    "supcon = SupCon([Pipeline([],0),Pipeline([],0)], unsup_class_id=0, unsup_method=\"all\")\n",
    "yb = torch.tensor([1,1,2,2])\n",
    "pred = torch.randn((yb.shape[0]*2,128))"
   ]
  },
  {
   "cell_type": "code",
   "execution_count": null,
   "metadata": {},
   "outputs": [],
   "source": [
    "loss1 = supcon.unsup_lf(pred, yb)\n",
    "nll = -(supcon._remove_diag(F.normalize(pred) @ F.normalize(pred).T)/supcon.temp).log_softmax(1)\n",
    "loss2 = torch.mean(tensor([nll[i,idx] for i, idx in enumerate([3,4,5,6,0,1,2,3])]))\n",
    "assert torch.isclose(loss1,loss2)"
   ]
  },
  {
   "cell_type": "code",
   "execution_count": null,
   "metadata": {},
   "outputs": [],
   "source": [
    "loss1 = supcon.sup_lf(pred, yb)\n",
    "nll = -(supcon._remove_diag(F.normalize(pred) @ F.normalize(pred).T)/supcon.temp).log_softmax(1)\n",
    "ohe = supcon._remove_diag(tensor([[1,1,0,0,1,1,0,0],\n",
    "                                 [1,1,0,0,1,1,0,0],\n",
    "                                 [0,0,1,1,0,0,1,1],\n",
    "                                 [0,0,1,1,0,0,1,1],\n",
    "                                 [1,1,0,0,1,1,0,0],\n",
    "                                 [1,1,0,0,1,1,0,0],\n",
    "                                 [0,0,1,1,0,0,1,1],\n",
    "                                 [0,0,1,1,0,0,1,1]]))\n",
    "loss2 = (tensor([(row[idxs.bool()].sum()/idxs.sum()) for row, idxs in zip(nll, ohe)])).mean()\n",
    "assert torch.isclose(loss1, loss2)"
   ]
  },
  {
   "cell_type": "code",
   "execution_count": null,
   "metadata": {},
   "outputs": [],
   "source": [
    "# No unsupervised, all samples are labelled, use only unlabelled for unsup loss\n",
    "supcon = SupCon([Pipeline([],0),Pipeline([],0)], unsup_class_id=0, unsup_method=\"only\")\n",
    "yb = torch.tensor([1,1,2,2])\n",
    "pred = torch.randn((yb.shape[0]*2,128))"
   ]
  },
  {
   "cell_type": "code",
   "execution_count": null,
   "metadata": {},
   "outputs": [],
   "source": [
    "loss1 = supcon.unsup_lf(pred, yb)\n",
    "assert loss1 == 0"
   ]
  },
  {
   "cell_type": "code",
   "execution_count": null,
   "metadata": {},
   "outputs": [],
   "source": [
    "loss1 = supcon.sup_lf(pred, yb)\n",
    "nll = -(supcon._remove_diag(F.normalize(pred) @ F.normalize(pred).T)/supcon.temp).log_softmax(1)\n",
    "ohe = supcon._remove_diag(tensor([[1,1,0,0,1,1,0,0],\n",
    "                                 [1,1,0,0,1,1,0,0],\n",
    "                                 [0,0,1,1,0,0,1,1],\n",
    "                                 [0,0,1,1,0,0,1,1],\n",
    "                                 [1,1,0,0,1,1,0,0],\n",
    "                                 [1,1,0,0,1,1,0,0],\n",
    "                                 [0,0,1,1,0,0,1,1],\n",
    "                                 [0,0,1,1,0,0,1,1]]))\n",
    "loss2 = (tensor([(row[idxs.bool()].sum()/idxs.sum()) for row, idxs in zip(nll, ohe)])).mean()\n",
    "assert torch.isclose(loss1,loss2)"
   ]
  },
  {
   "cell_type": "code",
   "execution_count": null,
   "metadata": {},
   "outputs": [],
   "source": [
    "# All samples are unlabelled, but use all for unsup loss\n",
    "yb = torch.tensor([0,0,0,0])\n",
    "pred = torch.randn((yb.shape[0]*2,128))"
   ]
  },
  {
   "cell_type": "code",
   "execution_count": null,
   "metadata": {},
   "outputs": [],
   "source": [
    "supcon = SupCon([Pipeline([],0),Pipeline([],0)], unsup_class_id=0, unsup_method=\"all\")\n",
    "loss1 = supcon.unsup_lf(pred, yb)\n",
    "supcon = SupCon([Pipeline([],0),Pipeline([],0)], unsup_class_id=0, unsup_method=\"only\")\n",
    "loss2 = supcon.unsup_lf(pred, yb)\n",
    "nll = -(supcon._remove_diag(F.normalize(pred) @ F.normalize(pred).T)/supcon.temp).log_softmax(1)\n",
    "loss3 = torch.mean(tensor([nll[i,idx] for i, idx in enumerate([3,4,5,6,0,1,2,3])]))\n",
    "assert torch.isclose(loss1, loss2) and torch.isclose(loss2, loss3)"
   ]
  },
  {
   "cell_type": "code",
   "execution_count": null,
   "metadata": {},
   "outputs": [],
   "source": [
    "loss1 = supcon.sup_lf(pred, yb)\n",
    "assert loss1 == 0"
   ]
  },
  {
   "cell_type": "code",
   "execution_count": null,
   "metadata": {},
   "outputs": [],
   "source": [
    "# Mixed samples, but use all for unsup loss\n",
    "yb = torch.tensor([1,1,2,0])\n",
    "pred = torch.randn((yb.shape[0]*2,128))\n",
    "supcon = SupCon([Pipeline([],0),Pipeline([],0)], unsup_class_id=0, unsup_method=\"all\")"
   ]
  },
  {
   "cell_type": "code",
   "execution_count": null,
   "metadata": {},
   "outputs": [],
   "source": [
    "loss1 = supcon.unsup_lf(pred, yb)\n",
    "nll = -(supcon._remove_diag(F.normalize(pred) @ F.normalize(pred).T)/supcon.temp).log_softmax(1)\n",
    "loss2 = torch.mean(tensor([nll[i,idx] for i, idx in enumerate([3,4,5,6,0,1,2,3])]))\n",
    "assert torch.isclose(loss1, loss2)"
   ]
  },
  {
   "cell_type": "code",
   "execution_count": null,
   "metadata": {},
   "outputs": [],
   "source": [
    "supcon = SupCon([Pipeline([],0),Pipeline([],0)], unsup_class_id=0, unsup_method=\"only\")\n",
    "loss1 = supcon.unsup_lf(pred, yb)\n",
    "assert loss1 == 0 # log(1) -> 0, there is no negative sample"
   ]
  },
  {
   "cell_type": "code",
   "execution_count": null,
   "metadata": {},
   "outputs": [],
   "source": [
    "loss1 = supcon.sup_lf(pred, yb)\n",
    "targ = torch.cat([yb,yb])\n",
    "unsup_mask = (targ == supcon.unsup_class_id)\n",
    "pred = pred[~unsup_mask]\n",
    "nll = -(supcon._remove_diag(F.normalize(pred) @ F.normalize(pred).T)/supcon.temp).log_softmax(1)\n",
    "ohe = supcon._remove_diag(tensor([[1,1,0,1,1,0],\n",
    "                                  [1,1,0,1,1,0],\n",
    "                                  [0,0,1,0,0,1],\n",
    "                                  [1,1,0,1,1,0],\n",
    "                                  [1,1,0,1,1,0],\n",
    "                                  [0,0,1,0,0,1]]))\n",
    "\n",
    "loss2 = (tensor([(row[idxs.bool()].sum()/idxs.sum()) for row, idxs in zip(nll, ohe)])).mean()\n",
    "assert torch.isclose(loss1, loss2)"
   ]
  },
  {
   "cell_type": "markdown",
   "metadata": {},
   "source": [
    "## SupConMOCO Callback"
   ]
  },
  {
   "cell_type": "markdown",
   "metadata": {},
   "source": [
    "The following parameters can be passed;\n",
    "\n",
    "- **aug_pipelines** list of augmentation pipelines List[Pipeline] created using functions from `self_supervised.augmentations` module. Each `Pipeline` should be set to `split_idx=0`. You can simply use `get_supcon_aug_pipelines` utility to get aug_pipelines.\n",
    "- **temp** temperature scaling for cross entropy loss (defaults to paper's best value)"
   ]
  },
  {
   "cell_type": "markdown",
   "metadata": {},
   "source": [
    "SupCon algorithm uses 2 views of a given image, and `SupCon` callback expects a list of 2 augmentation pipelines in `aug_pipelines`.\n",
    "\n",
    "You can simply use helper function `get_supcon_aug_pipelines()` which will allow augmentation related arguments such as size, rotate, jitter...and will return a list of 2 pipelines, which then can be passed to the callback. This function uses `get_multi_aug_pipelines` which then `get_batch_augs`. For more information you may refer to `self_supervised.augmentations` module.\n",
    "\n",
    "Also, you may choose to pass your own list of aug_pipelines which needs to be List[Pipeline, Pipeline] where Pipeline(..., split_idx=0). Here, `split_idx=0` forces augmentations to be applied in training mode."
   ]
  },
  {
   "cell_type": "code",
   "execution_count": null,
   "metadata": {},
   "outputs": [],
   "source": [
    "#export\n",
    "class SupConMOCO(Callback):\n",
    "    order,run_valid = 9,True\n",
    "    def __init__(self, aug_pipelines, unsup_class_id, unsup_method=UnsupMethod.All, \n",
    "                 K=4096,\n",
    "                 m=0.999,\n",
    "                 reg_lambda=1.,\n",
    "                 temp=0.07, \n",
    "                 print_augs=False):\n",
    "        assert_aug_pipelines(aug_pipelines)\n",
    "        self.aug1, self.aug2 = aug_pipelines\n",
    "        if print_augs: print(self.aug1), print(self.aug2)\n",
    "        store_attr('unsup_class_id,unsup_method,K,m,reg_lambda,temp')\n",
    "        \n",
    "        \n",
    "    def before_fit(self): \n",
    "        \"Create key encoder and init queue\"\n",
    "        if (not hasattr(self, \"encoder_k\")) and (not hasattr(self, \"queue\")):\n",
    "            # init key encoder\n",
    "            self.encoder_k = deepcopy(self.learn.model).to(self.dls.device)\n",
    "            for param_k in self.encoder_k.parameters(): param_k.requires_grad = False\n",
    "            \n",
    "            # init queue\n",
    "            nf = self.learn.model.projector[-1].out_features\n",
    "            self.emb_queue = torch.randn(self.K, nf).to(self.dls.device)\n",
    "            self.emb_queue = nn.functional.normalize(self.emb_queue, dim=1)\n",
    "            self.label_queue = torch.zeros(self.K).to(self.dls.device) + self.unsup_class_id\n",
    "            self.queue_ptr = 0\n",
    "        else: \n",
    "            warnings.warn(\"Key encoder and queue are already defined, keeping them.\")\n",
    "        \n",
    "        self.learn.loss_func = self.lf\n",
    "                    \n",
    "    \n",
    "    def before_batch(self):\n",
    "        \"Generate query and key for the current batch\"\n",
    "        q_img,k_img = self.aug1(self.x), self.aug2(self.x.clone())\n",
    "        self.learn.xb = (q_img,)\n",
    "        with torch.no_grad(): \n",
    "            self.encoder_k.eval()\n",
    "            self.learn.yb = (F.normalize(self.encoder_k(k_img)), self.y) # query and labels\n",
    "    \n",
    "    \n",
    "    @torch.no_grad()\n",
    "    def _momentum_update_key_encoder(self):\n",
    "        for param_q, param_k in zip(self.learn.model.parameters(), self.encoder_k.parameters()):\n",
    "            param_k.data = param_k.data * self.m + param_q.data * (1. - self.m)\n",
    "        \n",
    "        \n",
    "    @torch.no_grad()\n",
    "    def _dequeue_and_enqueue(self):\n",
    "        bs = self.x.size(0)\n",
    "        key_embs, key_labels = self.yb\n",
    "        assert self.K % bs == 0  # for simplicity\n",
    "        self.emb_queue[self.queue_ptr:self.queue_ptr+bs, :] = key_embs\n",
    "        self.label_queue[self.queue_ptr:self.queue_ptr+bs] = key_labels\n",
    "        self.queue_ptr = (self.queue_ptr + bs) % self.K  # move pointer\n",
    "\n",
    "        \n",
    "    def unsup_lf(self, pred, key_embs, key_labels):\n",
    "        \"Self-Supervised contrasitve loss with all or only unlabelled batch samples\"\n",
    "        query_embs = F.normalize(pred, dim=1)        \n",
    "        queue_embs, queue_labels = self.emb_queue, self.label_queue\n",
    "        \n",
    "        if self.unsup_method == UnsupMethod.All:\n",
    "            key_embs = torch.cat([key_embs, queue_embs])\n",
    "        \n",
    "        elif self.unsup_method == UnsupMethod.Only:\n",
    "            query_embs = query_embs[(key_labels == self.unsup_class_id)]\n",
    "            key_embs   = key_embs[(key_labels == self.unsup_class_id)]\n",
    "            queue_embs = queue_embs[(queue_labels == self.unsup_class_id)]\n",
    "            \n",
    "            key_embs   = torch.cat([key_embs, queue_embs])\n",
    "                        \n",
    "        else:\n",
    "            raise Exception(f\"{self.unsup_method} is not a valid UnsupMethod\")\n",
    "        \n",
    "        if len(query_embs) == 0: return 0\n",
    "        \n",
    "        labels = torch.arange(len(query_embs), device=pred.device)\n",
    "        sim  = query_embs @ key_embs.T / self.temp\n",
    "        return F.cross_entropy(sim, labels)\n",
    "        \n",
    "        \n",
    "    def sup_lf(self, pred, key_embs, key_labels):\n",
    "        \"Supervised contrasitve loss with labelled batch samples\"\n",
    "        query_embs = F.normalize(pred, dim=1)\n",
    "        queue_embs, queue_labels = self.emb_queue,  self.label_queue\n",
    "        \n",
    "        query_embs = query_embs[(key_labels != self.unsup_class_id)]\n",
    "        key_embs   = key_embs[(key_labels != self.unsup_class_id)]\n",
    "        queue_embs = queue_embs[(queue_labels != self.unsup_class_id)]\n",
    "        \n",
    "        key_embs   = torch.cat([key_embs, queue_embs])\n",
    "        \n",
    "        key_labels   = key_labels[(key_labels != self.unsup_class_id)]\n",
    "        queue_labels = queue_labels[(queue_labels != self.unsup_class_id)]\n",
    "        \n",
    "        labels   = torch.cat([key_labels, queue_labels])\n",
    "        \n",
    "        if len(query_embs) == 0: return 0\n",
    "\n",
    "        # create sup targs, all views from same class\n",
    "        ohe_targ = torch.zeros((query_embs.shape[0], labels.shape[0]), device=pred.device) # N x (N + K)\n",
    "        for i, l in enumerate(to_np(key_labels)):\n",
    "            ohe_targ[i][(labels == l).bool()] = 1\n",
    "\n",
    "        # exclude anchor from loss calc\n",
    "        sim  = query_embs @ key_embs.T / self.temp\n",
    "        return (F.cross_entropy(sim, ohe_targ, reduction='none')/ohe_targ.sum(1)).mean()\n",
    "        \n",
    "    \n",
    "    def lf(self, pred, *yb):\n",
    "        unsup_loss = self.unsup_lf(pred, *yb)\n",
    "        sup_loss   = self.sup_lf(pred, *yb)\n",
    "        return unsup_loss + self.reg_lambda*sup_loss\n",
    "    \n",
    "    \n",
    "    def after_step(self):\n",
    "        \"Update momentum (key) encoder and queue\"\n",
    "        self._momentum_update_key_encoder()\n",
    "        self._dequeue_and_enqueue()\n",
    "    \n",
    "    \n",
    "    @torch.no_grad()\n",
    "    def show(self, n=1):\n",
    "        bs = self.learn.x.size(0)//2\n",
    "        x1,x2  = self.learn.x[:bs], self.learn.x[bs:] \n",
    "        idxs = np.random.choice(range(bs),n,False)\n",
    "        x1 = self.aug1.decode(x1[idxs].to('cpu').clone()).clamp(0,1)\n",
    "        x2 = self.aug2.decode(x2[idxs].to('cpu').clone()).clamp(0,1)\n",
    "        images = []\n",
    "        for i in range(n): images += [x1[i],x2[i]] \n",
    "        return show_batch(x1[0], None, images, max_n=len(images), nrows=n)"
   ]
  },
  {
   "cell_type": "markdown",
   "metadata": {},
   "source": [
    "### Tests"
   ]
  },
  {
   "cell_type": "code",
   "execution_count": null,
   "metadata": {},
   "outputs": [],
   "source": [
    "from fastai.test_utils import *"
   ]
  },
  {
   "cell_type": "code",
   "execution_count": null,
   "metadata": {},
   "outputs": [],
   "source": [
    "class ContrastiveModel(Module):\n",
    "    def __init__(self): \n",
    "        self.encoder   = nn.Parameter(tensor([1.]))\n",
    "        self.projector = nn.Linear(1,5, bias=False)\n",
    "        self.projector.weight.data.zero_()\n",
    "        self.projector.weight.data += 1\n",
    "        self.projector = nn.Sequential(self.projector)\n",
    "        \n",
    "    def forward(self, x): return self.projector(x*self.encoder)"
   ]
  },
  {
   "cell_type": "code",
   "execution_count": null,
   "metadata": {},
   "outputs": [],
   "source": [
    "# No unsupervised, all samples are labelled, but use all for unsup loss\n",
    "supcon = SupConMOCO([Pipeline([noop],0),Pipeline([noop],0)], unsup_class_id=0, unsup_method=\"all\", K=8, m=0.999, reg_lambda=1.0, temp=0.07)\n",
    "yb = torch.tensor([1,1,2,2])\n",
    "pred = torch.randn((yb.shape[0]*2,128))"
   ]
  },
  {
   "cell_type": "code",
   "execution_count": null,
   "metadata": {},
   "outputs": [],
   "source": [
    "learner = synth_learner(cbs=supcon, data=synth_dbunch(a=0,b=0,bs=4), model=ContrastiveModel())"
   ]
  },
  {
   "cell_type": "code",
   "execution_count": null,
   "metadata": {},
   "outputs": [
    {
     "data": {
      "text/plain": [
       "(Pipeline: , Pipeline: )"
      ]
     },
     "execution_count": null,
     "metadata": {},
     "output_type": "execute_result"
    }
   ],
   "source": [
    "learner.sup_con_moco.aug1, learner.sup_con_moco.aug2"
   ]
  },
  {
   "cell_type": "code",
   "execution_count": null,
   "metadata": {},
   "outputs": [
    {
     "data": {
      "text/plain": [
       "{'unsup_class_id': 0,\n",
       " 'unsup_method': 'all',\n",
       " 'K': 8,\n",
       " 'm': 0.999,\n",
       " 'reg_lambda': 1.0,\n",
       " 'temp': 0.07}"
      ]
     },
     "execution_count": null,
     "metadata": {},
     "output_type": "execute_result"
    }
   ],
   "source": [
    "learner.sup_con_moco.__dict__['__stored_args__']"
   ]
  },
  {
   "cell_type": "code",
   "execution_count": null,
   "metadata": {},
   "outputs": [],
   "source": [
    "learner('before_fit')"
   ]
  },
  {
   "cell_type": "code",
   "execution_count": null,
   "metadata": {},
   "outputs": [],
   "source": [
    "assert learner.sup_con_moco.emb_queue.shape == (8,5)\n",
    "assert torch.all(learner.sup_con_moco.label_queue == torch.zeros(8))\n",
    "assert not any(list(o.requires_grad for o in learner.sup_con_moco.encoder_k.parameters()))\n",
    "assert torch.all(learner.sup_con_moco.encoder_k.projector[0].weight == 1)"
   ]
  },
  {
   "cell_type": "code",
   "execution_count": null,
   "metadata": {},
   "outputs": [],
   "source": [
    "b = tensor([1,1,-1,1]).reshape(-1,1),tensor([1,1,2,2])\n",
    "learner._split(b)\n",
    "learner('before_batch')"
   ]
  },
  {
   "cell_type": "code",
   "execution_count": null,
   "metadata": {},
   "outputs": [],
   "source": [
    "key_embs, labels = learner.sup_con_moco.yb\n",
    "assert torch.equal(F.normalize(learner.sup_con_moco.encoder_k(b[0])), key_embs)\n",
    "assert torch.equal(labels, b[1])"
   ]
  },
  {
   "cell_type": "code",
   "execution_count": null,
   "metadata": {},
   "outputs": [],
   "source": [
    "learner.model.encoder.data += 0.1 # pseudo param update 1.0 -> 1.1\n",
    "learner.model.projector[0].weight.data += 0.1 # pseudo param update 1.0 -> 1.1"
   ]
  },
  {
   "cell_type": "code",
   "execution_count": null,
   "metadata": {},
   "outputs": [],
   "source": [
    "learner('after_step')"
   ]
  },
  {
   "cell_type": "code",
   "execution_count": null,
   "metadata": {},
   "outputs": [],
   "source": [
    "assert torch.equal(learner.sup_con_moco.emb_queue[:4], key_embs)"
   ]
  },
  {
   "cell_type": "code",
   "execution_count": null,
   "metadata": {},
   "outputs": [],
   "source": [
    "newval = 1*supcon.m + 1.1*(1-supcon.m)\n",
    "assert torch.all(learner.sup_con_moco.encoder_k.encoder.data == newval) and torch.all(learner.sup_con_moco.encoder_k.projector[0].weight.data==newval)"
   ]
  },
  {
   "cell_type": "code",
   "execution_count": null,
   "metadata": {},
   "outputs": [],
   "source": [
    "b = tensor([-1,-1,1,-1]).reshape(-1,1),tensor([1,1,2,2])\n",
    "learner._split(b)\n",
    "learner('before_batch')"
   ]
  },
  {
   "cell_type": "code",
   "execution_count": null,
   "metadata": {},
   "outputs": [],
   "source": [
    "key_embs, labels = learner.sup_con_moco.yb\n",
    "assert torch.equal(F.normalize(learner.sup_con_moco.encoder_k(b[0])), key_embs)\n",
    "assert torch.equal(labels, b[1])"
   ]
  },
  {
   "cell_type": "code",
   "execution_count": null,
   "metadata": {},
   "outputs": [],
   "source": [
    "learner('after_step')"
   ]
  },
  {
   "cell_type": "code",
   "execution_count": null,
   "metadata": {},
   "outputs": [],
   "source": [
    "assert torch.equal(learner.sup_con_moco.emb_queue[-4:], key_embs)"
   ]
  },
  {
   "cell_type": "code",
   "execution_count": null,
   "metadata": {},
   "outputs": [],
   "source": [
    "newval = newval*supcon.m + 1.1*(1-supcon.m)\n",
    "assert torch.all(learner.sup_con_moco.encoder_k.encoder.data == newval) and torch.all(learner.sup_con_moco.encoder_k.projector[0].weight.data==newval)"
   ]
  },
  {
   "cell_type": "code",
   "execution_count": null,
   "metadata": {},
   "outputs": [
    {
     "data": {
      "text/plain": [
       "tensor([[ 0.4472,  0.4472,  0.4472,  0.4472,  0.4472],\n",
       "        [ 0.4472,  0.4472,  0.4472,  0.4472,  0.4472],\n",
       "        [-0.4472, -0.4472, -0.4472, -0.4472, -0.4472],\n",
       "        [ 0.4472,  0.4472,  0.4472,  0.4472,  0.4472],\n",
       "        [-0.4472, -0.4472, -0.4472, -0.4472, -0.4472],\n",
       "        [-0.4472, -0.4472, -0.4472, -0.4472, -0.4472],\n",
       "        [ 0.4472,  0.4472,  0.4472,  0.4472,  0.4472],\n",
       "        [-0.4472, -0.4472, -0.4472, -0.4472, -0.4472]])"
      ]
     },
     "execution_count": null,
     "metadata": {},
     "output_type": "execute_result"
    }
   ],
   "source": [
    "learner.sup_con_moco.emb_queue"
   ]
  },
  {
   "cell_type": "code",
   "execution_count": null,
   "metadata": {},
   "outputs": [],
   "source": []
  },
  {
   "cell_type": "code",
   "execution_count": null,
   "metadata": {},
   "outputs": [],
   "source": []
  },
  {
   "cell_type": "code",
   "execution_count": null,
   "metadata": {},
   "outputs": [],
   "source": []
  },
  {
   "cell_type": "markdown",
   "metadata": {},
   "source": [
    "### Example Usage"
   ]
  },
  {
   "cell_type": "code",
   "execution_count": null,
   "metadata": {},
   "outputs": [],
   "source": [
    "path = untar_data(URLs.IMAGEWANG_160)\n",
    "items = get_image_files(path)"
   ]
  },
  {
   "cell_type": "code",
   "execution_count": null,
   "metadata": {},
   "outputs": [],
   "source": [
    "items = np.random.choice(items, size=1000)"
   ]
  },
  {
   "cell_type": "code",
   "execution_count": null,
   "metadata": {},
   "outputs": [],
   "source": [
    "tds = Datasets(items, [[PILImage.create, ToTensor, RandomResizedCrop(112, min_scale=1.)],\n",
    "                       [parent_label, Categorize()]], splits=RandomSplitter()(items))\n",
    "dls = tds.dataloaders(bs=5, after_item=[ToTensor(), IntToFloatTensor()], device='cpu')"
   ]
  },
  {
   "cell_type": "code",
   "execution_count": null,
   "metadata": {},
   "outputs": [],
   "source": [
    "unsup_class_id = dls.vocab.o2i['unsup']"
   ]
  },
  {
   "cell_type": "code",
   "execution_count": null,
   "metadata": {},
   "outputs": [
    {
     "name": "stdout",
     "output_type": "stream",
     "text": [
      "Pipeline: RandomResizedCrop -> RandomHorizontalFlip\n",
      "Pipeline: RandomResizedCrop -> RandomHorizontalFlip\n"
     ]
    }
   ],
   "source": [
    "fastai_encoder = create_encoder('xresnet18', n_in=3, pretrained=False)\n",
    "model = create_supcon_model(fastai_encoder, hidden_size=2048, projection_size=128)\n",
    "aug_pipelines = get_supcon_aug_pipelines(size=28, rotate=False, jitter=False, bw=False, blur=False, stats=None, cuda=False)\n",
    "learn = Learner(dls, model, cbs=[SupCon(aug_pipelines, \n",
    "                                        unsup_class_id,\n",
    "                                        unsup_method=UnsupMethod.All, reg_lambda=1.0, temp=0.07,\n",
    "                                        print_augs=True),ShortEpochCallback(0.001)])"
   ]
  },
  {
   "cell_type": "markdown",
   "metadata": {},
   "source": [
    "Also, with `show_one()` method you can inspect data augmentations as a sanity check. You can use existing augmentation functions from `augmentations` module."
   ]
  },
  {
   "cell_type": "code",
   "execution_count": null,
   "metadata": {},
   "outputs": [
    {
     "data": {
      "image/png": "[encoded data removed]",
      "text/plain": [
       "<Figure size 432x1080 with 10 Axes>"
      ]
     },
     "metadata": {
      "needs_background": "light"
     },
     "output_type": "display_data"
    }
   ],
   "source": [
    "b = dls.one_batch()\n",
    "learn._split(b)\n",
    "learn('before_batch')\n",
    "axes = learn.sup_con.show(n=5)"
   ]
  },
  {
   "cell_type": "code",
   "execution_count": null,
   "metadata": {},
   "outputs": [
    {
     "data": {
      "text/html": [
       "\n",
       "<style>\n",
       "    /* Turns off some styling */\n",
       "    progress {\n",
       "        /* gets rid of default border in Firefox and Opera. */\n",
       "        border: none;\n",
       "        /* Needs to be in here for Safari polyfill so background images work as expected. */\n",
       "        background-size: auto;\n",
       "    }\n",
       "    .progress-bar-interrupted, .progress-bar-interrupted::-webkit-progress-bar {\n",
       "        background: #F44336;\n",
       "    }\n",
       "</style>\n"
      ],
      "text/plain": [
       "<IPython.core.display.HTML object>"
      ]
     },
     "metadata": {},
     "output_type": "display_data"
    },
    {
     "data": {
      "text/html": [
       "<table border=\"1\" class=\"dataframe\">\n",
       "  <thead>\n",
       "    <tr style=\"text-align: left;\">\n",
       "      <th>epoch</th>\n",
       "      <th>train_loss</th>\n",
       "      <th>valid_loss</th>\n",
       "      <th>time</th>\n",
       "    </tr>\n",
       "  </thead>\n",
       "  <tbody>\n",
       "    <tr>\n",
       "      <td>0</td>\n",
       "      <td>00:02</td>\n",
       "    </tr>\n",
       "  </tbody>\n",
       "</table>"
      ],
      "text/plain": [
       "<IPython.core.display.HTML object>"
      ]
     },
     "metadata": {},
     "output_type": "display_data"
    }
   ],
   "source": [
    "learn.fit(1)"
   ]
  },
  {
   "cell_type": "code",
   "execution_count": null,
   "metadata": {},
   "outputs": [
    {
     "data": {
      "text/plain": [
       "[TensorCategory(1.7556)]"
      ]
     },
     "execution_count": null,
     "metadata": {},
     "output_type": "execute_result"
    }
   ],
   "source": [
    "learn.recorder.losses"
   ]
  },
  {
   "cell_type": "code",
   "execution_count": null,
   "metadata": {},
   "outputs": [
    {
     "name": "stdout",
     "output_type": "stream",
     "text": [
      "Pipeline: RandomResizedCrop -> RandomHorizontalFlip\n",
      "Pipeline: RandomResizedCrop -> RandomHorizontalFlip\n"
     ]
    }
   ],
   "source": [
    "fastai_encoder = create_encoder('xresnet18', n_in=3, pretrained=False)\n",
    "model = create_supcon_model(fastai_encoder, hidden_size=2048, projection_size=128)\n",
    "aug_pipelines = get_supcon_aug_pipelines(size=28, rotate=False, jitter=False, bw=False, blur=False, stats=None, cuda=False)\n",
    "learn = Learner(dls, model, cbs=[SupConMOCO(aug_pipelines, \n",
    "                                            unsup_class_id,\n",
    "                                            unsup_method=UnsupMethod.All, K=25, reg_lambda=1.0, temp=0.07,\n",
    "                                            print_augs=True),ShortEpochCallback(0.001)])"
   ]
  },
  {
   "cell_type": "code",
   "execution_count": null,
   "metadata": {},
   "outputs": [
    {
     "data": {
      "text/html": [
       "\n",
       "<style>\n",
       "    /* Turns off some styling */\n",
       "    progress {\n",
       "        /* gets rid of default border in Firefox and Opera. */\n",
       "        border: none;\n",
       "        /* Needs to be in here for Safari polyfill so background images work as expected. */\n",
       "        background-size: auto;\n",
       "    }\n",
       "    .progress-bar-interrupted, .progress-bar-interrupted::-webkit-progress-bar {\n",
       "        background: #F44336;\n",
       "    }\n",
       "</style>\n"
      ],
      "text/plain": [
       "<IPython.core.display.HTML object>"
      ]
     },
     "metadata": {},
     "output_type": "display_data"
    },
    {
     "data": {
      "text/html": [
       "<table border=\"1\" class=\"dataframe\">\n",
       "  <thead>\n",
       "    <tr style=\"text-align: left;\">\n",
       "      <th>epoch</th>\n",
       "      <th>train_loss</th>\n",
       "      <th>valid_loss</th>\n",
       "      <th>time</th>\n",
       "    </tr>\n",
       "  </thead>\n",
       "  <tbody>\n",
       "    <tr>\n",
       "      <td>0</td>\n",
       "      <td>00:06</td>\n",
       "    </tr>\n",
       "  </tbody>\n",
       "</table>"
      ],
      "text/plain": [
       "<IPython.core.display.HTML object>"
      ]
     },
     "metadata": {},
     "output_type": "display_data"
    }
   ],
   "source": [
    "learn.fit(1)"
   ]
  },
  {
   "cell_type": "markdown",
   "metadata": {},
   "source": [
    "## Export -"
   ]
  },
  {
   "cell_type": "code",
   "execution_count": null,
   "metadata": {},
   "outputs": [
    {
     "name": "stdout",
     "output_type": "stream",
     "text": [
      "Converted 01 - augmentations.ipynb.\n",
      "Converted 02 - layers.ipynb.\n",
      "Converted 03 - distributed.ipynb.\n",
      "Converted 10 - simclr.ipynb.\n",
      "Converted 11 - moco.ipynb.\n",
      "Converted 12 - byol.ipynb.\n",
      "Converted 13 - swav.ipynb.\n",
      "Converted 14 - barlow_twins.ipynb.\n",
      "Converted 15 - dino.ipynb.\n",
      "Converted 16 - supcon.ipynb.\n",
      "Converted 20 - clip.ipynb.\n",
      "Converted 21 - clip-moco.ipynb.\n",
      "Converted 70 - vision.metrics.ipynb.\n",
      "Converted 90 - models.vision_transformer.ipynb.\n",
      "Converted index.ipynb.\n"
     ]
    }
   ],
   "source": [
    "#hide\n",
    "from nbdev.export import notebook2script\n",
    "notebook2script()"
   ]
  },
  {
   "cell_type": "code",
   "execution_count": null,
   "metadata": {},
   "outputs": [],
   "source": []
  }
 ],
 "metadata": {
  "kernelspec": {
   "display_name": "Python 3",
   "language": "python",
   "name": "python3"
  }
 },
 "nbformat": 4,
 "nbformat_minor": 4
}
