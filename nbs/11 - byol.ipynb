{
 "cells": [
  {
   "cell_type": "code",
   "execution_count": null,
   "metadata": {},
   "outputs": [],
   "source": [
    "#default_exp vision.byol"
   ]
  },
  {
   "cell_type": "markdown",
   "metadata": {},
   "source": [
    "# BYOL\n",
    "\n",
    "> **BYOL**: [Bootstrap Your Own Latent A New Approach to Self-Supervised Learning](https://arxiv.org/pdf/2006.07733.pdf)"
   ]
  },
  {
   "cell_type": "code",
   "execution_count": null,
   "metadata": {},
   "outputs": [],
   "source": [
    "#export\n",
    "from fastai.vision.all import *\n",
    "from self_supervised.augmentations import *\n",
    "from self_supervised.layers import *"
   ]
  },
  {
   "cell_type": "markdown",
   "metadata": {},
   "source": [
    "## Algorithm"
   ]
  },
  {
   "cell_type": "markdown",
   "metadata": {},
   "source": [
    "#### BYOL"
   ]
  },
  {
   "cell_type": "markdown",
   "metadata": {},
   "source": [
    "![BYOL](images/byol.png)"
   ]
  },
  {
   "cell_type": "markdown",
   "metadata": {},
   "source": [
    "**Abstract**: We introduce Bootstrap Your Own Latent (BYOL), a new approach to self-supervised image\n",
    "representation learning. BYOL relies on two neural networks, referred to as online and target\n",
    "networks, that interact and learn from each other. From an augmented view of an image, we train\n",
    "the online network to predict the target network representation of the same image under a different\n",
    "augmented view. At the same time, we update the target network with a slow-moving average\n",
    "of the online network. While state-of-the art methods rely on negative pairs, BYOL achieves a\n",
    "new state of the art without them. BYOL reaches 74:3% top-1 classification accuracy on ImageNet\n",
    "using a linear evaluation with a ResNet-50 architecture and 79:6% with a larger ResNet. We\n",
    "show that BYOL performs on par or better than the current state of the art on both transfer and\n",
    "semi-supervised benchmarks. Our implementation and pretrained models are given on GitHub.3"
   ]
  },
  {
   "cell_type": "code",
   "execution_count": null,
   "metadata": {},
   "outputs": [],
   "source": [
    "#export\n",
    "class BYOLModel(Module):\n",
    "    \"Compute predictions of v1 and v2\" \n",
    "    def __init__(self,encoder,projector,predictor):\n",
    "        self.encoder,self.projector,self.predictor = encoder,projector,predictor    \n",
    "\n",
    "    def forward(self,v1,v2):\n",
    "        \"Symmetric predictions for symmetric loss calc\"\n",
    "        q1 = self.predictor(self.projector(self.encoder(v1)))\n",
    "        q2 = self.predictor(self.projector(self.encoder(v2)))\n",
    "        return (q1,q2)"
   ]
  },
  {
   "cell_type": "markdown",
   "metadata": {},
   "source": [
    "You can either use `BYOLModel` module to create a model by passing predefined `encoder`, `projector` and `predictor` models or you can use `create_byol_model` with just passing predefined encoder and expected input channels.\n",
    "\n",
    "You may notice `projector`/mlp module defined here is different than the one defined in SimCLR, in the sense that it has a batchnorm layer. You can read this great [blog post](https://untitled-ai.github.io/understanding-self-supervised-contrastive-learning.html) for a better intuition on the effect of the batchnorm layer in `BYOL`."
   ]
  },
  {
   "cell_type": "code",
   "execution_count": null,
   "metadata": {},
   "outputs": [],
   "source": [
    "#export\n",
    "def create_byol_model(encoder, n_in=3, hidden_size=4096, projection_size=256):\n",
    "    \"Create BYOL model\"\n",
    "    with torch.no_grad(): representation = encoder(torch.randn((2,n_in,128,128)))\n",
    "    projector = create_mlp_module(representation.size(1), hidden_size, projection_size, bn=True)\n",
    "    predictor = create_mlp_module(projection_size, hidden_size, projection_size, bn=True)\n",
    "    apply_init(projector)\n",
    "    apply_init(predictor)\n",
    "    return BYOLModel(encoder, projector, predictor)"
   ]
  },
  {
   "cell_type": "code",
   "execution_count": null,
   "metadata": {},
   "outputs": [
    {
     "data": {
      "text/plain": [
       "(torch.Size([2, 128]), torch.Size([2, 128]))"
      ]
     },
     "execution_count": null,
     "metadata": {},
     "output_type": "execute_result"
    }
   ],
   "source": [
    "encoder = create_encoder(\"tf_efficientnet_b0_ns\", n_in=3, pretrained=False, pool_type=PoolingType.CatAvgMax)\n",
    "model = create_byol_model(encoder, n_in=3, hidden_size=2048, projection_size=128)\n",
    "out = model(torch.randn((2,3,224,224)), torch.randn((2,3,224,224)))\n",
    "out[0].shape, out[1].shape"
   ]
  },
  {
   "cell_type": "markdown",
   "metadata": {},
   "source": [
    "## BYOL Callback"
   ]
  },
  {
   "cell_type": "markdown",
   "metadata": {},
   "source": [
    "This loss function calculates symmetric mse loss between predictions from predictor and targets from target model of the different views of the same image"
   ]
  },
  {
   "cell_type": "code",
   "execution_count": null,
   "metadata": {},
   "outputs": [],
   "source": [
    "#export\n",
    "from copy import deepcopy\n",
    "\n",
    "class BYOL(Callback):\n",
    "    order,run_valid = 9,True\n",
    "    def __init__(self, T=0.999, size=224, aug_func=get_batch_augs, print_augs=False, **aug_kwargs):        \n",
    "        store_attr(\"T\")\n",
    "        self.aug1 = aug_func(size, **aug_kwargs)\n",
    "        self.aug2 = aug_func(size, **aug_kwargs)\n",
    "        if print_augs: print(self.aug1), print(self.aug2)\n",
    "\n",
    "    def before_fit(self):\n",
    "        \"Create target model\"\n",
    "        self.target_model = deepcopy(self.learn.model).to(self.dls.device)\n",
    "        for param_k in self.target_model.parameters(): param_k.requires_grad = False \n",
    "        self.learn.loss_func = self.lf\n",
    "        \n",
    "    def before_batch(self):\n",
    "        \"Generate 2 views of the same image and calculate target projections for these views\"\n",
    "        v1,v2 = self.aug1(self.x), self.aug2(self.x.clone())\n",
    "        self.learn.xb = (v1,v2)\n",
    "    \n",
    "        with torch.no_grad():\n",
    "            z1 = self.target_model.projector(self.target_model.encoder(v1))\n",
    "            z2 = self.target_model.projector(self.target_model.encoder(v2))\n",
    "            self.learn.yb = (z1,z2)\n",
    "\n",
    "            \n",
    "    def _mse_loss(self, x, y):\n",
    "        x,y = F.normalize(x), F.normalize(y)\n",
    "        return 2 - 2 * (x * y).sum(dim=-1)\n",
    "\n",
    "    \n",
    "    def lf(self, pred, *yb):\n",
    "        (q1,q2),(z1,z2) = pred,yb\n",
    "        return (self._mse_loss(q1,z2) + self._mse_loss(q2,z1)).mean()\n",
    "            \n",
    "\n",
    "    def after_step(self):\n",
    "        \"Momentum update target model\"\n",
    "        with torch.no_grad():\n",
    "            for param_k, param_q in zip(self.target_model.parameters(), self.model.parameters()):\n",
    "                param_k.data = param_k.data * self.T + param_q.data * (1. - self.T)\n",
    "          \n",
    "\n",
    "    def show(self, n=1):\n",
    "        x1,x2  = self.learn.xb\n",
    "        bs = x1.size(0)\n",
    "        idxs = np.random.choice(range(bs),n,False)\n",
    "        x1 = self.aug1.decode(x1[idxs].to('cpu').clone()).clamp(0,1)\n",
    "        x2 = self.aug2.decode(x2[idxs].to('cpu').clone()).clamp(0,1)\n",
    "        images = []\n",
    "        for i in range(n): images += [x1[i],x2[i]] \n",
    "        show_images(images, nrows=n)"
   ]
  },
  {
   "cell_type": "markdown",
   "metadata": {},
   "source": [
    "`T` is the moving average parameter used in updating the target model. You can pass `size` to define the random resized crop size and other data augmentation arguments defined in `get_aug_pipe` through `aug_kwargs`. Also, with `show_one()` method you can inspect data augmentations as a sanity check"
   ]
  },
  {
   "cell_type": "markdown",
   "metadata": {},
   "source": [
    "### Example Usage"
   ]
  },
  {
   "cell_type": "code",
   "execution_count": null,
   "metadata": {},
   "outputs": [],
   "source": [
    "path = untar_data(URLs.MNIST_TINY)\n",
    "items = get_image_files(path)\n",
    "tds = Datasets(items, [PILImageBW.create, [parent_label, Categorize()]], splits=GrandparentSplitter()(items))\n",
    "dls = tds.dataloaders(bs=5, after_item=[ToTensor(), IntToFloatTensor()], device='cpu')"
   ]
  },
  {
   "cell_type": "code",
   "execution_count": null,
   "metadata": {},
   "outputs": [],
   "source": [
    "fastai_encoder = create_fastai_encoder(xresnet18, n_in=1, pretrained=False)\n",
    "model = create_byol_model(fastai_encoder, n_in=1, hidden_size=4096, projection_size=256)\n",
    "learn = Learner(dls, model, cbs=[BYOL(size=28, aug_func=get_batch_augs, \n",
    "                            rotate=False, jitter=False, bw=False, blur=False,\n",
    "                            stats=None, cuda=False),\n",
    "                     ShortEpochCallback(0.001)])"
   ]
  },
  {
   "cell_type": "code",
   "execution_count": null,
   "metadata": {},
   "outputs": [
    {
     "data": {
      "image/png": "[encoded data removed]",
      "text/plain": [
       "<Figure size 432x1080 with 10 Axes>"
      ]
     },
     "metadata": {
      "needs_background": "light"
     },
     "output_type": "display_data"
    }
   ],
   "source": [
    "b = dls.one_batch()\n",
    "learn._split(b)\n",
    "learn('before_fit')\n",
    "learn('before_batch')\n",
    "learn.byol.show(n=5)"
   ]
  },
  {
   "cell_type": "code",
   "execution_count": null,
   "metadata": {},
   "outputs": [
    {
     "data": {
      "text/html": [
       "<table border=\"1\" class=\"dataframe\">\n",
       "  <thead>\n",
       "    <tr style=\"text-align: left;\">\n",
       "      <th>epoch</th>\n",
       "      <th>train_loss</th>\n",
       "      <th>valid_loss</th>\n",
       "      <th>time</th>\n",
       "    </tr>\n",
       "  </thead>\n",
       "  <tbody>\n",
       "    <tr>\n",
       "      <td>0</td>\n",
       "      <td>00:02</td>\n",
       "    </tr>\n",
       "  </tbody>\n",
       "</table>"
      ],
      "text/plain": [
       "<IPython.core.display.HTML object>"
      ]
     },
     "metadata": {},
     "output_type": "display_data"
    }
   ],
   "source": [
    "learn.fit(1)"
   ]
  },
  {
   "cell_type": "code",
   "execution_count": null,
   "metadata": {},
   "outputs": [
    {
     "data": {
      "text/plain": [
       "[tensor(3.8309)]"
      ]
     },
     "execution_count": null,
     "metadata": {},
     "output_type": "execute_result"
    }
   ],
   "source": [
    "learn.recorder.losses"
   ]
  },
  {
   "cell_type": "markdown",
   "metadata": {},
   "source": [
    "## Export -"
   ]
  },
  {
   "cell_type": "code",
   "execution_count": null,
   "metadata": {},
   "outputs": [
    {
     "name": "stdout",
     "output_type": "stream",
     "text": [
      "Converted 01-augmentations.ipynb.\n",
      "Converted 02-layers.ipynb.\n",
      "Converted 03-distributed.ipynb.\n",
      "Converted 10-simclr.ipynb.\n",
      "Converted 11-byol.ipynb.\n",
      "Converted 12-swav.ipynb.\n",
      "Converted 13-moco.ipynb.\n",
      "Converted index.ipynb.\n"
     ]
    }
   ],
   "source": [
    "#hide\n",
    "from nbdev.export import notebook2script\n",
    "notebook2script()"
   ]
  },
  {
   "cell_type": "code",
   "execution_count": null,
   "metadata": {},
   "outputs": [],
   "source": []
  },
  {
   "cell_type": "code",
   "execution_count": null,
   "metadata": {},
   "outputs": [],
   "source": []
  }
 ],
 "metadata": {
  "kernelspec": {
   "display_name": "Python 3",
   "language": "python",
   "name": "python3"
  }
 },
 "nbformat": 4,
 "nbformat_minor": 2
}
