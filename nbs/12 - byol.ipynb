{
 "cells": [
  {
   "cell_type": "code",
   "execution_count": null,
   "metadata": {},
   "outputs": [],
   "source": [
    "#default_exp vision.byol"
   ]
  },
  {
   "cell_type": "markdown",
   "metadata": {},
   "source": [
    "# BYOL\n",
    "\n",
    "> **BYOL**: [Bootstrap Your Own Latent A New Approach to Self-Supervised Learning](https://arxiv.org/pdf/2006.07733.pdf)"
   ]
  },
  {
   "cell_type": "code",
   "execution_count": null,
   "metadata": {},
   "outputs": [],
   "source": [
    "#export\n",
    "from fastai.vision.all import *\n",
    "from self_supervised.augmentations import *\n",
    "from self_supervised.layers import *"
   ]
  },
  {
   "cell_type": "markdown",
   "metadata": {},
   "source": [
    "## Algorithm"
   ]
  },
  {
   "cell_type": "markdown",
   "metadata": {},
   "source": [
    "#### BYOL"
   ]
  },
  {
   "cell_type": "markdown",
   "metadata": {},
   "source": [
    "![BYOL](images/byol.png)"
   ]
  },
  {
   "cell_type": "markdown",
   "metadata": {},
   "source": [
    "**Abstract**: We introduce Bootstrap Your Own Latent (BYOL), a new approach to self-supervised image\n",
    "representation learning. BYOL relies on two neural networks, referred to as online and target\n",
    "networks, that interact and learn from each other. From an augmented view of an image, we train\n",
    "the online network to predict the target network representation of the same image under a different\n",
    "augmented view. At the same time, we update the target network with a slow-moving average\n",
    "of the online network. While state-of-the art methods rely on negative pairs, BYOL achieves a\n",
    "new state of the art without them. BYOL reaches 74:3% top-1 classification accuracy on ImageNet\n",
    "using a linear evaluation with a ResNet-50 architecture and 79:6% with a larger ResNet. We\n",
    "show that BYOL performs on par or better than the current state of the art on both transfer and\n",
    "semi-supervised benchmarks. Our implementation and pretrained models are given on GitHub.3"
   ]
  },
  {
   "cell_type": "code",
   "execution_count": null,
   "metadata": {},
   "outputs": [],
   "source": [
    "#export\n",
    "class BYOLModel(Module):\n",
    "    \"Compute predictions of v1 and v2\" \n",
    "    def __init__(self,encoder,projector,predictor):\n",
    "        self.encoder,self.projector,self.predictor = encoder,projector,predictor    \n",
    "\n",
    "    def forward(self,v1,v2):\n",
    "        \"Symmetric predictions for symmetric loss calc\"\n",
    "        q1 = self.predictor(self.projector(self.encoder(v1)))\n",
    "        q2 = self.predictor(self.projector(self.encoder(v2)))\n",
    "        return (q1,q2)"
   ]
  },
  {
   "cell_type": "markdown",
   "metadata": {},
   "source": [
    "You can either use `BYOLModel` module to create a model by passing predefined `encoder`, `projector` and `predictor` models or you can use `create_byol_model` with just passing predefined encoder and expected input channels.\n",
    "\n",
    "You may notice `projector`/mlp module defined here is different than the one defined in SimCLR, in the sense that it has a batchnorm layer. You can read this great [blog post](https://untitled-ai.github.io/understanding-self-supervised-contrastive-learning.html) for a better intuition on the effect of the batchnorm layer in `BYOL`."
   ]
  },
  {
   "cell_type": "code",
   "execution_count": null,
   "metadata": {},
   "outputs": [],
   "source": [
    "#export\n",
    "def create_byol_model(encoder, hidden_size=4096, projection_size=256):\n",
    "    \"Create BYOL model\"\n",
    "    n_in  = in_channels(encoder)\n",
    "    with torch.no_grad(): representation = encoder(torch.randn((2,n_in,128,128)))\n",
    "    projector = create_mlp_module(representation.size(1), hidden_size, projection_size, bn=True)\n",
    "    predictor = create_mlp_module(projection_size, hidden_size, projection_size, bn=True)\n",
    "    apply_init(projector)\n",
    "    apply_init(predictor)\n",
    "    return BYOLModel(encoder, projector, predictor)"
   ]
  },
  {
   "cell_type": "code",
   "execution_count": null,
   "metadata": {},
   "outputs": [
    {
     "data": {
      "text/plain": [
       "(torch.Size([2, 128]), torch.Size([2, 128]))"
      ]
     },
     "execution_count": null,
     "metadata": {},
     "output_type": "execute_result"
    }
   ],
   "source": [
    "encoder = create_encoder(\"tf_efficientnet_b0_ns\", n_in=3, pretrained=False, pool_type=PoolingType.CatAvgMax)\n",
    "model = create_byol_model(encoder, hidden_size=2048, projection_size=128)\n",
    "out = model(torch.randn((2,3,224,224)), torch.randn((2,3,224,224)))\n",
    "out[0].shape, out[1].shape"
   ]
  },
  {
   "cell_type": "markdown",
   "metadata": {},
   "source": [
    "## BYOL Callback"
   ]
  },
  {
   "cell_type": "markdown",
   "metadata": {},
   "source": [
    "The following parameters can be passed;\n",
    "\n",
    "- **m** is momentum for target encoder/model update, a similar idea to MoCo.\n",
    "- **aug_pipelines** list of augmentation pipelines List[Pipeline] created using functions from `self_supervised.augmentations` module. Each `Pipeline` should be set to `split_idx=0`. You can simply use `get_byol_aug_pipelines` utility to get aug_pipelines."
   ]
  },
  {
   "cell_type": "markdown",
   "metadata": {},
   "source": [
    "BYOL algorithm uses 2 views of a given image, and `BYOL` callback expects a list of 2 augmentation pipelines in `aug_pipelines`.\n",
    "\n",
    "You can simply use helper function `get_byol_aug_pipelines()` which will only except augmentation related arguments such as size, rotate, jitter...and will return a list of 2 pipelines, which we can be passed to the callback. This function uses `get_multi_aug_pipelines` which then `get_batch_augs`. For more information you may refer to `self_supervised.augmentations` module.\n",
    "\n",
    "Also, you may choose to pass your own list of aug_pipelines which needs to be List[Pipeline, Pipeline] where Pipeline(..., split_idx=0). Here, `split_idx=0` forces augmentations to be applied in training mode."
   ]
  },
  {
   "cell_type": "code",
   "execution_count": null,
   "metadata": {},
   "outputs": [],
   "source": [
    "#export\n",
    "@delegates(get_multi_aug_pipelines)\n",
    "def get_byol_aug_pipelines(size, **kwargs): return get_multi_aug_pipelines(n=2, size=size, **kwargs)"
   ]
  },
  {
   "cell_type": "code",
   "execution_count": null,
   "metadata": {},
   "outputs": [],
   "source": [
    "#export\n",
    "from copy import deepcopy\n",
    "\n",
    "class BYOL(Callback):\n",
    "    order,run_valid = 9,True\n",
    "    def __init__(self, m=0.999, aug_pipelines=[], print_augs=False):        \n",
    "        assert_aug_pipelines(aug_pipelines)\n",
    "        self.aug1, self.aug2 = aug_pipelines\n",
    "        if print_augs: print(self.aug1), print(self.aug2)\n",
    "        store_attr(\"m\")\n",
    "\n",
    "    def before_fit(self):\n",
    "        \"Create target model\"\n",
    "        self.target_model = deepcopy(self.learn.model).to(self.dls.device)\n",
    "        for param_k in self.target_model.parameters(): param_k.requires_grad = False \n",
    "        self.learn.loss_func = self.lf\n",
    "        \n",
    "    def before_batch(self):\n",
    "        \"Generate 2 views of the same image and calculate target projections for these views\"\n",
    "        v1,v2 = self.aug1(self.x), self.aug2(self.x.clone())\n",
    "        self.learn.xb = (v1,v2)\n",
    "    \n",
    "        with torch.no_grad():\n",
    "            z1 = self.target_model.projector(self.target_model.encoder(v1))\n",
    "            z2 = self.target_model.projector(self.target_model.encoder(v2))\n",
    "            self.learn.yb = (z1,z2)\n",
    "\n",
    "            \n",
    "    def _mse_loss(self, x, y):\n",
    "        x,y = F.normalize(x), F.normalize(y)\n",
    "        return 2 - 2 * (x * y).sum(dim=-1)\n",
    "\n",
    "    \n",
    "    def lf(self, pred, *yb):\n",
    "        (q1,q2),(z1,z2) = pred,yb\n",
    "        return (self._mse_loss(q1,z2) + self._mse_loss(q2,z1)).mean()\n",
    "        \n",
    " \n",
    "    @torch.no_grad()\n",
    "    def _momentum_update_target_encoder(self):\n",
    "        for param_q, param_k in zip(self.learn.model.parameters(), self.target_model.parameters()):\n",
    "            param_k.data = param_k.data * self.m + param_q.data * (1. - self.m)\n",
    "            \n",
    "\n",
    "    def after_step(self):\n",
    "        \"Momentum update target model\"\n",
    "        self._momentum_update_target_encoder()\n",
    "\n",
    "        \n",
    "    @torch.no_grad()\n",
    "    def show(self, n=1):\n",
    "        x1,x2  = self.learn.xb\n",
    "        bs = x1.size(0)\n",
    "        idxs = np.random.choice(range(bs),n,False)\n",
    "        x1 = self.aug1.decode(x1[idxs].to('cpu').clone()).clamp(0,1)\n",
    "        x2 = self.aug2.decode(x2[idxs].to('cpu').clone()).clamp(0,1)\n",
    "        images = []\n",
    "        for i in range(n): images += [x1[i],x2[i]] \n",
    "        return show_batch(x1[0], None, images, max_n=n * n, ncols=None, nrows=n)"
   ]
  },
  {
   "cell_type": "markdown",
   "metadata": {},
   "source": [
    "### Example Usage"
   ]
  },
  {
   "cell_type": "code",
   "execution_count": null,
   "metadata": {},
   "outputs": [],
   "source": [
    "path = untar_data(URLs.MNIST_TINY)\n",
    "items = get_image_files(path)\n",
    "tds = Datasets(items, [PILImageBW.create, [parent_label, Categorize()]], splits=GrandparentSplitter()(items))\n",
    "dls = tds.dataloaders(bs=5, after_item=[ToTensor(), IntToFloatTensor()], device='cpu')"
   ]
  },
  {
   "cell_type": "code",
   "execution_count": null,
   "metadata": {},
   "outputs": [
    {
     "name": "stdout",
     "output_type": "stream",
     "text": [
      "Pipeline: RandomResizedCrop -> RandomHorizontalFlip\n",
      "Pipeline: RandomResizedCrop -> RandomHorizontalFlip\n"
     ]
    }
   ],
   "source": [
    "fastai_encoder = create_encoder('xresnet18', n_in=1, pretrained=False)\n",
    "model = create_byol_model(fastai_encoder, hidden_size=4096, projection_size=256)\n",
    "aug_pipelines = get_byol_aug_pipelines(size=28, rotate=False, jitter=False, bw=False, blur=False, stats=None, cuda=False)\n",
    "learn = Learner(dls, model, cbs=[BYOL(aug_pipelines=aug_pipelines, print_augs=True), ShortEpochCallback(0.001)])"
   ]
  },
  {
   "cell_type": "code",
   "execution_count": null,
   "metadata": {},
   "outputs": [
    {
     "data": {
      "image/png": "[encoded data removed]",
      "text/plain": [
       "<Figure size 432x1080 with 10 Axes>"
      ]
     },
     "metadata": {
      "needs_background": "light"
     },
     "output_type": "display_data"
    }
   ],
   "source": [
    "b = dls.one_batch()\n",
    "learn._split(b)\n",
    "learn('before_fit')\n",
    "learn('before_batch')\n",
    "axes = learn.byol.show(n=5)"
   ]
  },
  {
   "cell_type": "code",
   "execution_count": null,
   "metadata": {},
   "outputs": [
    {
     "data": {
      "text/html": [
       "<table border=\"1\" class=\"dataframe\">\n",
       "  <thead>\n",
       "    <tr style=\"text-align: left;\">\n",
       "      <th>epoch</th>\n",
       "      <th>train_loss</th>\n",
       "      <th>valid_loss</th>\n",
       "      <th>time</th>\n",
       "    </tr>\n",
       "  </thead>\n",
       "  <tbody>\n",
       "    <tr>\n",
       "      <td>0</td>\n",
       "      <td>00:02</td>\n",
       "    </tr>\n",
       "  </tbody>\n",
       "</table>"
      ],
      "text/plain": [
       "<IPython.core.display.HTML object>"
      ]
     },
     "metadata": {},
     "output_type": "display_data"
    }
   ],
   "source": [
    "learn.fit(1)"
   ]
  },
  {
   "cell_type": "code",
   "execution_count": null,
   "metadata": {},
   "outputs": [
    {
     "data": {
      "text/plain": [
       "[tensor(4.1046)]"
      ]
     },
     "execution_count": null,
     "metadata": {},
     "output_type": "execute_result"
    }
   ],
   "source": [
    "learn.recorder.losses"
   ]
  },
  {
   "cell_type": "markdown",
   "metadata": {},
   "source": [
    "## Export -"
   ]
  },
  {
   "cell_type": "code",
   "execution_count": null,
   "metadata": {},
   "outputs": [
    {
     "name": "stdout",
     "output_type": "stream",
     "text": [
      "Converted 01 - augmentations.ipynb.\n",
      "Converted 02 - layers.ipynb.\n",
      "Converted 03 - distributed.ipynb.\n",
      "Converted 10 - simclr.ipynb.\n",
      "Converted 11 - moco.ipynb.\n",
      "Converted 12 - byol.ipynb.\n",
      "Converted 13 - swav.ipynb.\n",
      "Converted 20 - clip.ipynb.\n",
      "Converted 21 - clip-moco.ipynb.\n",
      "Converted index.ipynb.\n"
     ]
    }
   ],
   "source": [
    "#hide\n",
    "from nbdev.export import notebook2script\n",
    "notebook2script()"
   ]
  },
  {
   "cell_type": "code",
   "execution_count": null,
   "metadata": {},
   "outputs": [],
   "source": []
  },
  {
   "cell_type": "code",
   "execution_count": null,
   "metadata": {},
   "outputs": [],
   "source": []
  }
 ],
 "metadata": {
  "kernelspec": {
   "display_name": "Python 3",
   "language": "python",
   "name": "python3"
  }
 },
 "nbformat": 4,
 "nbformat_minor": 2
}
