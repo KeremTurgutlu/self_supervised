{
 "cells": [
  {
   "cell_type": "code",
   "execution_count": 1,
   "id": "e3422354",
   "metadata": {},
   "outputs": [],
   "source": [
    "from fastai.vision.all import *"
   ]
  },
  {
   "cell_type": "code",
   "execution_count": 2,
   "id": "48008721",
   "metadata": {},
   "outputs": [],
   "source": [
    "mimic_path = Path(\"/home/code-base/scratch_space/extra/physionet.org/files/mimic-cxr-jpg/2.0.0/\")"
   ]
  },
  {
   "cell_type": "code",
   "execution_count": 3,
   "id": "c98c31cc",
   "metadata": {},
   "outputs": [],
   "source": [
    "Path.ls_names = lambda o: o.ls().map(lambda o: o.name)"
   ]
  },
  {
   "cell_type": "code",
   "execution_count": 4,
   "id": "af622572",
   "metadata": {},
   "outputs": [
    {
     "data": {
      "text/plain": [
       "(#9) ['SHA256SUMS.txt','mimic-cxr-2.0.0-split.csv.gz','mimic-cxr-2.0.0-metadata.csv.gz','README','index.html','mimic-cxr-2.0.0-negbio.csv.gz','files','LICENSE.txt','mimic-cxr-2.0.0-chexpert.csv.gz']"
      ]
     },
     "execution_count": 4,
     "metadata": {},
     "output_type": "execute_result"
    }
   ],
   "source": [
    "mimic_path.ls_names()"
   ]
  },
  {
   "cell_type": "code",
   "execution_count": 5,
   "id": "7f085c87",
   "metadata": {},
   "outputs": [
    {
     "data": {
      "text/plain": [
       "(#11) ['p18','p10','p12','p16','p17','index.html','p19','p15','p13','p11'...]"
      ]
     },
     "execution_count": 5,
     "metadata": {},
     "output_type": "execute_result"
    }
   ],
   "source": [
    "(mimic_path/\"files\").ls_names()"
   ]
  },
  {
   "cell_type": "code",
   "execution_count": 6,
   "id": "9e7423bf",
   "metadata": {},
   "outputs": [],
   "source": [
    "image_dirs = [o for o in (mimic_path/'files').ls() if o.name.startswith(\"p\") and o.is_dir()]"
   ]
  },
  {
   "cell_type": "markdown",
   "id": "73c109dd",
   "metadata": {},
   "source": [
    "The dataset contains 377,110 JPG format images and structured labels derived from the 227,827 free-text radiology reports associated with these images. "
   ]
  },
  {
   "cell_type": "markdown",
   "id": "f320410c",
   "metadata": {},
   "source": [
    "#### Images"
   ]
  },
  {
   "cell_type": "code",
   "execution_count": 7,
   "id": "316d5f3e",
   "metadata": {},
   "outputs": [
    {
     "data": {
      "text/plain": [
       "377110"
      ]
     },
     "execution_count": 7,
     "metadata": {},
     "output_type": "execute_result"
    }
   ],
   "source": [
    "all_image_files = get_image_files(mimic_path/'files')\n",
    "len(all_image_files)"
   ]
  },
  {
   "cell_type": "code",
   "execution_count": 8,
   "id": "8daf5085",
   "metadata": {},
   "outputs": [],
   "source": [
    "def get_image_file_parts(fn): return fn.parent.parent.name, fn.parent.name, \"/\".join(str(fn).split(\"/\")[-4:])"
   ]
  },
  {
   "cell_type": "code",
   "execution_count": 22,
   "id": "b9b6758c",
   "metadata": {},
   "outputs": [],
   "source": [
    "df = pd.DataFrame(map(get_image_file_parts, all_image_files[:100]), columns=['PatientID', 'StudyID', 'filename'])"
   ]
  },
  {
   "cell_type": "code",
   "execution_count": 23,
   "id": "37d5642c",
   "metadata": {},
   "outputs": [
    {
     "data": {
      "text/html": [
       "<div>\n",
       "<style scoped>\n",
       "    .dataframe tbody tr th:only-of-type {\n",
       "        vertical-align: middle;\n",
       "    }\n",
       "\n",
       "    .dataframe tbody tr th {\n",
       "        vertical-align: top;\n",
       "    }\n",
       "\n",
       "    .dataframe thead th {\n",
       "        text-align: right;\n",
       "    }\n",
       "</style>\n",
       "<table border=\"1\" class=\"dataframe\">\n",
       "  <thead>\n",
       "    <tr style=\"text-align: right;\">\n",
       "      <th></th>\n",
       "      <th>PatientID</th>\n",
       "      <th>StudyID</th>\n",
       "      <th>filename</th>\n",
       "    </tr>\n",
       "  </thead>\n",
       "  <tbody>\n",
       "    <tr>\n",
       "      <th>0</th>\n",
       "      <td>p18635245</td>\n",
       "      <td>s57591038</td>\n",
       "      <td>p18/p18635245/s57591038/485014fa-f44727de-24b13f26-d2e9a979-086e5167.jpg</td>\n",
       "    </tr>\n",
       "    <tr>\n",
       "      <th>1</th>\n",
       "      <td>p18635245</td>\n",
       "      <td>s57591038</td>\n",
       "      <td>p18/p18635245/s57591038/dc407ff9-10bc70a2-a442c521-db54ef56-4b238127.jpg</td>\n",
       "    </tr>\n",
       "    <tr>\n",
       "      <th>2</th>\n",
       "      <td>p18562317</td>\n",
       "      <td>s51459612</td>\n",
       "      <td>p18/p18562317/s51459612/381cf034-75ce05c8-c29df027-9cc72659-9a92ddc5.jpg</td>\n",
       "    </tr>\n",
       "    <tr>\n",
       "      <th>3</th>\n",
       "      <td>p18562317</td>\n",
       "      <td>s50002358</td>\n",
       "      <td>p18/p18562317/s50002358/0a671e62-7ce9430f-85fcb721-c7c61ba1-6692fc01.jpg</td>\n",
       "    </tr>\n",
       "    <tr>\n",
       "      <th>4</th>\n",
       "      <td>p18562317</td>\n",
       "      <td>s50002358</td>\n",
       "      <td>p18/p18562317/s50002358/e686b4cc-9332850f-b76e3ab2-ccb21de0-e7efed0b.jpg</td>\n",
       "    </tr>\n",
       "    <tr>\n",
       "      <th>...</th>\n",
       "      <td>...</td>\n",
       "      <td>...</td>\n",
       "      <td>...</td>\n",
       "    </tr>\n",
       "    <tr>\n",
       "      <th>95</th>\n",
       "      <td>p18009858</td>\n",
       "      <td>s52128684</td>\n",
       "      <td>p18/p18009858/s52128684/9a177679-9e809e56-552b0650-230b9dc0-ee2f5a9c.jpg</td>\n",
       "    </tr>\n",
       "    <tr>\n",
       "      <th>96</th>\n",
       "      <td>p18009858</td>\n",
       "      <td>s52128684</td>\n",
       "      <td>p18/p18009858/s52128684/e28a5b38-c970ad68-9f347171-59610e1a-7e304010.jpg</td>\n",
       "    </tr>\n",
       "    <tr>\n",
       "      <th>97</th>\n",
       "      <td>p18127159</td>\n",
       "      <td>s55950239</td>\n",
       "      <td>p18/p18127159/s55950239/92551312-18aee9b2-1130bed6-8ceb1326-5e3da394.jpg</td>\n",
       "    </tr>\n",
       "    <tr>\n",
       "      <th>98</th>\n",
       "      <td>p18127159</td>\n",
       "      <td>s55950239</td>\n",
       "      <td>p18/p18127159/s55950239/75817484-7e59b394-5a7e5e09-72b3e110-c25e5ad1.jpg</td>\n",
       "    </tr>\n",
       "    <tr>\n",
       "      <th>99</th>\n",
       "      <td>p18548313</td>\n",
       "      <td>s53253297</td>\n",
       "      <td>p18/p18548313/s53253297/c9d8ebd9-ea9584cb-58d7679b-44b18234-ee84d967.jpg</td>\n",
       "    </tr>\n",
       "  </tbody>\n",
       "</table>\n",
       "<p>100 rows × 3 columns</p>\n",
       "</div>"
      ],
      "text/plain": [
       "    PatientID    StudyID  \\\n",
       "0   p18635245  s57591038   \n",
       "1   p18635245  s57591038   \n",
       "2   p18562317  s51459612   \n",
       "3   p18562317  s50002358   \n",
       "4   p18562317  s50002358   \n",
       "..        ...        ...   \n",
       "95  p18009858  s52128684   \n",
       "96  p18009858  s52128684   \n",
       "97  p18127159  s55950239   \n",
       "98  p18127159  s55950239   \n",
       "99  p18548313  s53253297   \n",
       "\n",
       "                                                                    filename  \n",
       "0   p18/p18635245/s57591038/485014fa-f44727de-24b13f26-d2e9a979-086e5167.jpg  \n",
       "1   p18/p18635245/s57591038/dc407ff9-10bc70a2-a442c521-db54ef56-4b238127.jpg  \n",
       "2   p18/p18562317/s51459612/381cf034-75ce05c8-c29df027-9cc72659-9a92ddc5.jpg  \n",
       "3   p18/p18562317/s50002358/0a671e62-7ce9430f-85fcb721-c7c61ba1-6692fc01.jpg  \n",
       "4   p18/p18562317/s50002358/e686b4cc-9332850f-b76e3ab2-ccb21de0-e7efed0b.jpg  \n",
       "..                                                                       ...  \n",
       "95  p18/p18009858/s52128684/9a177679-9e809e56-552b0650-230b9dc0-ee2f5a9c.jpg  \n",
       "96  p18/p18009858/s52128684/e28a5b38-c970ad68-9f347171-59610e1a-7e304010.jpg  \n",
       "97  p18/p18127159/s55950239/92551312-18aee9b2-1130bed6-8ceb1326-5e3da394.jpg  \n",
       "98  p18/p18127159/s55950239/75817484-7e59b394-5a7e5e09-72b3e110-c25e5ad1.jpg  \n",
       "99  p18/p18548313/s53253297/c9d8ebd9-ea9584cb-58d7679b-44b18234-ee84d967.jpg  \n",
       "\n",
       "[100 rows x 3 columns]"
      ]
     },
     "execution_count": 23,
     "metadata": {},
     "output_type": "execute_result"
    }
   ],
   "source": [
    "df"
   ]
  },
  {
   "cell_type": "code",
   "execution_count": 24,
   "id": "410069ef",
   "metadata": {},
   "outputs": [
    {
     "data": {
      "text/html": [
       "<div>\n",
       "<style scoped>\n",
       "    .dataframe tbody tr th:only-of-type {\n",
       "        vertical-align: middle;\n",
       "    }\n",
       "\n",
       "    .dataframe tbody tr th {\n",
       "        vertical-align: top;\n",
       "    }\n",
       "\n",
       "    .dataframe thead th {\n",
       "        text-align: right;\n",
       "    }\n",
       "</style>\n",
       "<table border=\"1\" class=\"dataframe\">\n",
       "  <thead>\n",
       "    <tr style=\"text-align: right;\">\n",
       "      <th></th>\n",
       "      <th>PatientID</th>\n",
       "      <th>StudyID</th>\n",
       "      <th>filename</th>\n",
       "    </tr>\n",
       "  </thead>\n",
       "  <tbody>\n",
       "    <tr>\n",
       "      <th>0</th>\n",
       "      <td>p18635245</td>\n",
       "      <td>s57591038</td>\n",
       "      <td>p18/p18635245/s57591038/485014fa-f44727de-24b13f26-d2e9a979-086e5167.jpg</td>\n",
       "    </tr>\n",
       "    <tr>\n",
       "      <th>1</th>\n",
       "      <td>p18635245</td>\n",
       "      <td>s57591038</td>\n",
       "      <td>p18/p18635245/s57591038/dc407ff9-10bc70a2-a442c521-db54ef56-4b238127.jpg</td>\n",
       "    </tr>\n",
       "  </tbody>\n",
       "</table>\n",
       "</div>"
      ],
      "text/plain": [
       "   PatientID    StudyID  \\\n",
       "0  p18635245  s57591038   \n",
       "1  p18635245  s57591038   \n",
       "\n",
       "                                                                   filename  \n",
       "0  p18/p18635245/s57591038/485014fa-f44727de-24b13f26-d2e9a979-086e5167.jpg  \n",
       "1  p18/p18635245/s57591038/dc407ff9-10bc70a2-a442c521-db54ef56-4b238127.jpg  "
      ]
     },
     "execution_count": 24,
     "metadata": {},
     "output_type": "execute_result"
    }
   ],
   "source": [
    "patient_df = df.query(f\"PatientID == 'p18635245'\"); patient_df"
   ]
  },
  {
   "cell_type": "code",
   "execution_count": 25,
   "id": "3fd41803",
   "metadata": {},
   "outputs": [],
   "source": [
    "imgs = [PILImage.create(mimic_path/f'files/{o}') for o in patient_df['filename']]"
   ]
  },
  {
   "cell_type": "code",
   "execution_count": 27,
   "id": "ff5fd650",
   "metadata": {},
   "outputs": [
    {
     "data": {
      "image/png": "[encoded data removed]",
      "text/plain": [
       "<Figure size 720x1440 with 2 Axes>"
      ]
     },
     "metadata": {
      "needs_background": "light"
     },
     "output_type": "display_data"
    }
   ],
   "source": [
    "show_images(imgs, nrows=1, ncols=len(imgs), figsize=(10,len(imgs)*10))"
   ]
  },
  {
   "cell_type": "markdown",
   "id": "376d2f90",
   "metadata": {},
   "source": [
    "#### Text Reports "
   ]
  },
  {
   "cell_type": "markdown",
   "id": "1702a48c",
   "metadata": {},
   "source": [
    "The dataset contains 377,110 images corresponding to 227,835 radiographic studies performed at the Beth Israel Deaconess Medical Center in Boston, MA."
   ]
  },
  {
   "cell_type": "code",
   "execution_count": 28,
   "id": "bb5721ff",
   "metadata": {},
   "outputs": [],
   "source": [
    "cxr_reports_path = Path(\"/home/code-base/scratch_space/extra/mimic-cxr-reports/\")"
   ]
  },
  {
   "cell_type": "code",
   "execution_count": 29,
   "id": "608c32e0",
   "metadata": {},
   "outputs": [
    {
     "data": {
      "text/plain": [
       "227835"
      ]
     },
     "execution_count": 29,
     "metadata": {},
     "output_type": "execute_result"
    }
   ],
   "source": [
    "cxr_reports = get_text_files(cxr_reports_path)\n",
    "len(cxr_reports)"
   ]
  },
  {
   "cell_type": "code",
   "execution_count": 30,
   "id": "e80cceec",
   "metadata": {},
   "outputs": [
    {
     "name": "stdout",
     "output_type": "stream",
     "text": [
      "                                 FINAL REPORT\n",
      " HISTORY:  Acute desaturation.\n",
      " \n",
      " FINDINGS:  In comparison with the study of ___, there are bilateral diffuse\n",
      " pulmonary opacifications superimposed upon the previous nodular pulmonary\n",
      " opacifications.  This suggests a developing consolidation.  Endotracheal tube\n",
      " lies only about 1.2 cm above the carina and should be pulled back several cm. \n",
      " Nasogastric tube extends into the stomach.\n",
      "\n"
     ]
    }
   ],
   "source": [
    "report = open(np.random.choice(cxr_reports)).read()\n",
    "print(report)"
   ]
  },
  {
   "cell_type": "markdown",
   "id": "77aaad41",
   "metadata": {},
   "source": [
    "#### Data Preprocessing \n",
    "\n",
    "**Images**\n",
    "\n",
    "- Resize all jpeg files to 256 on the larger size\n",
    "\n",
    "**Text**\n",
    "\n",
    "- Tokenize all reports with english tokenizer from [CoreNLP](https://stanfordnlp.github.io/CoreNLP/)\n",
    "- Keep only **Findings** and **Impression** section\n",
    "- Remove image-text pair samples where number of tokens < 3\n",
    "- Should have 217k image-text pairs\n",
    "\n",
    "#### Pretraining ([MIMIC-CXR-II](https://physionet.org/content/mimic-cxr-jpg/2.0.0/))\n",
    "\n",
    "- **Image Encoder:** ResNet-50\n",
    "- **Text Encoder:** [ClinicalBERT](https://huggingface.co/emilyalsentzer/Bio_ClinicalBERT). During contrastive training first 6 layers were frozen and only last 6 layers were trained.\n",
    "    - https://allenai.github.io/scispacy/\n",
    "- **Image Data Augmentations:** Random resized crop (0.6,1), hflip, affine tfms: rotation -+20 deg, horizontal-vertical translation 0.1, scaling (0.95,1.05), color jittering brightness and contrast from (0.6, 1.4) and gaussian blue (0.1,3), image size = 224\n",
    "- **Text Data Augmentations:** Radomly sample a sentence from input document (probably after preprocessing).\n",
    "- Hyperparameters; embed dim=512, tem=0.1 and loss weight=0.75 for pretraining selected by linear evaluation on RSNA image classification task with pretrained ResNet-50 weights.\n",
    "- 5k validation during pretraining.\n",
    "- bs = 32.\n",
    "\n",
    "#### Downstream Tasks\n",
    "\n",
    "- [RSNA](https://www.kaggle.com/c/rsna-pneumonia-detection-challenge/overview) - used as a binary classification task\n",
    "- [Chexpert](https://stanfordmlgroup.github.io/competitions/chexpert/) - used expert labelled dataset as test set and a random 5,000 samples as validation 218414/5000/234 - only 234 samples in test\n",
    "- [COVID-X](https://github.com/lindawangg/COVID-Net) - latest version\n",
    "- [COVID-19 Radiography Database Kaggle](https://www.kaggle.com/tawsifurrahman/covid19-radiography-database)\n",
    "\n",
    "#### Ablation Ideas\n",
    "\n",
    "- With/Without MLP during pretraining\n",
    "- Use full text during pretraining\n",
    "- Learnable temperature\n",
    "- Linear evaluation or knn, which one is better and faster?"
   ]
  },
  {
   "cell_type": "markdown",
   "id": "59dda061",
   "metadata": {},
   "source": [
    "### Text Preprocessing"
   ]
  },
  {
   "cell_type": "code",
   "execution_count": 31,
   "id": "fa2f2e3f",
   "metadata": {},
   "outputs": [],
   "source": [
    "import scispacy\n",
    "import spacy\n",
    "nlp = spacy.load(\"en_core_sci_md\")"
   ]
  },
  {
   "cell_type": "code",
   "execution_count": 137,
   "id": "c4e4bcaa",
   "metadata": {},
   "outputs": [],
   "source": [
    "# !pip install transformers"
   ]
  },
  {
   "cell_type": "code",
   "execution_count": null,
   "id": "6ab575b4",
   "metadata": {},
   "outputs": [],
   "source": [
    "# https://huggingface.co/emilyalsentzer/Bio_ClinicalBERT\n",
    "# https://allenai.github.io/scispacy/"
   ]
  },
  {
   "cell_type": "code",
   "execution_count": 145,
   "id": "941a10fb",
   "metadata": {},
   "outputs": [],
   "source": [
    "# !pip install scispacy\n",
    "# !pip install https://s3-us-west-2.amazonaws.com/ai2-s2-scispacy/releases/v0.4.0/en_core_sci_md-0.4.0.tar.gz"
   ]
  },
  {
   "cell_type": "code",
   "execution_count": 112,
   "id": "9be82a98",
   "metadata": {},
   "outputs": [],
   "source": [
    "# !pip install ftfy regex\n",
    "# !pip install pyarrow"
   ]
  },
  {
   "cell_type": "code",
   "execution_count": 110,
   "id": "025ec25b",
   "metadata": {},
   "outputs": [],
   "source": [
    "def extract_report_sections(report):\n",
    "    \"Extract report section-text pairs that start with SOME_SECTION_TITLE: \"\n",
    "    start_end_idxs = [m.span() for m in re.finditer('[ A-Z]+:', report)]    \n",
    "    section_texts = []\n",
    "    for i in range(len(start_end_idxs)): \n",
    "\n",
    "        cur_s,cur_e                             = start_end_idxs[i]\n",
    "        if i == (len(start_end_idxs)-1): next_s = len(report)\n",
    "        else:                            next_s = start_end_idxs[i+1][0]\n",
    "\n",
    "        section_name = report[cur_s:cur_e-1].strip()\n",
    "        section_text = report[cur_e:next_s]\n",
    "        section_texts.append((section_name, section_text))\n",
    "    return section_texts"
   ]
  },
  {
   "cell_type": "code",
   "execution_count": 111,
   "id": "c8ffd4ba",
   "metadata": {},
   "outputs": [],
   "source": [
    "import ftfy,html\n",
    "\n",
    "def basic_clean(text):\n",
    "    text = ftfy.fix_text(text)\n",
    "    text = html.unescape(html.unescape(text))\n",
    "    return text.strip()\n",
    "\n",
    "def whitespace_clean(text):\n",
    "    text = re.sub(r'\\s+', ' ', text)\n",
    "    text = text.strip()\n",
    "    return text\n",
    "\n",
    "def simple_text_clean(text, do_lower_case=False): \n",
    "    text = whitespace_clean(basic_clean(text))\n",
    "    if do_lower_case: return text.lower()\n",
    "    else:             return text"
   ]
  },
  {
   "cell_type": "code",
   "execution_count": 116,
   "id": "92013500",
   "metadata": {},
   "outputs": [
    {
     "name": "stdout",
     "output_type": "stream",
     "text": [
      " WET READ: ___ ___ ___ 8:00 AM\n",
      "  \n",
      "  \n",
      "  Small bilateral pleural effusions.  Lung fields are clear.  Cardiomediastinal\n",
      "  silhouette is unremarkable.  No pneumothorax.\n",
      " WET READ VERSION #1 ___ ___ ___ 9:29 PM\n",
      "  Small bilateral pleural effusions.  Lung fields are clear.  Cardiomediastinal\n",
      "  silhouette is unremarkable.  No pneumothorax.\n",
      " ______________________________________________________________________________\n",
      "                                 FINAL REPORT\n",
      " EXAMINATION:  CHEST (PA AND LAT)\n",
      " \n",
      " INDICATION:  ___ year old woman with cough, SOB. She is s/p C/S. Hx of\n",
      " pneumonia in pregnancy  // r/o penumonia\n",
      " \n",
      " TECHNIQUE:  Chest PA and lateral\n",
      " \n",
      " COMPARISON:  None.\n",
      " \n",
      " FINDINGS: \n",
      " \n",
      " Heart size is normal.  The mediastinal and hilar contours are normal. The\n",
      " pulmonary vasculature is normal. Lungs are clear.  Bilateral small pleural\n",
      " effusions are present,. There are no acute osseous abnormalities.  A small\n",
      " amount of free air under the right hemidiaphragm is likely related to the\n",
      " recent C-section procedure.\n",
      " \n",
      " IMPRESSION: \n",
      " \n",
      " No radiographic evidence of pneumonia.  Small bilateral pleural effusions.\n",
      " \n",
      " \n",
      " Free intraperitoneal air is probably related to recent C-section procedure. \n",
      " Clinical correlation suggested.\n",
      "\n"
     ]
    }
   ],
   "source": [
    "report = open(np.random.choice(cxr_reports)).read()\n",
    "print(report)"
   ]
  },
  {
   "cell_type": "code",
   "execution_count": 126,
   "id": "8d734ea4",
   "metadata": {},
   "outputs": [],
   "source": [
    "def preprocess_report(report_filename):\n",
    "    \"Returns section:text dictionary\"\n",
    "    with open(report_filename) as f:\n",
    "        report = f.read()\n",
    "        section_texts = extract_report_sections(report)\n",
    "        return dict([(tup[0],simple_text_clean(tup[1])) for tup in section_texts])"
   ]
  },
  {
   "cell_type": "code",
   "execution_count": 134,
   "id": "29169bf5",
   "metadata": {},
   "outputs": [
    {
     "data": {
      "text/html": [],
      "text/plain": [
       "<IPython.core.display.HTML object>"
      ]
     },
     "metadata": {},
     "output_type": "display_data"
    }
   ],
   "source": [
    "report_dicts = parallel(preprocess_report, cxr_reports, progress=True)"
   ]
  },
  {
   "cell_type": "code",
   "execution_count": 135,
   "id": "eee43271",
   "metadata": {},
   "outputs": [
    {
     "data": {
      "text/plain": [
       "227835"
      ]
     },
     "execution_count": 135,
     "metadata": {},
     "output_type": "execute_result"
    }
   ],
   "source": [
    "len(report_dicts)"
   ]
  },
  {
   "cell_type": "code",
   "execution_count": 136,
   "id": "3f672867",
   "metadata": {},
   "outputs": [],
   "source": [
    "reports_df = pd.DataFrame(report_dicts)"
   ]
  },
  {
   "cell_type": "code",
   "execution_count": 139,
   "id": "74cfabe4",
   "metadata": {},
   "outputs": [],
   "source": [
    "nona_cols = (~reports_df.isna()).sum()"
   ]
  },
  {
   "cell_type": "code",
   "execution_count": 144,
   "id": "c397e56b",
   "metadata": {},
   "outputs": [],
   "source": [
    "sorted_cols_counts = nona_cols.sort_values(ascending=False)"
   ]
  },
  {
   "cell_type": "code",
   "execution_count": 168,
   "id": "894835e0",
   "metadata": {},
   "outputs": [
    {
     "data": {
      "text/plain": [
       "IMPRESSION                                   187708\n",
       "COMPARISON                                   154590\n",
       "INDICATION                                   153658\n",
       "FINDINGS                                     149760\n",
       "EXAMINATION                                   94048\n",
       "TECHNIQUE                                     81374\n",
       "HISTORY                                       45602\n",
       "WET READ                                      17556\n",
       "COMPARISONS                                    8680\n",
       "CLINICAL HISTORY                               7118\n",
       "REASON FOR EXAMINATION                         5839\n",
       "NOTIFICATION                                   5753\n",
       "REASON FOR EXAM                                4427\n",
       "CLINICAL INFORMATION                           4023\n",
       "EXAM                                           3906\n",
       "STUDY                                          2787\n",
       "CLINICAL INDICATION                            1943\n",
       "CONCLUSION                                     1803\n",
       "TWO VIEWS                                      1737\n",
       "TYPE OF EXAMINATION                            1675\n",
       "PA AND LATERAL VIEWS OF THE CHEST               915\n",
       "FRONTAL AND LATERAL CHEST RADIOGRAPHS           603\n",
       "PA AND LATERAL CHEST RADIOGRAPHS                529\n",
       "PORTABLE CHEST                                  485\n",
       "PA AND LATERAL CHEST RADIOGRAPH                 393\n",
       "REFERENCE EXAM                                  347\n",
       "PA AND LATERAL                                  325\n",
       "TWO VIEWS OF THE CHEST                          321\n",
       "FRONTAL AND LATERAL VIEWS OF THE CHEST          320\n",
       "PATIENT HISTORY                                 251\n",
       "PORTABLE AP CHEST RADIOGRAPH                    240\n",
       "FRONTAL CHEST RADIOGRAPH                        236\n",
       "CHEST                                           208\n",
       "ADDENDUM                                        182\n",
       "PORTABLE FRONTAL CHEST RADIOGRAPH               173\n",
       "COMPARISON EXAM                                 163\n",
       "REPORT                                          163\n",
       "CHEST RADIOGRAPH                                137\n",
       "CXR                                             119\n",
       "AP                                              116\n",
       "DATE                                            108\n",
       "ONE VIEW OF THE CHEST                            98\n",
       "UPRIGHT AP VIEW OF THE CHEST                     96\n",
       "UPRIGHT AP AND LATERAL VIEWS OF THE CHEST        94\n",
       "CHEST TWO VIEWS                                  89\n",
       "COMMENT                                          88\n",
       "FINDINGS AND IMPRESSION                          87\n",
       "SINGLE AP PORTABLE VIEW                          83\n",
       "COMPARISON FILM                                  79\n",
       "FRONTAL AND LATERAL CHEST RADIOGRAPH             74\n",
       "dtype: int64"
      ]
     },
     "execution_count": 168,
     "metadata": {},
     "output_type": "execute_result"
    }
   ],
   "source": [
    "q90 = np.quantile(sorted_cols_counts, 0.9)\n",
    "sorted_cols_counts[sorted_cols_counts>q90]"
   ]
  },
  {
   "cell_type": "code",
   "execution_count": 156,
   "id": "3f1d279a",
   "metadata": {},
   "outputs": [
    {
     "data": {
      "image/png": "[encoded data removed]",
      "text/plain": [
       "<Figure size 432x288 with 1 Axes>"
      ]
     },
     "metadata": {
      "needs_background": "light"
     },
     "output_type": "display_data"
    }
   ],
   "source": [
    "sorted_cols_counts.head(20).plot(kind='barh');"
   ]
  },
  {
   "cell_type": "code",
   "execution_count": 171,
   "id": "c76fb55f",
   "metadata": {},
   "outputs": [
    {
     "data": {
      "text/html": [
       "<div>\n",
       "<style scoped>\n",
       "    .dataframe tbody tr th:only-of-type {\n",
       "        vertical-align: middle;\n",
       "    }\n",
       "\n",
       "    .dataframe tbody tr th {\n",
       "        vertical-align: top;\n",
       "    }\n",
       "\n",
       "    .dataframe thead th {\n",
       "        text-align: right;\n",
       "    }\n",
       "</style>\n",
       "<table border=\"1\" class=\"dataframe\">\n",
       "  <thead>\n",
       "    <tr style=\"text-align: right;\">\n",
       "      <th></th>\n",
       "      <th>IMPRESSION</th>\n",
       "      <th>COMPARISON</th>\n",
       "      <th>INDICATION</th>\n",
       "      <th>FINDINGS</th>\n",
       "      <th>EXAMINATION</th>\n",
       "    </tr>\n",
       "  </thead>\n",
       "  <tbody>\n",
       "    <tr>\n",
       "      <th>0</th>\n",
       "      <td>No acute cardiopulmonary process.</td>\n",
       "      <td>None.</td>\n",
       "      <td>___F with L shoulder injury, + distal clavicle ttp // eval for fx, pnx.</td>\n",
       "      <td>The heart size, mediastinal, and hilar contours are normal. The lungs are clear without pleural effusion, focal consolidation, or pneumothorax.</td>\n",
       "      <td>CHEST (PA AND LAT)</td>\n",
       "    </tr>\n",
       "    <tr>\n",
       "      <th>1</th>\n",
       "      <td>In comparison with the study of ___, there again are low lung volumes with increased opacification at the bases consistent with pleural effusion and underlying compressive atelectasis. Mild elevation of pulmonary venous pressure is again seen. Left IJ catheter again extends to the mid portion of the SVC. In the absence of a lateral view, superimposed pneumonia would have to be considered in the appropriate clinical setting.</td>\n",
       "      <td>NaN</td>\n",
       "      <td>___ year old man with s/p redosternotomy AVR // Eval for infiltrate Eval for infiltrate</td>\n",
       "      <td>NaN</td>\n",
       "      <td>CHEST (PA AND LAT)</td>\n",
       "    </tr>\n",
       "    <tr>\n",
       "      <th>2</th>\n",
       "      <td>NaN</td>\n",
       "      <td>___.</td>\n",
       "      <td>NaN</td>\n",
       "      <td>Mild cardiomegaly is accompanied by pulmonary vascular congestion without overt pulmonary edema. Interval development of bibasilar atelectasis and small right pleural effusion. Small left pleural effusion is similar to prior study. No visible pneumothorax.</td>\n",
       "      <td>NaN</td>\n",
       "    </tr>\n",
       "    <tr>\n",
       "      <th>3</th>\n",
       "      <td>As compared to ___ chest radiograph, cardiomediastinal contours are stable. Lung volumes have increased with associated improved aeration at both lung bases although substantial atelectasis remains, as well as adjacent small to moderate right and small left pleural effusions.</td>\n",
       "      <td>NaN</td>\n",
       "      <td>___ year old man with s/p redo sternotomy avr // decreased hct</td>\n",
       "      <td>NaN</td>\n",
       "      <td>CHEST (PORTABLE AP)</td>\n",
       "    </tr>\n",
       "    <tr>\n",
       "      <th>4</th>\n",
       "      <td>1. No acute cardiopulmonary process. 2. A nodular opacity projecting over the anterior right sixth rib is new compared to ___, and likely represents a nipple shadow.</td>\n",
       "      <td>Chest radiographs from ___, ___, ___.</td>\n",
       "      <td>Evaluate for pneumonia in a patient with new leukocytosis.</td>\n",
       "      <td>Frontal and lateral chest radiographs demonstrate sternal wires and a valve prosthesis, unchanged. There is a normal cardiomediastinal silhouette and well-aerated lungs without focal consolidation, pleural effusion, or pneumothorax. A nodular opacity projecting over the anterior sixth right rib likely represents a nipple shadow. The visualized upper abdomen is unremarkable.</td>\n",
       "      <td>NaN</td>\n",
       "    </tr>\n",
       "  </tbody>\n",
       "</table>\n",
       "</div>"
      ],
      "text/plain": [
       "                                                                                                                                                                                                                                                                                                                                                                                                                                    IMPRESSION  \\\n",
       "0                                                                                                                                                                                                                                                                                                                                                                                                            No acute cardiopulmonary process.   \n",
       "1  In comparison with the study of ___, there again are low lung volumes with increased opacification at the bases consistent with pleural effusion and underlying compressive atelectasis. Mild elevation of pulmonary venous pressure is again seen. Left IJ catheter again extends to the mid portion of the SVC. In the absence of a lateral view, superimposed pneumonia would have to be considered in the appropriate clinical setting.   \n",
       "2                                                                                                                                                                                                                                                                                                                                                                                                                                          NaN   \n",
       "3                                                                                                                                                         As compared to ___ chest radiograph, cardiomediastinal contours are stable. Lung volumes have increased with associated improved aeration at both lung bases although substantial atelectasis remains, as well as adjacent small to moderate right and small left pleural effusions.   \n",
       "4                                                                                                                                                                                                                                                                        1. No acute cardiopulmonary process. 2. A nodular opacity projecting over the anterior right sixth rib is new compared to ___, and likely represents a nipple shadow.   \n",
       "\n",
       "                              COMPARISON  \\\n",
       "0                                  None.   \n",
       "1                                    NaN   \n",
       "2                                   ___.   \n",
       "3                                    NaN   \n",
       "4  Chest radiographs from ___, ___, ___.   \n",
       "\n",
       "                                                                                INDICATION  \\\n",
       "0                  ___F with L shoulder injury, + distal clavicle ttp // eval for fx, pnx.   \n",
       "1  ___ year old man with s/p redosternotomy AVR // Eval for infiltrate Eval for infiltrate   \n",
       "2                                                                                      NaN   \n",
       "3                           ___ year old man with s/p redo sternotomy avr // decreased hct   \n",
       "4                               Evaluate for pneumonia in a patient with new leukocytosis.   \n",
       "\n",
       "                                                                                                                                                                                                                                                                                                                                                                                   FINDINGS  \\\n",
       "0                                                                                                                                                                                                                                           The heart size, mediastinal, and hilar contours are normal. The lungs are clear without pleural effusion, focal consolidation, or pneumothorax.   \n",
       "1                                                                                                                                                                                                                                                                                                                                                                                       NaN   \n",
       "2                                                                                                                          Mild cardiomegaly is accompanied by pulmonary vascular congestion without overt pulmonary edema. Interval development of bibasilar atelectasis and small right pleural effusion. Small left pleural effusion is similar to prior study. No visible pneumothorax.   \n",
       "3                                                                                                                                                                                                                                                                                                                                                                                       NaN   \n",
       "4  Frontal and lateral chest radiographs demonstrate sternal wires and a valve prosthesis, unchanged. There is a normal cardiomediastinal silhouette and well-aerated lungs without focal consolidation, pleural effusion, or pneumothorax. A nodular opacity projecting over the anterior sixth right rib likely represents a nipple shadow. The visualized upper abdomen is unremarkable.   \n",
       "\n",
       "           EXAMINATION  \n",
       "0   CHEST (PA AND LAT)  \n",
       "1   CHEST (PA AND LAT)  \n",
       "2                  NaN  \n",
       "3  CHEST (PORTABLE AP)  \n",
       "4                  NaN  "
      ]
     },
     "execution_count": 171,
     "metadata": {},
     "output_type": "execute_result"
    }
   ],
   "source": [
    "reports_df[list(sorted_cols_counts.head(5).index)].head()"
   ]
  },
  {
   "cell_type": "code",
   "execution_count": 172,
   "id": "9e98a391",
   "metadata": {},
   "outputs": [],
   "source": [
    "reports_df.to_parquet(\"/home/code-base/scratch_space/extra/cxr_reports_preprocessed.pqt\")"
   ]
  },
  {
   "cell_type": "code",
   "execution_count": null,
   "id": "e7abb2b9",
   "metadata": {},
   "outputs": [],
   "source": []
  },
  {
   "cell_type": "code",
   "execution_count": null,
   "id": "c7590551",
   "metadata": {},
   "outputs": [],
   "source": []
  },
  {
   "cell_type": "code",
   "execution_count": null,
   "id": "ef0743e0",
   "metadata": {},
   "outputs": [],
   "source": []
  },
  {
   "cell_type": "code",
   "execution_count": null,
   "id": "b2730779",
   "metadata": {},
   "outputs": [],
   "source": []
  },
  {
   "cell_type": "code",
   "execution_count": null,
   "id": "4fd42906",
   "metadata": {},
   "outputs": [],
   "source": []
  },
  {
   "cell_type": "code",
   "execution_count": null,
   "id": "972ea7e2",
   "metadata": {},
   "outputs": [],
   "source": []
  },
  {
   "cell_type": "code",
   "execution_count": null,
   "id": "71b6a578",
   "metadata": {},
   "outputs": [],
   "source": []
  },
  {
   "cell_type": "code",
   "execution_count": null,
   "id": "b65d72eb",
   "metadata": {},
   "outputs": [],
   "source": []
  },
  {
   "cell_type": "code",
   "execution_count": null,
   "id": "a09e206d",
   "metadata": {},
   "outputs": [],
   "source": []
  },
  {
   "cell_type": "code",
   "execution_count": null,
   "id": "43caab08",
   "metadata": {},
   "outputs": [],
   "source": []
  },
  {
   "cell_type": "code",
   "execution_count": null,
   "id": "e4ba259d",
   "metadata": {},
   "outputs": [],
   "source": []
  },
  {
   "cell_type": "code",
   "execution_count": null,
   "id": "ea91bb02",
   "metadata": {},
   "outputs": [],
   "source": []
  },
  {
   "cell_type": "code",
   "execution_count": null,
   "id": "cc23c227",
   "metadata": {},
   "outputs": [],
   "source": []
  },
  {
   "cell_type": "code",
   "execution_count": null,
   "id": "98a28398",
   "metadata": {},
   "outputs": [],
   "source": [
    "res = parallel()"
   ]
  },
  {
   "cell_type": "code",
   "execution_count": 62,
   "id": "9c781906",
   "metadata": {},
   "outputs": [],
   "source": [
    "s,t = section_texts[0]"
   ]
  },
  {
   "cell_type": "code",
   "execution_count": 69,
   "id": "945b163f",
   "metadata": {},
   "outputs": [
    {
     "data": {
      "text/plain": [
       "[  Dyspnea.,\n",
       "  \n",
       "  \n",
       "  ]"
      ]
     },
     "execution_count": 69,
     "metadata": {},
     "output_type": "execute_result"
    }
   ],
   "source": [
    "doc = nlp(t)\n",
    "list(doc.sents)"
   ]
  },
  {
   "cell_type": "code",
   "execution_count": 71,
   "id": "1b31c93d",
   "metadata": {},
   "outputs": [
    {
     "data": {
      "application/vnd.jupyter.widget-view+json": {
       "model_id": "f9699cfd9ef34d14a11283363437a1b1",
       "version_major": 2,
       "version_minor": 0
      },
      "text/plain": [
       "Downloading:   0%|          | 0.00/385 [00:00<?, ?B/s]"
      ]
     },
     "metadata": {},
     "output_type": "display_data"
    },
    {
     "data": {
      "application/vnd.jupyter.widget-view+json": {
       "model_id": "cf4d9e5a917e4ecaa95ac49641d063da",
       "version_major": 2,
       "version_minor": 0
      },
      "text/plain": [
       "Downloading:   0%|          | 0.00/213k [00:00<?, ?B/s]"
      ]
     },
     "metadata": {},
     "output_type": "display_data"
    },
    {
     "data": {
      "application/vnd.jupyter.widget-view+json": {
       "model_id": "47a6af4fb4ed4488abc4062b55cdc41c",
       "version_major": 2,
       "version_minor": 0
      },
      "text/plain": [
       "Downloading:   0%|          | 0.00/436M [00:00<?, ?B/s]"
      ]
     },
     "metadata": {},
     "output_type": "display_data"
    }
   ],
   "source": [
    "from transformers import AutoTokenizer, AutoModel\n",
    "tokenizer = AutoTokenizer.from_pretrained(\"emilyalsentzer/Bio_ClinicalBERT\")\n",
    "model = AutoModel.from_pretrained(\"emilyalsentzer/Bio_ClinicalBERT\")"
   ]
  },
  {
   "cell_type": "code",
   "execution_count": 72,
   "id": "20d4be5e",
   "metadata": {},
   "outputs": [
    {
     "data": {
      "text/plain": [
       "True"
      ]
     },
     "execution_count": 72,
     "metadata": {},
     "output_type": "execute_result"
    }
   ],
   "source": [
    "tokenizer.do_lower_case"
   ]
  },
  {
   "cell_type": "code",
   "execution_count": null,
   "id": "0b3809bc",
   "metadata": {},
   "outputs": [],
   "source": []
  },
  {
   "cell_type": "code",
   "execution_count": null,
   "id": "9b65f0e3",
   "metadata": {},
   "outputs": [],
   "source": []
  },
  {
   "cell_type": "code",
   "execution_count": null,
   "id": "81b9e0e6",
   "metadata": {},
   "outputs": [],
   "source": []
  },
  {
   "cell_type": "code",
   "execution_count": null,
   "id": "7b08c4e2",
   "metadata": {},
   "outputs": [],
   "source": []
  },
  {
   "cell_type": "code",
   "execution_count": null,
   "id": "633a1536",
   "metadata": {},
   "outputs": [],
   "source": []
  },
  {
   "cell_type": "code",
   "execution_count": null,
   "id": "62d2eb57",
   "metadata": {},
   "outputs": [],
   "source": []
  },
  {
   "cell_type": "code",
   "execution_count": null,
   "id": "12d32e19",
   "metadata": {},
   "outputs": [],
   "source": []
  },
  {
   "cell_type": "code",
   "execution_count": null,
   "id": "7161dd46",
   "metadata": {},
   "outputs": [],
   "source": []
  },
  {
   "cell_type": "code",
   "execution_count": null,
   "id": "6deaaf11",
   "metadata": {},
   "outputs": [],
   "source": []
  },
  {
   "cell_type": "code",
   "execution_count": null,
   "id": "328d2d82",
   "metadata": {},
   "outputs": [],
   "source": []
  },
  {
   "cell_type": "code",
   "execution_count": null,
   "id": "be55bd57",
   "metadata": {},
   "outputs": [],
   "source": []
  },
  {
   "cell_type": "code",
   "execution_count": null,
   "id": "246535f9",
   "metadata": {},
   "outputs": [],
   "source": []
  },
  {
   "cell_type": "code",
   "execution_count": null,
   "id": "88706b8d",
   "metadata": {},
   "outputs": [],
   "source": []
  },
  {
   "cell_type": "code",
   "execution_count": null,
   "id": "fa376095",
   "metadata": {},
   "outputs": [],
   "source": []
  },
  {
   "cell_type": "code",
   "execution_count": null,
   "id": "9cd93654",
   "metadata": {},
   "outputs": [],
   "source": []
  },
  {
   "cell_type": "code",
   "execution_count": null,
   "id": "39c15415",
   "metadata": {},
   "outputs": [],
   "source": []
  },
  {
   "cell_type": "code",
   "execution_count": null,
   "id": "5161d8f6",
   "metadata": {},
   "outputs": [],
   "source": []
  },
  {
   "cell_type": "code",
   "execution_count": null,
   "id": "e8192790",
   "metadata": {},
   "outputs": [],
   "source": []
  }
 ],
 "metadata": {
  "kernelspec": {
   "display_name": "Python 3",
   "language": "python",
   "name": "python3"
  },
  "language_info": {
   "codemirror_mode": {
    "name": "ipython",
    "version": 3
   },
   "file_extension": ".py",
   "mimetype": "text/x-python",
   "name": "python",
   "nbconvert_exporter": "python",
   "pygments_lexer": "ipython3",
   "version": "3.6.9"
  }
 },
 "nbformat": 4,
 "nbformat_minor": 5
}
