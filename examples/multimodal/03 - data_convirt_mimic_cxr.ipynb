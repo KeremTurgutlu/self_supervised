{
 "cells": [
  {
   "cell_type": "code",
   "execution_count": 1,
   "id": "4ff80d5a",
   "metadata": {},
   "outputs": [],
   "source": [
    "from fastai.vision.all import *"
   ]
  },
  {
   "cell_type": "code",
   "execution_count": 2,
   "id": "d0068787",
   "metadata": {},
   "outputs": [],
   "source": [
    "mimic_path = Path(\"/home/code-base/scratch_space/extra/\")"
   ]
  },
  {
   "cell_type": "code",
   "execution_count": 3,
   "id": "a2ffc622",
   "metadata": {},
   "outputs": [],
   "source": [
    "Path.ls_names = lambda o: o.ls().map(lambda o: o.name)"
   ]
  },
  {
   "cell_type": "code",
   "execution_count": 4,
   "id": "cfabb656",
   "metadata": {},
   "outputs": [
    {
     "data": {
      "text/plain": [
       "(#5) ['wget-log','image_filenames.pqt','cxr_reports_preprocessed.pqt','physionet.org','mimic-cxr-reports']"
      ]
     },
     "execution_count": 4,
     "metadata": {},
     "output_type": "execute_result"
    }
   ],
   "source": [
    "mimic_path.ls_names()"
   ]
  },
  {
   "cell_type": "code",
   "execution_count": 5,
   "id": "6d85169f",
   "metadata": {},
   "outputs": [],
   "source": [
    "image_df = pd.read_parquet(mimic_path/'image_filenames.pqt')\n",
    "reports_df = pd.read_parquet(mimic_path/'cxr_reports_preprocessed.pqt')"
   ]
  },
  {
   "cell_type": "code",
   "execution_count": 6,
   "id": "8e35a817",
   "metadata": {},
   "outputs": [
    {
     "data": {
      "text/html": [
       "<div>\n",
       "<style scoped>\n",
       "    .dataframe tbody tr th:only-of-type {\n",
       "        vertical-align: middle;\n",
       "    }\n",
       "\n",
       "    .dataframe tbody tr th {\n",
       "        vertical-align: top;\n",
       "    }\n",
       "\n",
       "    .dataframe thead th {\n",
       "        text-align: right;\n",
       "    }\n",
       "</style>\n",
       "<table border=\"1\" class=\"dataframe\">\n",
       "  <thead>\n",
       "    <tr style=\"text-align: right;\">\n",
       "      <th></th>\n",
       "      <th>Folder</th>\n",
       "      <th>PatientID</th>\n",
       "      <th>StudyID</th>\n",
       "      <th>filename</th>\n",
       "    </tr>\n",
       "  </thead>\n",
       "  <tbody>\n",
       "    <tr>\n",
       "      <th>0</th>\n",
       "      <td>p18</td>\n",
       "      <td>p18635245</td>\n",
       "      <td>s57591038</td>\n",
       "      <td>p18/p18635245/s57591038/485014fa-f44727de-24b13f26-d2e9a979-086e5167.jpg</td>\n",
       "    </tr>\n",
       "    <tr>\n",
       "      <th>1</th>\n",
       "      <td>p18</td>\n",
       "      <td>p18635245</td>\n",
       "      <td>s57591038</td>\n",
       "      <td>p18/p18635245/s57591038/dc407ff9-10bc70a2-a442c521-db54ef56-4b238127.jpg</td>\n",
       "    </tr>\n",
       "    <tr>\n",
       "      <th>2</th>\n",
       "      <td>p18</td>\n",
       "      <td>p18562317</td>\n",
       "      <td>s51459612</td>\n",
       "      <td>p18/p18562317/s51459612/381cf034-75ce05c8-c29df027-9cc72659-9a92ddc5.jpg</td>\n",
       "    </tr>\n",
       "    <tr>\n",
       "      <th>3</th>\n",
       "      <td>p18</td>\n",
       "      <td>p18562317</td>\n",
       "      <td>s50002358</td>\n",
       "      <td>p18/p18562317/s50002358/0a671e62-7ce9430f-85fcb721-c7c61ba1-6692fc01.jpg</td>\n",
       "    </tr>\n",
       "    <tr>\n",
       "      <th>4</th>\n",
       "      <td>p18</td>\n",
       "      <td>p18562317</td>\n",
       "      <td>s50002358</td>\n",
       "      <td>p18/p18562317/s50002358/e686b4cc-9332850f-b76e3ab2-ccb21de0-e7efed0b.jpg</td>\n",
       "    </tr>\n",
       "  </tbody>\n",
       "</table>\n",
       "</div>"
      ],
      "text/plain": [
       "  Folder  PatientID    StudyID  \\\n",
       "0    p18  p18635245  s57591038   \n",
       "1    p18  p18635245  s57591038   \n",
       "2    p18  p18562317  s51459612   \n",
       "3    p18  p18562317  s50002358   \n",
       "4    p18  p18562317  s50002358   \n",
       "\n",
       "                                                                   filename  \n",
       "0  p18/p18635245/s57591038/485014fa-f44727de-24b13f26-d2e9a979-086e5167.jpg  \n",
       "1  p18/p18635245/s57591038/dc407ff9-10bc70a2-a442c521-db54ef56-4b238127.jpg  \n",
       "2  p18/p18562317/s51459612/381cf034-75ce05c8-c29df027-9cc72659-9a92ddc5.jpg  \n",
       "3  p18/p18562317/s50002358/0a671e62-7ce9430f-85fcb721-c7c61ba1-6692fc01.jpg  \n",
       "4  p18/p18562317/s50002358/e686b4cc-9332850f-b76e3ab2-ccb21de0-e7efed0b.jpg  "
      ]
     },
     "execution_count": 6,
     "metadata": {},
     "output_type": "execute_result"
    }
   ],
   "source": [
    "image_df.head()"
   ]
  },
  {
   "cell_type": "code",
   "execution_count": 7,
   "id": "edf3da99",
   "metadata": {},
   "outputs": [
    {
     "data": {
      "text/html": [
       "<div>\n",
       "<style scoped>\n",
       "    .dataframe tbody tr th:only-of-type {\n",
       "        vertical-align: middle;\n",
       "    }\n",
       "\n",
       "    .dataframe tbody tr th {\n",
       "        vertical-align: top;\n",
       "    }\n",
       "\n",
       "    .dataframe thead th {\n",
       "        text-align: right;\n",
       "    }\n",
       "</style>\n",
       "<table border=\"1\" class=\"dataframe\">\n",
       "  <thead>\n",
       "    <tr style=\"text-align: right;\">\n",
       "      <th></th>\n",
       "      <th>Folder</th>\n",
       "      <th>PatientID</th>\n",
       "      <th>StudyID</th>\n",
       "      <th>EXAMINATION</th>\n",
       "      <th>INDICATION</th>\n",
       "      <th>TECHNIQUE</th>\n",
       "      <th>COMPARISON</th>\n",
       "      <th>FINDINGS</th>\n",
       "      <th>IMPRESSION</th>\n",
       "      <th>WET READ</th>\n",
       "      <th>...</th>\n",
       "      <th>ARDS</th>\n",
       "      <th>SUPINE AP</th>\n",
       "      <th>SEMIERECT PORTABLE RADIOGRAPH OF THE CHEST</th>\n",
       "      <th>ERECT AP AND PA CHEST RADIOGRAPH</th>\n",
       "      <th>PORTABLE AP CHEST RADIOGRAPHS</th>\n",
       "      <th>SEMIERECT AP VIEW OF THE CHEST</th>\n",
       "      <th>OMR</th>\n",
       "      <th>SINGLE AP UPRIGHT PORTABLE CHEST RADIOGRAPH</th>\n",
       "      <th>TWO IMAGES</th>\n",
       "      <th>PA AND AP CHEST RADIOGRAPH</th>\n",
       "    </tr>\n",
       "  </thead>\n",
       "  <tbody>\n",
       "    <tr>\n",
       "      <th>0</th>\n",
       "      <td>p18</td>\n",
       "      <td>p18635245</td>\n",
       "      <td>s57591038</td>\n",
       "      <td>CHEST (PA AND LAT)</td>\n",
       "      <td>___F with L shoulder injury, + distal clavicle ttp // eval for fx, pnx.</td>\n",
       "      <td>Chest PA and lateral</td>\n",
       "      <td>None.</td>\n",
       "      <td>The heart size, mediastinal, and hilar contours are normal. The lungs are clear without pleural effusion, focal consolidation, or pneumothorax.</td>\n",
       "      <td>No acute cardiopulmonary process.</td>\n",
       "      <td>None</td>\n",
       "      <td>...</td>\n",
       "      <td>None</td>\n",
       "      <td>None</td>\n",
       "      <td>None</td>\n",
       "      <td>None</td>\n",
       "      <td>None</td>\n",
       "      <td>None</td>\n",
       "      <td>None</td>\n",
       "      <td>None</td>\n",
       "      <td>None</td>\n",
       "      <td>None</td>\n",
       "    </tr>\n",
       "  </tbody>\n",
       "</table>\n",
       "<p>1 rows × 502 columns</p>\n",
       "</div>"
      ],
      "text/plain": [
       "  Folder  PatientID    StudyID         EXAMINATION  \\\n",
       "0    p18  p18635245  s57591038  CHEST (PA AND LAT)   \n",
       "\n",
       "                                                                INDICATION  \\\n",
       "0  ___F with L shoulder injury, + distal clavicle ttp // eval for fx, pnx.   \n",
       "\n",
       "              TECHNIQUE COMPARISON  \\\n",
       "0  Chest PA and lateral      None.   \n",
       "\n",
       "                                                                                                                                          FINDINGS  \\\n",
       "0  The heart size, mediastinal, and hilar contours are normal. The lungs are clear without pleural effusion, focal consolidation, or pneumothorax.   \n",
       "\n",
       "                          IMPRESSION WET READ  ...  ARDS SUPINE AP  \\\n",
       "0  No acute cardiopulmonary process.     None  ...  None      None   \n",
       "\n",
       "  SEMIERECT PORTABLE RADIOGRAPH OF THE CHEST ERECT AP AND PA CHEST RADIOGRAPH  \\\n",
       "0                                       None                             None   \n",
       "\n",
       "  PORTABLE AP CHEST RADIOGRAPHS SEMIERECT AP VIEW OF THE CHEST   OMR  \\\n",
       "0                          None                           None  None   \n",
       "\n",
       "  SINGLE AP UPRIGHT PORTABLE CHEST RADIOGRAPH TWO IMAGES  \\\n",
       "0                                        None       None   \n",
       "\n",
       "  PA AND AP CHEST RADIOGRAPH  \n",
       "0                       None  \n",
       "\n",
       "[1 rows x 502 columns]"
      ]
     },
     "execution_count": 7,
     "metadata": {},
     "output_type": "execute_result"
    }
   ],
   "source": [
    "reports_df.head(1)"
   ]
  },
  {
   "cell_type": "markdown",
   "id": "e2a58424",
   "metadata": {},
   "source": [
    "#### Data Preprocessing \n",
    "\n",
    "**Images**\n",
    "\n",
    "- Resize all jpeg files to 256 on the larger size\n",
    "\n",
    "**Text**\n",
    "\n",
    "- Tokenize all reports with english tokenizer from [CoreNLP](https://stanfordnlp.github.io/CoreNLP/)\n",
    "- Keep only **Findings** and **Impression** section\n",
    "- Remove image-text pair samples where number of tokens < 3\n",
    "- Should have 217k image-text pairs\n",
    "\n",
    "#### Pretraining ([MIMIC-CXR-II](https://physionet.org/content/mimic-cxr-jpg/2.0.0/))\n",
    "\n",
    "- **Image Encoder:** ResNet-50\n",
    "- **Text Encoder:** [ClinicalBERT](https://huggingface.co/emilyalsentzer/Bio_ClinicalBERT). During contrastive training first 6 layers were frozen and only last 6 layers were trained.\n",
    "    - https://allenai.github.io/scispacy/\n",
    "- **Image Data Augmentations:** Random resized crop (0.6,1), hflip, affine tfms: rotation -+20 deg, horizontal-vertical translation 0.1, scaling (0.95,1.05), color jittering brightness and contrast from (0.6, 1.4) and gaussian blue (0.1,3), image size = 224\n",
    "- **Text Data Augmentations:** Radomly sample a sentence from input document (probably after preprocessing).\n",
    "- Hyperparameters; embed dim=512, tem=0.1 and loss weight=0.75 for pretraining selected by linear evaluation on RSNA image classification task with pretrained ResNet-50 weights.\n",
    "- 5k validation during pretraining.\n",
    "- bs = 32.\n",
    "\n",
    "#### Downstream Tasks\n",
    "\n",
    "- [RSNA](https://www.kaggle.com/c/rsna-pneumonia-detection-challenge/overview) - used as a binary classification task\n",
    "- [Chexpert](https://stanfordmlgroup.github.io/competitions/chexpert/) - used expert labelled dataset as test set and a random 5,000 samples as validation 218414/5000/234 - only 234 samples in test\n",
    "- [COVID-X](https://github.com/lindawangg/COVID-Net) - latest version\n",
    "- [COVID-19 Radiography Database Kaggle](https://www.kaggle.com/tawsifurrahman/covid19-radiography-database)\n",
    "\n",
    "#### Ablation Ideas\n",
    "\n",
    "- With/Without MLP during pretraining\n",
    "- Use full text during pretraining\n",
    "- Learnable temperature\n",
    "- Linear evaluation or knn, which one is better and faster?"
   ]
  },
  {
   "cell_type": "markdown",
   "id": "7187907d",
   "metadata": {},
   "source": [
    "### CONVIRT Paper Implementation\n",
    "\n",
    "We will only `FINDINGS` and `IMPRESSION` sections from the radiology reports as per paper.\n",
    "\n",
    "Also, following the model used https://huggingface.co/emilyalsentzer/Bio_ClinicalBERT\n",
    "\n",
    "*We remove all image-text pairings from the dataset where the text section is empty or has less than 3 tokens*"
   ]
  },
  {
   "cell_type": "code",
   "execution_count": 8,
   "id": "3d412940",
   "metadata": {},
   "outputs": [],
   "source": [
    "import scispacy\n",
    "import spacy"
   ]
  },
  {
   "cell_type": "code",
   "execution_count": 99,
   "id": "9ce03155",
   "metadata": {},
   "outputs": [],
   "source": [
    "from transformers import AutoTokenizer, AutoModel\n",
    "tokenizer = AutoTokenizer.from_pretrained(\"emilyalsentzer/Bio_ClinicalBERT\")\n",
    "model = AutoModel.from_pretrained(\"emilyalsentzer/Bio_ClinicalBERT\")"
   ]
  },
  {
   "cell_type": "code",
   "execution_count": 9,
   "id": "1aa24dfc",
   "metadata": {},
   "outputs": [],
   "source": [
    "reports_df = reports_df[['Folder', 'PatientID', 'StudyID', 'FINDINGS', 'IMPRESSION']]"
   ]
  },
  {
   "cell_type": "code",
   "execution_count": 10,
   "id": "57056cc8",
   "metadata": {},
   "outputs": [],
   "source": [
    "reports_df = reports_df[~(reports_df['FINDINGS'].isna() & reports_df['IMPRESSION'].isna())]"
   ]
  },
  {
   "cell_type": "code",
   "execution_count": 11,
   "id": "9c5b5e6d",
   "metadata": {},
   "outputs": [],
   "source": [
    "reports_df['TEXT'] = reports_df['FINDINGS'].fillna(\"\")+reports_df['IMPRESSION'].fillna(\"\")"
   ]
  },
  {
   "cell_type": "code",
   "execution_count": 12,
   "id": "29324782",
   "metadata": {},
   "outputs": [
    {
     "data": {
      "text/html": [
       "<div>\n",
       "<style scoped>\n",
       "    .dataframe tbody tr th:only-of-type {\n",
       "        vertical-align: middle;\n",
       "    }\n",
       "\n",
       "    .dataframe tbody tr th {\n",
       "        vertical-align: top;\n",
       "    }\n",
       "\n",
       "    .dataframe thead th {\n",
       "        text-align: right;\n",
       "    }\n",
       "</style>\n",
       "<table border=\"1\" class=\"dataframe\">\n",
       "  <thead>\n",
       "    <tr style=\"text-align: right;\">\n",
       "      <th></th>\n",
       "      <th>Folder</th>\n",
       "      <th>PatientID</th>\n",
       "      <th>StudyID</th>\n",
       "      <th>FINDINGS</th>\n",
       "      <th>IMPRESSION</th>\n",
       "      <th>TEXT</th>\n",
       "    </tr>\n",
       "  </thead>\n",
       "  <tbody>\n",
       "    <tr>\n",
       "      <th>0</th>\n",
       "      <td>p18</td>\n",
       "      <td>p18635245</td>\n",
       "      <td>s57591038</td>\n",
       "      <td>The heart size, mediastinal, and hilar contours are normal. The lungs are clear without pleural effusion, focal consolidation, or pneumothorax.</td>\n",
       "      <td>No acute cardiopulmonary process.</td>\n",
       "      <td>The heart size, mediastinal, and hilar contours are normal. The lungs are clear without pleural effusion, focal consolidation, or pneumothorax.No acute cardiopulmonary process.</td>\n",
       "    </tr>\n",
       "    <tr>\n",
       "      <th>1</th>\n",
       "      <td>p18</td>\n",
       "      <td>p18562317</td>\n",
       "      <td>s50002358</td>\n",
       "      <td>None</td>\n",
       "      <td>In comparison with the study of ___, there again are low lung volumes with increased opacification at the bases consistent with pleural effusion and underlying compressive atelectasis. Mild elevation of pulmonary venous pressure is again seen. Left IJ catheter again extends to the mid portion of the SVC. In the absence of a lateral view, superimposed pneumonia would have to be considered in the appropriate clinical setting.</td>\n",
       "      <td>In comparison with the study of ___, there again are low lung volumes with increased opacification at the bases consistent with pleural effusion and underlying compressive atelectasis. Mild elevation of pulmonary venous pressure is again seen. Left IJ catheter again extends to the mid portion of the SVC. In the absence of a lateral view, superimposed pneumonia would have to be considered in the appropriate clinical setting.</td>\n",
       "    </tr>\n",
       "    <tr>\n",
       "      <th>2</th>\n",
       "      <td>p18</td>\n",
       "      <td>p18562317</td>\n",
       "      <td>s59527651</td>\n",
       "      <td>Mild cardiomegaly is accompanied by pulmonary vascular congestion without overt pulmonary edema. Interval development of bibasilar atelectasis and small right pleural effusion. Small left pleural effusion is similar to prior study. No visible pneumothorax.</td>\n",
       "      <td>None</td>\n",
       "      <td>Mild cardiomegaly is accompanied by pulmonary vascular congestion without overt pulmonary edema. Interval development of bibasilar atelectasis and small right pleural effusion. Small left pleural effusion is similar to prior study. No visible pneumothorax.</td>\n",
       "    </tr>\n",
       "    <tr>\n",
       "      <th>3</th>\n",
       "      <td>p18</td>\n",
       "      <td>p18562317</td>\n",
       "      <td>s51459612</td>\n",
       "      <td>None</td>\n",
       "      <td>As compared to ___ chest radiograph, cardiomediastinal contours are stable. Lung volumes have increased with associated improved aeration at both lung bases although substantial atelectasis remains, as well as adjacent small to moderate right and small left pleural effusions.</td>\n",
       "      <td>As compared to ___ chest radiograph, cardiomediastinal contours are stable. Lung volumes have increased with associated improved aeration at both lung bases although substantial atelectasis remains, as well as adjacent small to moderate right and small left pleural effusions.</td>\n",
       "    </tr>\n",
       "    <tr>\n",
       "      <th>4</th>\n",
       "      <td>p18</td>\n",
       "      <td>p18562317</td>\n",
       "      <td>s52571736</td>\n",
       "      <td>Frontal and lateral chest radiographs demonstrate sternal wires and a valve prosthesis, unchanged. There is a normal cardiomediastinal silhouette and well-aerated lungs without focal consolidation, pleural effusion, or pneumothorax. A nodular opacity projecting over the anterior sixth right rib likely represents a nipple shadow. The visualized upper abdomen is unremarkable.</td>\n",
       "      <td>1. No acute cardiopulmonary process. 2. A nodular opacity projecting over the anterior right sixth rib is new compared to ___, and likely represents a nipple shadow.</td>\n",
       "      <td>Frontal and lateral chest radiographs demonstrate sternal wires and a valve prosthesis, unchanged. There is a normal cardiomediastinal silhouette and well-aerated lungs without focal consolidation, pleural effusion, or pneumothorax. A nodular opacity projecting over the anterior sixth right rib likely represents a nipple shadow. The visualized upper abdomen is unremarkable.1. No acute cardiopulmonary process. 2. A nodular opacity projecting over the anterior right sixth rib is new compared to ___, and likely represents a nipple shadow.</td>\n",
       "    </tr>\n",
       "  </tbody>\n",
       "</table>\n",
       "</div>"
      ],
      "text/plain": [
       "  Folder  PatientID    StudyID  \\\n",
       "0    p18  p18635245  s57591038   \n",
       "1    p18  p18562317  s50002358   \n",
       "2    p18  p18562317  s59527651   \n",
       "3    p18  p18562317  s51459612   \n",
       "4    p18  p18562317  s52571736   \n",
       "\n",
       "                                                                                                                                                                                                                                                                                                                                                                                   FINDINGS  \\\n",
       "0                                                                                                                                                                                                                                           The heart size, mediastinal, and hilar contours are normal. The lungs are clear without pleural effusion, focal consolidation, or pneumothorax.   \n",
       "1                                                                                                                                                                                                                                                                                                                                                                                      None   \n",
       "2                                                                                                                          Mild cardiomegaly is accompanied by pulmonary vascular congestion without overt pulmonary edema. Interval development of bibasilar atelectasis and small right pleural effusion. Small left pleural effusion is similar to prior study. No visible pneumothorax.   \n",
       "3                                                                                                                                                                                                                                                                                                                                                                                      None   \n",
       "4  Frontal and lateral chest radiographs demonstrate sternal wires and a valve prosthesis, unchanged. There is a normal cardiomediastinal silhouette and well-aerated lungs without focal consolidation, pleural effusion, or pneumothorax. A nodular opacity projecting over the anterior sixth right rib likely represents a nipple shadow. The visualized upper abdomen is unremarkable.   \n",
       "\n",
       "                                                                                                                                                                                                                                                                                                                                                                                                                                    IMPRESSION  \\\n",
       "0                                                                                                                                                                                                                                                                                                                                                                                                            No acute cardiopulmonary process.   \n",
       "1  In comparison with the study of ___, there again are low lung volumes with increased opacification at the bases consistent with pleural effusion and underlying compressive atelectasis. Mild elevation of pulmonary venous pressure is again seen. Left IJ catheter again extends to the mid portion of the SVC. In the absence of a lateral view, superimposed pneumonia would have to be considered in the appropriate clinical setting.   \n",
       "2                                                                                                                                                                                                                                                                                                                                                                                                                                         None   \n",
       "3                                                                                                                                                         As compared to ___ chest radiograph, cardiomediastinal contours are stable. Lung volumes have increased with associated improved aeration at both lung bases although substantial atelectasis remains, as well as adjacent small to moderate right and small left pleural effusions.   \n",
       "4                                                                                                                                                                                                                                                                        1. No acute cardiopulmonary process. 2. A nodular opacity projecting over the anterior right sixth rib is new compared to ___, and likely represents a nipple shadow.   \n",
       "\n",
       "                                                                                                                                                                                                                                                                                                                                                                                                                                                                                                                                                            TEXT  \n",
       "0                                                                                                                                                                                                                                                                                                                                                                               The heart size, mediastinal, and hilar contours are normal. The lungs are clear without pleural effusion, focal consolidation, or pneumothorax.No acute cardiopulmonary process.  \n",
       "1                                                                                                                    In comparison with the study of ___, there again are low lung volumes with increased opacification at the bases consistent with pleural effusion and underlying compressive atelectasis. Mild elevation of pulmonary venous pressure is again seen. Left IJ catheter again extends to the mid portion of the SVC. In the absence of a lateral view, superimposed pneumonia would have to be considered in the appropriate clinical setting.  \n",
       "2                                                                                                                                                                                                                                                                                               Mild cardiomegaly is accompanied by pulmonary vascular congestion without overt pulmonary edema. Interval development of bibasilar atelectasis and small right pleural effusion. Small left pleural effusion is similar to prior study. No visible pneumothorax.  \n",
       "3                                                                                                                                                                                                                                                                           As compared to ___ chest radiograph, cardiomediastinal contours are stable. Lung volumes have increased with associated improved aeration at both lung bases although substantial atelectasis remains, as well as adjacent small to moderate right and small left pleural effusions.  \n",
       "4  Frontal and lateral chest radiographs demonstrate sternal wires and a valve prosthesis, unchanged. There is a normal cardiomediastinal silhouette and well-aerated lungs without focal consolidation, pleural effusion, or pneumothorax. A nodular opacity projecting over the anterior sixth right rib likely represents a nipple shadow. The visualized upper abdomen is unremarkable.1. No acute cardiopulmonary process. 2. A nodular opacity projecting over the anterior right sixth rib is new compared to ___, and likely represents a nipple shadow.  "
      ]
     },
     "execution_count": 12,
     "metadata": {},
     "output_type": "execute_result"
    }
   ],
   "source": [
    "reports_df.head()"
   ]
  },
  {
   "cell_type": "code",
   "execution_count": 13,
   "id": "f52cc9fe",
   "metadata": {},
   "outputs": [],
   "source": [
    "def extract_sents(text): return list(text.sents)"
   ]
  },
  {
   "cell_type": "code",
   "execution_count": 76,
   "id": "0e09e6ff",
   "metadata": {},
   "outputs": [],
   "source": [
    "nlp = spacy.load(\"en_core_sci_md\")"
   ]
  },
  {
   "cell_type": "code",
   "execution_count": 72,
   "id": "ca28352c",
   "metadata": {},
   "outputs": [
    {
     "data": {
      "text/plain": [
       "['tagger', 'attribute_ruler', 'lemmatizer', 'parser', 'ner']"
      ]
     },
     "execution_count": 72,
     "metadata": {},
     "output_type": "execute_result"
    }
   ],
   "source": [
    "nlp.pipe_names"
   ]
  },
  {
   "cell_type": "code",
   "execution_count": 104,
   "id": "b05c4664",
   "metadata": {},
   "outputs": [
    {
     "ename": "TypeError",
     "evalue": "object of type 'generator' has no len()",
     "output_type": "error",
     "traceback": [
      "\u001b[0;31m---------------------------------------------------------------------------\u001b[0m",
      "\u001b[0;31mTypeError\u001b[0m                                 Traceback (most recent call last)",
      "\u001b[0;32m<ipython-input-104-fcbb472336cb>\u001b[0m in \u001b[0;36m<module>\u001b[0;34m\u001b[0m\n\u001b[1;32m      1\u001b[0m \u001b[0mdocs\u001b[0m \u001b[0;34m=\u001b[0m \u001b[0mnlp\u001b[0m\u001b[0;34m.\u001b[0m\u001b[0mpipe\u001b[0m\u001b[0;34m(\u001b[0m\u001b[0mreports_df\u001b[0m\u001b[0;34m[\u001b[0m\u001b[0;34m'TEXT'\u001b[0m\u001b[0;34m]\u001b[0m\u001b[0;34m.\u001b[0m\u001b[0mhead\u001b[0m\u001b[0;34m(\u001b[0m\u001b[0;36m100\u001b[0m\u001b[0;34m)\u001b[0m\u001b[0;34m,\u001b[0m \u001b[0mbatch_size\u001b[0m\u001b[0;34m=\u001b[0m\u001b[0;36m32\u001b[0m\u001b[0;34m,\u001b[0m \u001b[0mn_process\u001b[0m\u001b[0;34m=\u001b[0m\u001b[0;36m16\u001b[0m\u001b[0;34m)\u001b[0m\u001b[0;34m\u001b[0m\u001b[0;34m\u001b[0m\u001b[0m\n\u001b[0;32m----> 2\u001b[0;31m \u001b[0msents\u001b[0m \u001b[0;34m=\u001b[0m \u001b[0;34m[\u001b[0m\u001b[0mlist\u001b[0m\u001b[0;34m(\u001b[0m\u001b[0mdoc\u001b[0m\u001b[0;34m.\u001b[0m\u001b[0msents\u001b[0m\u001b[0;34m)\u001b[0m \u001b[0;32mfor\u001b[0m \u001b[0mdoc\u001b[0m \u001b[0;32min\u001b[0m \u001b[0mprogress_bar\u001b[0m\u001b[0;34m(\u001b[0m\u001b[0mdocs\u001b[0m\u001b[0;34m)\u001b[0m\u001b[0;34m]\u001b[0m\u001b[0;34m\u001b[0m\u001b[0;34m\u001b[0m\u001b[0m\n\u001b[0m",
      "\u001b[0;32m/usr/local/lib/python3.6/dist-packages/fastprogress/fastprogress.py\u001b[0m in \u001b[0;36m__init__\u001b[0;34m(self, gen, total, display, leave, parent, master, comment)\u001b[0m\n\u001b[1;32m     17\u001b[0m     \u001b[0;32mdef\u001b[0m \u001b[0m__init__\u001b[0m\u001b[0;34m(\u001b[0m\u001b[0mself\u001b[0m\u001b[0;34m,\u001b[0m \u001b[0mgen\u001b[0m\u001b[0;34m,\u001b[0m \u001b[0mtotal\u001b[0m\u001b[0;34m=\u001b[0m\u001b[0;32mNone\u001b[0m\u001b[0;34m,\u001b[0m \u001b[0mdisplay\u001b[0m\u001b[0;34m=\u001b[0m\u001b[0;32mTrue\u001b[0m\u001b[0;34m,\u001b[0m \u001b[0mleave\u001b[0m\u001b[0;34m=\u001b[0m\u001b[0;32mTrue\u001b[0m\u001b[0;34m,\u001b[0m \u001b[0mparent\u001b[0m\u001b[0;34m=\u001b[0m\u001b[0;32mNone\u001b[0m\u001b[0;34m,\u001b[0m \u001b[0mmaster\u001b[0m\u001b[0;34m=\u001b[0m\u001b[0;32mNone\u001b[0m\u001b[0;34m,\u001b[0m \u001b[0mcomment\u001b[0m\u001b[0;34m=\u001b[0m\u001b[0;34m''\u001b[0m\u001b[0;34m)\u001b[0m\u001b[0;34m:\u001b[0m\u001b[0;34m\u001b[0m\u001b[0;34m\u001b[0m\u001b[0m\n\u001b[1;32m     18\u001b[0m         \u001b[0mself\u001b[0m\u001b[0;34m.\u001b[0m\u001b[0mgen\u001b[0m\u001b[0;34m,\u001b[0m\u001b[0mself\u001b[0m\u001b[0;34m.\u001b[0m\u001b[0mparent\u001b[0m\u001b[0;34m,\u001b[0m\u001b[0mself\u001b[0m\u001b[0;34m.\u001b[0m\u001b[0mmaster\u001b[0m\u001b[0;34m,\u001b[0m\u001b[0mself\u001b[0m\u001b[0;34m.\u001b[0m\u001b[0mcomment\u001b[0m \u001b[0;34m=\u001b[0m \u001b[0mgen\u001b[0m\u001b[0;34m,\u001b[0m\u001b[0mparent\u001b[0m\u001b[0;34m,\u001b[0m\u001b[0mmaster\u001b[0m\u001b[0;34m,\u001b[0m\u001b[0mcomment\u001b[0m\u001b[0;34m\u001b[0m\u001b[0;34m\u001b[0m\u001b[0m\n\u001b[0;32m---> 19\u001b[0;31m         \u001b[0mself\u001b[0m\u001b[0;34m.\u001b[0m\u001b[0mtotal\u001b[0m \u001b[0;34m=\u001b[0m \u001b[0mlen\u001b[0m\u001b[0;34m(\u001b[0m\u001b[0mgen\u001b[0m\u001b[0;34m)\u001b[0m \u001b[0;32mif\u001b[0m \u001b[0mtotal\u001b[0m \u001b[0;32mis\u001b[0m \u001b[0;32mNone\u001b[0m \u001b[0;32melse\u001b[0m \u001b[0mtotal\u001b[0m\u001b[0;34m\u001b[0m\u001b[0;34m\u001b[0m\u001b[0m\n\u001b[0m\u001b[1;32m     20\u001b[0m         \u001b[0mself\u001b[0m\u001b[0;34m.\u001b[0m\u001b[0mlast_v\u001b[0m \u001b[0;34m=\u001b[0m \u001b[0;36m0\u001b[0m\u001b[0;34m\u001b[0m\u001b[0;34m\u001b[0m\u001b[0m\n\u001b[1;32m     21\u001b[0m         \u001b[0;32mif\u001b[0m \u001b[0mparent\u001b[0m \u001b[0;32mis\u001b[0m \u001b[0;32mNone\u001b[0m\u001b[0;34m:\u001b[0m \u001b[0mself\u001b[0m\u001b[0;34m.\u001b[0m\u001b[0mleave\u001b[0m\u001b[0;34m,\u001b[0m\u001b[0mself\u001b[0m\u001b[0;34m.\u001b[0m\u001b[0mdisplay\u001b[0m \u001b[0;34m=\u001b[0m \u001b[0mleave\u001b[0m\u001b[0;34m,\u001b[0m\u001b[0mdisplay\u001b[0m\u001b[0;34m\u001b[0m\u001b[0;34m\u001b[0m\u001b[0m\n",
      "\u001b[0;31mTypeError\u001b[0m: object of type 'generator' has no len()"
     ]
    }
   ],
   "source": [
    "docs = nlp.pipe(reports_df['TEXT'].head(100), batch_size=32, n_process=16)\n",
    "sents = [list(doc.sents) for doc in progress_bar(docs, total=100)]"
   ]
  },
  {
   "cell_type": "code",
   "execution_count": 98,
   "id": "a3c1530b",
   "metadata": {},
   "outputs": [
    {
     "data": {
      "text/plain": [
       "[In comparison with the study of ___, the patient has taken a much better inspiration.,\n",
       " There is again enlargement of the cardiac silhouette, but no evidence of pulmonary vascular congestion, pleural effusion, or acute focal pneumonia.,\n",
       " Intact sternal wires are again seen related to previous valve replacement.]"
      ]
     },
     "execution_count": 98,
     "metadata": {},
     "output_type": "execute_result"
    }
   ],
   "source": [
    "sents[5]"
   ]
  },
  {
   "cell_type": "code",
   "execution_count": 102,
   "id": "e0a64ebd",
   "metadata": {},
   "outputs": [
    {
     "data": {
      "text/plain": [
       "[The heart size, mediastinal, and hilar contours are normal.,\n",
       " The lungs are clear without pleural effusion, focal consolidation, or pneumothorax.,\n",
       " No acute cardiopulmonary process.]"
      ]
     },
     "execution_count": 102,
     "metadata": {},
     "output_type": "execute_result"
    }
   ],
   "source": [
    "sents[0]"
   ]
  },
  {
   "cell_type": "code",
   "execution_count": 103,
   "id": "48385342",
   "metadata": {},
   "outputs": [
    {
     "ename": "TypeError",
     "evalue": "TextEncodeInput must be Union[TextInputSequence, Tuple[InputSequence, InputSequence]]",
     "output_type": "error",
     "traceback": [
      "\u001b[0;31m---------------------------------------------------------------------------\u001b[0m",
      "\u001b[0;31mTypeError\u001b[0m                                 Traceback (most recent call last)",
      "\u001b[0;32m<ipython-input-103-e3584bd738d7>\u001b[0m in \u001b[0;36m<module>\u001b[0;34m\u001b[0m\n\u001b[0;32m----> 1\u001b[0;31m \u001b[0mtokenizer\u001b[0m\u001b[0;34m.\u001b[0m\u001b[0mencode\u001b[0m\u001b[0;34m(\u001b[0m\u001b[0msents\u001b[0m\u001b[0;34m[\u001b[0m\u001b[0;36m0\u001b[0m\u001b[0;34m]\u001b[0m\u001b[0;34m[\u001b[0m\u001b[0;36m0\u001b[0m\u001b[0;34m]\u001b[0m\u001b[0;34m)\u001b[0m\u001b[0;34m\u001b[0m\u001b[0;34m\u001b[0m\u001b[0m\n\u001b[0m",
      "\u001b[0;32m/usr/local/lib/python3.6/dist-packages/transformers/tokenization_utils_base.py\u001b[0m in \u001b[0;36mencode\u001b[0;34m(self, text, text_pair, add_special_tokens, padding, truncation, max_length, stride, return_tensors, **kwargs)\u001b[0m\n\u001b[1;32m   2035\u001b[0m             \u001b[0mstride\u001b[0m\u001b[0;34m=\u001b[0m\u001b[0mstride\u001b[0m\u001b[0;34m,\u001b[0m\u001b[0;34m\u001b[0m\u001b[0;34m\u001b[0m\u001b[0m\n\u001b[1;32m   2036\u001b[0m             \u001b[0mreturn_tensors\u001b[0m\u001b[0;34m=\u001b[0m\u001b[0mreturn_tensors\u001b[0m\u001b[0;34m,\u001b[0m\u001b[0;34m\u001b[0m\u001b[0;34m\u001b[0m\u001b[0m\n\u001b[0;32m-> 2037\u001b[0;31m             \u001b[0;34m**\u001b[0m\u001b[0mkwargs\u001b[0m\u001b[0;34m,\u001b[0m\u001b[0;34m\u001b[0m\u001b[0;34m\u001b[0m\u001b[0m\n\u001b[0m\u001b[1;32m   2038\u001b[0m         )\n\u001b[1;32m   2039\u001b[0m \u001b[0;34m\u001b[0m\u001b[0m\n",
      "\u001b[0;32m/usr/local/lib/python3.6/dist-packages/transformers/tokenization_utils_base.py\u001b[0m in \u001b[0;36mencode_plus\u001b[0;34m(self, text, text_pair, add_special_tokens, padding, truncation, max_length, stride, is_split_into_words, pad_to_multiple_of, return_tensors, return_token_type_ids, return_attention_mask, return_overflowing_tokens, return_special_tokens_mask, return_offsets_mapping, return_length, verbose, **kwargs)\u001b[0m\n\u001b[1;32m   2360\u001b[0m             \u001b[0mreturn_length\u001b[0m\u001b[0;34m=\u001b[0m\u001b[0mreturn_length\u001b[0m\u001b[0;34m,\u001b[0m\u001b[0;34m\u001b[0m\u001b[0;34m\u001b[0m\u001b[0m\n\u001b[1;32m   2361\u001b[0m             \u001b[0mverbose\u001b[0m\u001b[0;34m=\u001b[0m\u001b[0mverbose\u001b[0m\u001b[0;34m,\u001b[0m\u001b[0;34m\u001b[0m\u001b[0;34m\u001b[0m\u001b[0m\n\u001b[0;32m-> 2362\u001b[0;31m             \u001b[0;34m**\u001b[0m\u001b[0mkwargs\u001b[0m\u001b[0;34m,\u001b[0m\u001b[0;34m\u001b[0m\u001b[0;34m\u001b[0m\u001b[0m\n\u001b[0m\u001b[1;32m   2363\u001b[0m         )\n\u001b[1;32m   2364\u001b[0m \u001b[0;34m\u001b[0m\u001b[0m\n",
      "\u001b[0;32m/usr/local/lib/python3.6/dist-packages/transformers/tokenization_utils_fast.py\u001b[0m in \u001b[0;36m_encode_plus\u001b[0;34m(self, text, text_pair, add_special_tokens, padding_strategy, truncation_strategy, max_length, stride, is_split_into_words, pad_to_multiple_of, return_tensors, return_token_type_ids, return_attention_mask, return_overflowing_tokens, return_special_tokens_mask, return_offsets_mapping, return_length, verbose, **kwargs)\u001b[0m\n\u001b[1;32m    473\u001b[0m             \u001b[0mreturn_length\u001b[0m\u001b[0;34m=\u001b[0m\u001b[0mreturn_length\u001b[0m\u001b[0;34m,\u001b[0m\u001b[0;34m\u001b[0m\u001b[0;34m\u001b[0m\u001b[0m\n\u001b[1;32m    474\u001b[0m             \u001b[0mverbose\u001b[0m\u001b[0;34m=\u001b[0m\u001b[0mverbose\u001b[0m\u001b[0;34m,\u001b[0m\u001b[0;34m\u001b[0m\u001b[0;34m\u001b[0m\u001b[0m\n\u001b[0;32m--> 475\u001b[0;31m             \u001b[0;34m**\u001b[0m\u001b[0mkwargs\u001b[0m\u001b[0;34m,\u001b[0m\u001b[0;34m\u001b[0m\u001b[0;34m\u001b[0m\u001b[0m\n\u001b[0m\u001b[1;32m    476\u001b[0m         )\n\u001b[1;32m    477\u001b[0m \u001b[0;34m\u001b[0m\u001b[0m\n",
      "\u001b[0;32m/usr/local/lib/python3.6/dist-packages/transformers/tokenization_utils_fast.py\u001b[0m in \u001b[0;36m_batch_encode_plus\u001b[0;34m(self, batch_text_or_text_pairs, add_special_tokens, padding_strategy, truncation_strategy, max_length, stride, is_split_into_words, pad_to_multiple_of, return_tensors, return_token_type_ids, return_attention_mask, return_overflowing_tokens, return_special_tokens_mask, return_offsets_mapping, return_length, verbose)\u001b[0m\n\u001b[1;32m    386\u001b[0m             \u001b[0mbatch_text_or_text_pairs\u001b[0m\u001b[0;34m,\u001b[0m\u001b[0;34m\u001b[0m\u001b[0;34m\u001b[0m\u001b[0m\n\u001b[1;32m    387\u001b[0m             \u001b[0madd_special_tokens\u001b[0m\u001b[0;34m=\u001b[0m\u001b[0madd_special_tokens\u001b[0m\u001b[0;34m,\u001b[0m\u001b[0;34m\u001b[0m\u001b[0;34m\u001b[0m\u001b[0m\n\u001b[0;32m--> 388\u001b[0;31m             \u001b[0mis_pretokenized\u001b[0m\u001b[0;34m=\u001b[0m\u001b[0mis_split_into_words\u001b[0m\u001b[0;34m,\u001b[0m\u001b[0;34m\u001b[0m\u001b[0;34m\u001b[0m\u001b[0m\n\u001b[0m\u001b[1;32m    389\u001b[0m         )\n\u001b[1;32m    390\u001b[0m \u001b[0;34m\u001b[0m\u001b[0m\n",
      "\u001b[0;31mTypeError\u001b[0m: TextEncodeInput must be Union[TextInputSequence, Tuple[InputSequence, InputSequence]]"
     ]
    }
   ],
   "source": [
    "tokenizer.encode(sents[0][0])"
   ]
  },
  {
   "cell_type": "code",
   "execution_count": 72,
   "id": "a28c87ed",
   "metadata": {},
   "outputs": [
    {
     "data": {
      "text/plain": [
       "True"
      ]
     },
     "execution_count": 72,
     "metadata": {},
     "output_type": "execute_result"
    }
   ],
   "source": [
    "tokenizer.do_lower_case"
   ]
  },
  {
   "cell_type": "code",
   "execution_count": null,
   "id": "76707a4e",
   "metadata": {},
   "outputs": [],
   "source": []
  },
  {
   "cell_type": "code",
   "execution_count": null,
   "id": "fe849864",
   "metadata": {},
   "outputs": [],
   "source": []
  },
  {
   "cell_type": "code",
   "execution_count": null,
   "id": "901fbade",
   "metadata": {},
   "outputs": [],
   "source": []
  },
  {
   "cell_type": "code",
   "execution_count": null,
   "id": "c7a4ece6",
   "metadata": {},
   "outputs": [],
   "source": []
  },
  {
   "cell_type": "code",
   "execution_count": null,
   "id": "88bae646",
   "metadata": {},
   "outputs": [],
   "source": []
  },
  {
   "cell_type": "code",
   "execution_count": null,
   "id": "f4809e35",
   "metadata": {},
   "outputs": [],
   "source": []
  },
  {
   "cell_type": "code",
   "execution_count": null,
   "id": "32bd4481",
   "metadata": {},
   "outputs": [],
   "source": []
  },
  {
   "cell_type": "code",
   "execution_count": null,
   "id": "f04c3f81",
   "metadata": {},
   "outputs": [],
   "source": []
  },
  {
   "cell_type": "code",
   "execution_count": null,
   "id": "8ee0c2a5",
   "metadata": {},
   "outputs": [],
   "source": []
  },
  {
   "cell_type": "code",
   "execution_count": null,
   "id": "e70861c7",
   "metadata": {},
   "outputs": [],
   "source": []
  },
  {
   "cell_type": "code",
   "execution_count": null,
   "id": "683f7c17",
   "metadata": {},
   "outputs": [],
   "source": []
  },
  {
   "cell_type": "code",
   "execution_count": null,
   "id": "95606c38",
   "metadata": {},
   "outputs": [],
   "source": []
  },
  {
   "cell_type": "code",
   "execution_count": null,
   "id": "283430a4",
   "metadata": {},
   "outputs": [],
   "source": []
  },
  {
   "cell_type": "code",
   "execution_count": null,
   "id": "10eabfc3",
   "metadata": {},
   "outputs": [],
   "source": []
  },
  {
   "cell_type": "code",
   "execution_count": null,
   "id": "d6352d6d",
   "metadata": {},
   "outputs": [],
   "source": []
  },
  {
   "cell_type": "code",
   "execution_count": null,
   "id": "72df46bf",
   "metadata": {},
   "outputs": [],
   "source": []
  },
  {
   "cell_type": "code",
   "execution_count": null,
   "id": "29b30698",
   "metadata": {},
   "outputs": [],
   "source": []
  },
  {
   "cell_type": "code",
   "execution_count": null,
   "id": "ebfbdbec",
   "metadata": {},
   "outputs": [],
   "source": []
  }
 ],
 "metadata": {
  "kernelspec": {
   "display_name": "Python 3",
   "language": "python",
   "name": "python3"
  },
  "language_info": {
   "codemirror_mode": {
    "name": "ipython",
    "version": 3
   },
   "file_extension": ".py",
   "mimetype": "text/x-python",
   "name": "python",
   "nbconvert_exporter": "python",
   "pygments_lexer": "ipython3",
   "version": "3.6.9"
  }
 },
 "nbformat": 4,
 "nbformat_minor": 5
}
