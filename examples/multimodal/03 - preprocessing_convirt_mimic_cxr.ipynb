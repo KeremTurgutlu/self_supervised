{
 "cells": [
  {
   "cell_type": "code",
   "execution_count": 1,
   "id": "ec3242c9",
   "metadata": {},
   "outputs": [],
   "source": [
    "from fastai.vision.all import *"
   ]
  },
  {
   "cell_type": "code",
   "execution_count": 2,
   "id": "56746da1",
   "metadata": {},
   "outputs": [],
   "source": [
    "mimic_path = Path(\"/home/code-base/scratch_space/extra/\")"
   ]
  },
  {
   "cell_type": "code",
   "execution_count": 3,
   "id": "9fb633a4",
   "metadata": {},
   "outputs": [],
   "source": [
    "Path.ls_names = lambda o: o.ls().map(lambda o: o.name)"
   ]
  },
  {
   "cell_type": "code",
   "execution_count": 4,
   "id": "d389a20e",
   "metadata": {},
   "outputs": [
    {
     "data": {
      "text/plain": [
       "(#5) ['wget-log','image_filenames.pqt','cxr_reports_preprocessed.pqt','physionet.org','mimic-cxr-reports']"
      ]
     },
     "execution_count": 4,
     "metadata": {},
     "output_type": "execute_result"
    }
   ],
   "source": [
    "mimic_path.ls_names()"
   ]
  },
  {
   "cell_type": "code",
   "execution_count": 5,
   "id": "8d650ded",
   "metadata": {},
   "outputs": [],
   "source": [
    "image_df = pd.read_parquet(mimic_path/'image_filenames.pqt')\n",
    "reports_df = pd.read_parquet(mimic_path/'cxr_reports_preprocessed.pqt')"
   ]
  },
  {
   "cell_type": "code",
   "execution_count": 6,
   "id": "9742b216",
   "metadata": {},
   "outputs": [
    {
     "data": {
      "text/html": [
       "<div>\n",
       "<style scoped>\n",
       "    .dataframe tbody tr th:only-of-type {\n",
       "        vertical-align: middle;\n",
       "    }\n",
       "\n",
       "    .dataframe tbody tr th {\n",
       "        vertical-align: top;\n",
       "    }\n",
       "\n",
       "    .dataframe thead th {\n",
       "        text-align: right;\n",
       "    }\n",
       "</style>\n",
       "<table border=\"1\" class=\"dataframe\">\n",
       "  <thead>\n",
       "    <tr style=\"text-align: right;\">\n",
       "      <th></th>\n",
       "      <th>Folder</th>\n",
       "      <th>PatientID</th>\n",
       "      <th>StudyID</th>\n",
       "      <th>filename</th>\n",
       "    </tr>\n",
       "  </thead>\n",
       "  <tbody>\n",
       "    <tr>\n",
       "      <th>0</th>\n",
       "      <td>p18</td>\n",
       "      <td>p18635245</td>\n",
       "      <td>s57591038</td>\n",
       "      <td>p18/p18635245/s57591038/485014fa-f44727de-24b13f26-d2e9a979-086e5167.jpg</td>\n",
       "    </tr>\n",
       "    <tr>\n",
       "      <th>1</th>\n",
       "      <td>p18</td>\n",
       "      <td>p18635245</td>\n",
       "      <td>s57591038</td>\n",
       "      <td>p18/p18635245/s57591038/dc407ff9-10bc70a2-a442c521-db54ef56-4b238127.jpg</td>\n",
       "    </tr>\n",
       "    <tr>\n",
       "      <th>2</th>\n",
       "      <td>p18</td>\n",
       "      <td>p18562317</td>\n",
       "      <td>s51459612</td>\n",
       "      <td>p18/p18562317/s51459612/381cf034-75ce05c8-c29df027-9cc72659-9a92ddc5.jpg</td>\n",
       "    </tr>\n",
       "    <tr>\n",
       "      <th>3</th>\n",
       "      <td>p18</td>\n",
       "      <td>p18562317</td>\n",
       "      <td>s50002358</td>\n",
       "      <td>p18/p18562317/s50002358/0a671e62-7ce9430f-85fcb721-c7c61ba1-6692fc01.jpg</td>\n",
       "    </tr>\n",
       "    <tr>\n",
       "      <th>4</th>\n",
       "      <td>p18</td>\n",
       "      <td>p18562317</td>\n",
       "      <td>s50002358</td>\n",
       "      <td>p18/p18562317/s50002358/e686b4cc-9332850f-b76e3ab2-ccb21de0-e7efed0b.jpg</td>\n",
       "    </tr>\n",
       "  </tbody>\n",
       "</table>\n",
       "</div>"
      ],
      "text/plain": [
       "  Folder  PatientID    StudyID  \\\n",
       "0    p18  p18635245  s57591038   \n",
       "1    p18  p18635245  s57591038   \n",
       "2    p18  p18562317  s51459612   \n",
       "3    p18  p18562317  s50002358   \n",
       "4    p18  p18562317  s50002358   \n",
       "\n",
       "                                                                   filename  \n",
       "0  p18/p18635245/s57591038/485014fa-f44727de-24b13f26-d2e9a979-086e5167.jpg  \n",
       "1  p18/p18635245/s57591038/dc407ff9-10bc70a2-a442c521-db54ef56-4b238127.jpg  \n",
       "2  p18/p18562317/s51459612/381cf034-75ce05c8-c29df027-9cc72659-9a92ddc5.jpg  \n",
       "3  p18/p18562317/s50002358/0a671e62-7ce9430f-85fcb721-c7c61ba1-6692fc01.jpg  \n",
       "4  p18/p18562317/s50002358/e686b4cc-9332850f-b76e3ab2-ccb21de0-e7efed0b.jpg  "
      ]
     },
     "execution_count": 6,
     "metadata": {},
     "output_type": "execute_result"
    }
   ],
   "source": [
    "image_df.head()"
   ]
  },
  {
   "cell_type": "code",
   "execution_count": 7,
   "id": "07ea993a",
   "metadata": {},
   "outputs": [
    {
     "data": {
      "text/html": [
       "<div>\n",
       "<style scoped>\n",
       "    .dataframe tbody tr th:only-of-type {\n",
       "        vertical-align: middle;\n",
       "    }\n",
       "\n",
       "    .dataframe tbody tr th {\n",
       "        vertical-align: top;\n",
       "    }\n",
       "\n",
       "    .dataframe thead th {\n",
       "        text-align: right;\n",
       "    }\n",
       "</style>\n",
       "<table border=\"1\" class=\"dataframe\">\n",
       "  <thead>\n",
       "    <tr style=\"text-align: right;\">\n",
       "      <th></th>\n",
       "      <th>Folder</th>\n",
       "      <th>PatientID</th>\n",
       "      <th>StudyID</th>\n",
       "      <th>EXAMINATION</th>\n",
       "      <th>INDICATION</th>\n",
       "      <th>TECHNIQUE</th>\n",
       "      <th>COMPARISON</th>\n",
       "      <th>FINDINGS</th>\n",
       "      <th>IMPRESSION</th>\n",
       "      <th>WET READ</th>\n",
       "      <th>...</th>\n",
       "      <th>ARDS</th>\n",
       "      <th>SUPINE AP</th>\n",
       "      <th>SEMIERECT PORTABLE RADIOGRAPH OF THE CHEST</th>\n",
       "      <th>ERECT AP AND PA CHEST RADIOGRAPH</th>\n",
       "      <th>PORTABLE AP CHEST RADIOGRAPHS</th>\n",
       "      <th>SEMIERECT AP VIEW OF THE CHEST</th>\n",
       "      <th>OMR</th>\n",
       "      <th>SINGLE AP UPRIGHT PORTABLE CHEST RADIOGRAPH</th>\n",
       "      <th>TWO IMAGES</th>\n",
       "      <th>PA AND AP CHEST RADIOGRAPH</th>\n",
       "    </tr>\n",
       "  </thead>\n",
       "  <tbody>\n",
       "    <tr>\n",
       "      <th>0</th>\n",
       "      <td>p18</td>\n",
       "      <td>p18635245</td>\n",
       "      <td>s57591038</td>\n",
       "      <td>CHEST (PA AND LAT)</td>\n",
       "      <td>___F with L shoulder injury, + distal clavicle ttp // eval for fx, pnx.</td>\n",
       "      <td>Chest PA and lateral</td>\n",
       "      <td>None.</td>\n",
       "      <td>The heart size, mediastinal, and hilar contours are normal. The lungs are clear without pleural effusion, focal consolidation, or pneumothorax.</td>\n",
       "      <td>No acute cardiopulmonary process.</td>\n",
       "      <td>None</td>\n",
       "      <td>...</td>\n",
       "      <td>None</td>\n",
       "      <td>None</td>\n",
       "      <td>None</td>\n",
       "      <td>None</td>\n",
       "      <td>None</td>\n",
       "      <td>None</td>\n",
       "      <td>None</td>\n",
       "      <td>None</td>\n",
       "      <td>None</td>\n",
       "      <td>None</td>\n",
       "    </tr>\n",
       "  </tbody>\n",
       "</table>\n",
       "<p>1 rows × 502 columns</p>\n",
       "</div>"
      ],
      "text/plain": [
       "  Folder  PatientID    StudyID         EXAMINATION  \\\n",
       "0    p18  p18635245  s57591038  CHEST (PA AND LAT)   \n",
       "\n",
       "                                                                INDICATION  \\\n",
       "0  ___F with L shoulder injury, + distal clavicle ttp // eval for fx, pnx.   \n",
       "\n",
       "              TECHNIQUE COMPARISON  \\\n",
       "0  Chest PA and lateral      None.   \n",
       "\n",
       "                                                                                                                                          FINDINGS  \\\n",
       "0  The heart size, mediastinal, and hilar contours are normal. The lungs are clear without pleural effusion, focal consolidation, or pneumothorax.   \n",
       "\n",
       "                          IMPRESSION WET READ  ...  ARDS SUPINE AP  \\\n",
       "0  No acute cardiopulmonary process.     None  ...  None      None   \n",
       "\n",
       "  SEMIERECT PORTABLE RADIOGRAPH OF THE CHEST ERECT AP AND PA CHEST RADIOGRAPH  \\\n",
       "0                                       None                             None   \n",
       "\n",
       "  PORTABLE AP CHEST RADIOGRAPHS SEMIERECT AP VIEW OF THE CHEST   OMR  \\\n",
       "0                          None                           None  None   \n",
       "\n",
       "  SINGLE AP UPRIGHT PORTABLE CHEST RADIOGRAPH TWO IMAGES  \\\n",
       "0                                        None       None   \n",
       "\n",
       "  PA AND AP CHEST RADIOGRAPH  \n",
       "0                       None  \n",
       "\n",
       "[1 rows x 502 columns]"
      ]
     },
     "execution_count": 7,
     "metadata": {},
     "output_type": "execute_result"
    }
   ],
   "source": [
    "reports_df.head(1)"
   ]
  },
  {
   "cell_type": "markdown",
   "id": "2adf73aa",
   "metadata": {},
   "source": [
    "#### Data Preprocessing \n",
    "\n",
    "**Images**\n",
    "\n",
    "- Resize all jpeg files to 256 on the larger size\n",
    "\n",
    "**Text**\n",
    "\n",
    "- Tokenize all reports with english tokenizer from [CoreNLP](https://stanfordnlp.github.io/CoreNLP/)\n",
    "- Keep only **Findings** and **Impression** section\n",
    "- Remove image-text pair samples where number of tokens < 3\n",
    "- Should have 217k image-text pairs\n",
    "\n",
    "#### Pretraining ([MIMIC-CXR-II](https://physionet.org/content/mimic-cxr-jpg/2.0.0/))\n",
    "\n",
    "- **Image Encoder:** ResNet-50\n",
    "- **Text Encoder:** [ClinicalBERT](https://huggingface.co/emilyalsentzer/Bio_ClinicalBERT). During contrastive training first 6 layers were frozen and only last 6 layers were trained.\n",
    "    - https://allenai.github.io/scispacy/\n",
    "- **Image Data Augmentations:** Random resized crop (0.6,1), hflip, affine tfms: rotation -+20 deg, horizontal-vertical translation 0.1, scaling (0.95,1.05), color jittering brightness and contrast from (0.6, 1.4) and gaussian blue (0.1,3), image size = 224\n",
    "- **Text Data Augmentations:** Radomly sample a sentence from input document (probably after preprocessing).\n",
    "- Hyperparameters; embed dim=512, tem=0.1 and loss weight=0.75 for pretraining selected by linear evaluation on RSNA image classification task with pretrained ResNet-50 weights.\n",
    "- 5k validation during pretraining.\n",
    "- bs = 32.\n",
    "\n",
    "#### Downstream Tasks\n",
    "\n",
    "- [RSNA](https://www.kaggle.com/c/rsna-pneumonia-detection-challenge/overview) - used as a binary classification task\n",
    "- [Chexpert](https://stanfordmlgroup.github.io/competitions/chexpert/) - used expert labelled dataset as test set and a random 5,000 samples as validation 218414/5000/234 - only 234 samples in test\n",
    "- [COVID-X](https://github.com/lindawangg/COVID-Net) - latest version\n",
    "- [COVID-19 Radiography Database Kaggle](https://www.kaggle.com/tawsifurrahman/covid19-radiography-database)\n",
    "\n",
    "#### Ablation Ideas\n",
    "\n",
    "- With/Without MLP during pretraining\n",
    "- Use full text during pretraining\n",
    "- Learnable temperature\n",
    "- Linear evaluation or knn, which one is better and faster?"
   ]
  },
  {
   "cell_type": "markdown",
   "id": "4963d5dc",
   "metadata": {},
   "source": [
    "### CONVIRT Paper Implementation\n",
    "\n",
    "We will only `FINDINGS` and `IMPRESSION` sections from the radiology reports as per paper.\n",
    "\n",
    "Also, following the model used https://huggingface.co/emilyalsentzer/Bio_ClinicalBERT\n",
    "\n",
    "*We remove all image-text pairings from the dataset where the text section is empty or has less than 3 tokens*"
   ]
  },
  {
   "cell_type": "markdown",
   "id": "946c3a69",
   "metadata": {},
   "source": [
    "### Prepare Text"
   ]
  },
  {
   "cell_type": "code",
   "execution_count": 9,
   "id": "f42403e9",
   "metadata": {},
   "outputs": [],
   "source": [
    "import scispacy\n",
    "import spacy\n",
    "from transformers import AutoTokenizer, AutoModel"
   ]
  },
  {
   "cell_type": "code",
   "execution_count": 11,
   "id": "9ee9e5e4",
   "metadata": {},
   "outputs": [],
   "source": [
    "# remove rows if either FINDINGS or IMPRESSION is missing\n",
    "reports_df = reports_df[['Folder', 'PatientID', 'StudyID', 'FINDINGS', 'IMPRESSION']]\n",
    "reports_df = reports_df[~(reports_df['FINDINGS'].isna() & reports_df['IMPRESSION'].isna())]\n",
    "reports_df['TEXT'] = reports_df['FINDINGS'].fillna(\"\")+reports_df['IMPRESSION'].fillna(\"\")"
   ]
  },
  {
   "cell_type": "code",
   "execution_count": 13,
   "id": "453fa13a",
   "metadata": {},
   "outputs": [
    {
     "data": {
      "text/html": [
       "<div>\n",
       "<style scoped>\n",
       "    .dataframe tbody tr th:only-of-type {\n",
       "        vertical-align: middle;\n",
       "    }\n",
       "\n",
       "    .dataframe tbody tr th {\n",
       "        vertical-align: top;\n",
       "    }\n",
       "\n",
       "    .dataframe thead th {\n",
       "        text-align: right;\n",
       "    }\n",
       "</style>\n",
       "<table border=\"1\" class=\"dataframe\">\n",
       "  <thead>\n",
       "    <tr style=\"text-align: right;\">\n",
       "      <th></th>\n",
       "      <th>Folder</th>\n",
       "      <th>PatientID</th>\n",
       "      <th>StudyID</th>\n",
       "      <th>FINDINGS</th>\n",
       "      <th>IMPRESSION</th>\n",
       "      <th>TEXT</th>\n",
       "    </tr>\n",
       "  </thead>\n",
       "  <tbody>\n",
       "    <tr>\n",
       "      <th>0</th>\n",
       "      <td>p18</td>\n",
       "      <td>p18635245</td>\n",
       "      <td>s57591038</td>\n",
       "      <td>The heart size, mediastinal, and hilar contours are normal. The lungs are clear without pleural effusion, focal consolidation, or pneumothorax.</td>\n",
       "      <td>No acute cardiopulmonary process.</td>\n",
       "      <td>The heart size, mediastinal, and hilar contours are normal. The lungs are clear without pleural effusion, focal consolidation, or pneumothorax.No acute cardiopulmonary process.</td>\n",
       "    </tr>\n",
       "    <tr>\n",
       "      <th>1</th>\n",
       "      <td>p18</td>\n",
       "      <td>p18562317</td>\n",
       "      <td>s50002358</td>\n",
       "      <td>None</td>\n",
       "      <td>In comparison with the study of ___, there again are low lung volumes with increased opacification at the bases consistent with pleural effusion and underlying compressive atelectasis. Mild elevation of pulmonary venous pressure is again seen. Left IJ catheter again extends to the mid portion of the SVC. In the absence of a lateral view, superimposed pneumonia would have to be considered in the appropriate clinical setting.</td>\n",
       "      <td>In comparison with the study of ___, there again are low lung volumes with increased opacification at the bases consistent with pleural effusion and underlying compressive atelectasis. Mild elevation of pulmonary venous pressure is again seen. Left IJ catheter again extends to the mid portion of the SVC. In the absence of a lateral view, superimposed pneumonia would have to be considered in the appropriate clinical setting.</td>\n",
       "    </tr>\n",
       "  </tbody>\n",
       "</table>\n",
       "</div>"
      ],
      "text/plain": [
       "  Folder  PatientID    StudyID  \\\n",
       "0    p18  p18635245  s57591038   \n",
       "1    p18  p18562317  s50002358   \n",
       "\n",
       "                                                                                                                                          FINDINGS  \\\n",
       "0  The heart size, mediastinal, and hilar contours are normal. The lungs are clear without pleural effusion, focal consolidation, or pneumothorax.   \n",
       "1                                                                                                                                             None   \n",
       "\n",
       "                                                                                                                                                                                                                                                                                                                                                                                                                                    IMPRESSION  \\\n",
       "0                                                                                                                                                                                                                                                                                                                                                                                                            No acute cardiopulmonary process.   \n",
       "1  In comparison with the study of ___, there again are low lung volumes with increased opacification at the bases consistent with pleural effusion and underlying compressive atelectasis. Mild elevation of pulmonary venous pressure is again seen. Left IJ catheter again extends to the mid portion of the SVC. In the absence of a lateral view, superimposed pneumonia would have to be considered in the appropriate clinical setting.   \n",
       "\n",
       "                                                                                                                                                                                                                                                                                                                                                                                                                                          TEXT  \n",
       "0                                                                                                                                                                                                                                                             The heart size, mediastinal, and hilar contours are normal. The lungs are clear without pleural effusion, focal consolidation, or pneumothorax.No acute cardiopulmonary process.  \n",
       "1  In comparison with the study of ___, there again are low lung volumes with increased opacification at the bases consistent with pleural effusion and underlying compressive atelectasis. Mild elevation of pulmonary venous pressure is again seen. Left IJ catheter again extends to the mid portion of the SVC. In the absence of a lateral view, superimposed pneumonia would have to be considered in the appropriate clinical setting.  "
      ]
     },
     "execution_count": 13,
     "metadata": {},
     "output_type": "execute_result"
    }
   ],
   "source": [
    "reports_df.head(2)"
   ]
  },
  {
   "cell_type": "code",
   "execution_count": 14,
   "id": "67814269",
   "metadata": {},
   "outputs": [
    {
     "data": {
      "text/plain": [
       "(216221, 6)"
      ]
     },
     "execution_count": 14,
     "metadata": {},
     "output_type": "execute_result"
    }
   ],
   "source": [
    "reports_df.shape"
   ]
  },
  {
   "cell_type": "code",
   "execution_count": 14,
   "id": "e361736c",
   "metadata": {},
   "outputs": [],
   "source": [
    "def extract_sents(text): return list(text.sents)"
   ]
  },
  {
   "cell_type": "code",
   "execution_count": 16,
   "id": "60b58642",
   "metadata": {},
   "outputs": [],
   "source": [
    "nlp = spacy.load(\"en_core_sci_md\")"
   ]
  },
  {
   "cell_type": "code",
   "execution_count": 17,
   "id": "cda97d0b",
   "metadata": {},
   "outputs": [
    {
     "data": {
      "text/html": [
       "\n",
       "    <div>\n",
       "        <style>\n",
       "            /* Turns off some styling */\n",
       "            progress {\n",
       "                /* gets rid of default border in Firefox and Opera. */\n",
       "                border: none;\n",
       "                /* Needs to be in here for Safari polyfill so background images work as expected. */\n",
       "                background-size: auto;\n",
       "            }\n",
       "            .progress-bar-interrupted, .progress-bar-interrupted::-webkit-progress-bar {\n",
       "                background: #F44336;\n",
       "            }\n",
       "        </style>\n",
       "      <progress value='216221' class='' max='216221' style='width:300px; height:20px; vertical-align: middle;'></progress>\n",
       "      100.00% [216221/216221 12:17<00:00]\n",
       "    </div>\n",
       "    "
      ],
      "text/plain": [
       "<IPython.core.display.HTML object>"
      ]
     },
     "metadata": {},
     "output_type": "display_data"
    }
   ],
   "source": [
    "texts = reports_df['TEXT']\n",
    "docs = nlp.pipe(texts, batch_size=32, n_process=16)\n",
    "sents = [list(doc.sents) for doc in progress_bar(docs, total=len(texts))]"
   ]
  },
  {
   "cell_type": "code",
   "execution_count": 18,
   "id": "d6d6796d",
   "metadata": {},
   "outputs": [
    {
     "data": {
      "text/plain": [
       "216221"
      ]
     },
     "execution_count": 18,
     "metadata": {},
     "output_type": "execute_result"
    }
   ],
   "source": [
    "len(sents)"
   ]
  },
  {
   "cell_type": "code",
   "execution_count": 60,
   "id": "aa1df109",
   "metadata": {},
   "outputs": [],
   "source": [
    "final_sents = []\n",
    "for r,ss in zip(array(reports_df[['Folder', 'PatientID', 'StudyID']]), sents):\n",
    "    for s in ss:\n",
    "        final_sents.append(list(r)+[str(s)])"
   ]
  },
  {
   "cell_type": "code",
   "execution_count": 62,
   "id": "023f30da",
   "metadata": {},
   "outputs": [],
   "source": [
    "sent_df = pd.DataFrame(final_sents, columns=['Folder', 'PatientID', 'StudyID', 'sentence'])"
   ]
  },
  {
   "cell_type": "code",
   "execution_count": 21,
   "id": "a3586567",
   "metadata": {},
   "outputs": [],
   "source": [
    "tokenizer = AutoTokenizer.from_pretrained(\"emilyalsentzer/Bio_ClinicalBERT\")\n",
    "model = AutoModel.from_pretrained(\"emilyalsentzer/Bio_ClinicalBERT\")"
   ]
  },
  {
   "cell_type": "code",
   "execution_count": 70,
   "id": "57f5b706",
   "metadata": {},
   "outputs": [],
   "source": [
    "def get_num_tokens(sent): return len(tokenizer.encode(sent))"
   ]
  },
  {
   "cell_type": "code",
   "execution_count": null,
   "id": "f4e1bcbf",
   "metadata": {},
   "outputs": [
    {
     "data": {
      "text/html": [
       "\n",
       "    <div>\n",
       "        <style>\n",
       "            /* Turns off some styling */\n",
       "            progress {\n",
       "                /* gets rid of default border in Firefox and Opera. */\n",
       "                border: none;\n",
       "                /* Needs to be in here for Safari polyfill so background images work as expected. */\n",
       "                background-size: auto;\n",
       "            }\n",
       "            .progress-bar-interrupted, .progress-bar-interrupted::-webkit-progress-bar {\n",
       "                background: #F44336;\n",
       "            }\n",
       "        </style>\n",
       "      <progress value='381239' class='' max='1315346' style='width:300px; height:20px; vertical-align: middle;'></progress>\n",
       "      28.98% [381239/1315346 05:47<14:11]\n",
       "    </div>\n",
       "    "
      ],
      "text/plain": [
       "<IPython.core.display.HTML object>"
      ]
     },
     "metadata": {},
     "output_type": "display_data"
    }
   ],
   "source": [
    "num_tokens = parallel(get_num_tokens, sent_df['sentence'].values, progress=True)"
   ]
  },
  {
   "cell_type": "code",
   "execution_count": null,
   "id": "9757943a",
   "metadata": {},
   "outputs": [],
   "source": [
    "sent_df['num_tokens'] = num_tokens\n",
    "sent_df.to_parquet(mimic_path/'cxr_reports_sentences.pqt')\n",
    "sent_df"
   ]
  },
  {
   "cell_type": "markdown",
   "id": "6413736b",
   "metadata": {},
   "source": [
    "### Prepare Images"
   ]
  },
  {
   "cell_type": "code",
   "execution_count": null,
   "id": "c877a7f3",
   "metadata": {},
   "outputs": [],
   "source": []
  },
  {
   "cell_type": "code",
   "execution_count": null,
   "id": "4f8e78c2",
   "metadata": {},
   "outputs": [],
   "source": []
  },
  {
   "cell_type": "code",
   "execution_count": null,
   "id": "20b891d1",
   "metadata": {},
   "outputs": [],
   "source": []
  },
  {
   "cell_type": "code",
   "execution_count": null,
   "id": "ebd52b3b",
   "metadata": {},
   "outputs": [],
   "source": []
  },
  {
   "cell_type": "code",
   "execution_count": null,
   "id": "a5284d2e",
   "metadata": {},
   "outputs": [],
   "source": []
  },
  {
   "cell_type": "code",
   "execution_count": null,
   "id": "bfc50997",
   "metadata": {},
   "outputs": [],
   "source": []
  },
  {
   "cell_type": "code",
   "execution_count": null,
   "id": "e5e553ab",
   "metadata": {},
   "outputs": [],
   "source": []
  },
  {
   "cell_type": "code",
   "execution_count": null,
   "id": "f44d9e13",
   "metadata": {},
   "outputs": [],
   "source": []
  },
  {
   "cell_type": "code",
   "execution_count": null,
   "id": "89248ff9",
   "metadata": {},
   "outputs": [],
   "source": []
  },
  {
   "cell_type": "code",
   "execution_count": null,
   "id": "92884504",
   "metadata": {},
   "outputs": [],
   "source": []
  },
  {
   "cell_type": "code",
   "execution_count": null,
   "id": "f52514f3",
   "metadata": {},
   "outputs": [],
   "source": []
  },
  {
   "cell_type": "code",
   "execution_count": null,
   "id": "9fd3a406",
   "metadata": {},
   "outputs": [],
   "source": []
  },
  {
   "cell_type": "code",
   "execution_count": null,
   "id": "59e0f3af",
   "metadata": {},
   "outputs": [],
   "source": []
  },
  {
   "cell_type": "code",
   "execution_count": null,
   "id": "9098eafb",
   "metadata": {},
   "outputs": [],
   "source": []
  },
  {
   "cell_type": "code",
   "execution_count": null,
   "id": "ce5de479",
   "metadata": {},
   "outputs": [],
   "source": []
  },
  {
   "cell_type": "code",
   "execution_count": null,
   "id": "f1afefdb",
   "metadata": {},
   "outputs": [],
   "source": []
  },
  {
   "cell_type": "code",
   "execution_count": null,
   "id": "9bbdbab5",
   "metadata": {},
   "outputs": [],
   "source": []
  },
  {
   "cell_type": "code",
   "execution_count": null,
   "id": "6a0d4fad",
   "metadata": {},
   "outputs": [],
   "source": []
  },
  {
   "cell_type": "code",
   "execution_count": null,
   "id": "9f33ecde",
   "metadata": {},
   "outputs": [],
   "source": []
  },
  {
   "cell_type": "code",
   "execution_count": null,
   "id": "92409b32",
   "metadata": {},
   "outputs": [],
   "source": []
  }
 ],
 "metadata": {
  "kernelspec": {
   "display_name": "Python 3",
   "language": "python",
   "name": "python3"
  },
  "language_info": {
   "codemirror_mode": {
    "name": "ipython",
    "version": 3
   },
   "file_extension": ".py",
   "mimetype": "text/x-python",
   "name": "python",
   "nbconvert_exporter": "python",
   "pygments_lexer": "ipython3",
   "version": "3.6.9"
  }
 },
 "nbformat": 4,
 "nbformat_minor": 5
}
